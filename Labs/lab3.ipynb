{
  "nbformat": 4,
  "nbformat_minor": 0,
  "metadata": {
    "kernelspec": {
      "display_name": "Python 3",
      "language": "python",
      "name": "python3"
    },
    "language_info": {
      "codemirror_mode": {
        "name": "ipython",
        "version": 3
      },
      "file_extension": ".py",
      "mimetype": "text/x-python",
      "name": "python",
      "nbconvert_exporter": "python",
      "pygments_lexer": "ipython3",
      "version": "3.7.3"
    },
    "colab": {
      "name": "lab3.ipynb",
      "provenance": [],
      "collapsed_sections": []
    }
  },
  "cells": [
    {
      "cell_type": "markdown",
      "metadata": {
        "id": "15VFOSsG9_04",
        "colab_type": "text"
      },
      "source": [
        "# COMP5318 - Machine Learning and Data Mining \n",
        "\n",
        "## Tutorial 3 - Probability"
      ]
    },
    {
      "cell_type": "markdown",
      "metadata": {
        "id": "-Y9LdBKX9_07",
        "colab_type": "text"
      },
      "source": [
        "**Semester 2, 2020**\n",
        "\n",
        "**Objectives:**\n",
        "\n",
        "* To understand continuous and discrete random variables.\n",
        "* To become familiar with random samples.\n",
        "* To become familiar with metrics in Information Theory.\n",
        "\n",
        "\n",
        "**Instructions:**\n",
        "* Exercises to be completed on IPython notebook such as: \n",
        "   * Ipython 3 (Jupyter) notebook installed on your computer http://jupyter.org/install (you need to have Python installed first https://docs.python.org/3/using/index.html )\n",
        "   * Web-based Ipython notebooks such as Google Colaboratory https://colab.research.google.com/ \n",
        "   \n",
        "* If you are using Jupyter intalled on your computer, Go to File->Open. Drag and drop \"lab3.ipynb\" file to the home interface and click upload. \n",
        "* If you are using Google Colaboratory, Click File->Upload notebook, and and upload \"lab3.ipynb\" file\n",
        "* Complete exercises in \"lab3.ipynb\".\n",
        "* To run the cell you can press Ctrl-Enter or hit the Play button at the top.\n",
        "* Complete all exercises marked with **TODO**.\n",
        "* Save your file when you are done with the exercises, so you can show your tutor next week.\n",
        "\n",
        "Lecturers: Nguyen Hoang Tran \n",
        "\n",
        "Tutors: Canh Dinh, Chen Chen, Claire Hardgrove, Fengxiang He, Henry Weld, Yixuan Zhang, Zhiyi Wang, Thomas Selvaraj."
      ]
    },
    {
      "cell_type": "markdown",
      "metadata": {
        "id": "IxxPRmz09_09",
        "colab_type": "text"
      },
      "source": [
        "# 1 Probability Distributions"
      ]
    },
    {
      "cell_type": "markdown",
      "metadata": {
        "id": "Y7qk321t9_0-",
        "colab_type": "text"
      },
      "source": [
        "## 1.1 Continuous random variables"
      ]
    },
    {
      "cell_type": "markdown",
      "metadata": {
        "id": "ZgB1IReN9_1A",
        "colab_type": "text"
      },
      "source": [
        "Some of the methods in scipy.stats library for random variables include,\n",
        "* rvs: Random Variates\n",
        "* pdf/pmf: Probability Density/Mass Function\n",
        "* cdf: Cumulative Distribution Function\n",
        "* stats: Return mean, variance, (Fisher’s) skew, or (Fisher’s) kurtosis\n",
        "* moment: non-central moments of the distribution"
      ]
    },
    {
      "cell_type": "code",
      "metadata": {
        "id": "x9HkOGO89_1C",
        "colab_type": "code",
        "colab": {}
      },
      "source": [
        "import numpy as np\n",
        "import matplotlib.pyplot as pl\n",
        "%matplotlib inline\n",
        "\n",
        "from scipy import stats as st"
      ],
      "execution_count": null,
      "outputs": []
    },
    {
      "cell_type": "code",
      "metadata": {
        "id": "jcwvK73e9_1J",
        "colab_type": "code",
        "colab": {
          "base_uri": "https://localhost:8080/",
          "height": 438
        },
        "outputId": "0225ca96-028d-4ce3-a1b9-9ff172da2eef"
      },
      "source": [
        "mean, sd = 0, 1\n",
        "x = np.linspace(mean - 6*sd, mean + 6*sd, 100)\n",
        "f = st.norm.pdf(x=x, loc=mean, scale=sd)\n",
        "F = st.norm.cdf(x=x, loc=mean, scale=sd)\n",
        "\n",
        "pl.figure(figsize=(10,5))\n",
        "pl.subplot(121)\n",
        "pl.stem(x, f); pl.xlabel('x'); pl.ylabel('f(x)'); pl.title('pdf with mean={} and s.d.={}'.format(mean, sd))\n",
        "pl.subplot(122)\n",
        "pl.stem(x, F); pl.xlabel('x'); pl.ylabel('F(x)'); pl.title('cdf with mean={} and s.d.={}'.format(mean, sd))\n",
        "pl.show()"
      ],
      "execution_count": null,
      "outputs": [
        {
          "output_type": "stream",
          "text": [
            "/usr/local/lib/python3.6/dist-packages/ipykernel_launcher.py:8: UserWarning: In Matplotlib 3.3 individual lines on a stem plot will be added as a LineCollection instead of individual lines. This significantly improves the performance of a stem plot. To remove this warning and switch to the new behaviour, set the \"use_line_collection\" keyword argument to True.\n",
            "  \n",
            "/usr/local/lib/python3.6/dist-packages/ipykernel_launcher.py:10: UserWarning: In Matplotlib 3.3 individual lines on a stem plot will be added as a LineCollection instead of individual lines. This significantly improves the performance of a stem plot. To remove this warning and switch to the new behaviour, set the \"use_line_collection\" keyword argument to True.\n",
            "  # Remove the CWD from sys.path while we load stuff.\n"
          ],
          "name": "stderr"
        },
        {
          "output_type": "display_data",
          "data": {
            "image/png": "[encoded data removed]",
            "text/plain": [
              "<Figure size 720x360 with 2 Axes>"
            ]
          },
          "metadata": {
            "tags": [],
            "needs_background": "light"
          }
        }
      ]
    },
    {
      "cell_type": "markdown",
      "metadata": {
        "id": "L7QkdV3W9_1O",
        "colab_type": "text"
      },
      "source": [
        "**Exercise 1.1.1** Change location and scale parameters (e.g. loc=1, scale=0.25) and observe results."
      ]
    },
    {
      "cell_type": "code",
      "metadata": {
        "id": "GbznstM--GH4",
        "colab_type": "code",
        "colab": {
          "base_uri": "https://localhost:8080/",
          "height": 438
        },
        "outputId": "d4755247-b169-4cf8-abf5-6ff7e529ac30"
      },
      "source": [
        "mean, sd = 1, 0.25\n",
        "x = np.linspace(mean - 6*sd, mean + 6*sd, 100)\n",
        "f = st.norm.pdf(x=x, loc=mean, scale=sd)\n",
        "F = st.norm.cdf(x=x, loc=mean, scale=sd)\n",
        "\n",
        "pl.figure(figsize=(10,5))\n",
        "pl.subplot(121)\n",
        "pl.stem(x, f); pl.xlabel('x'); pl.ylabel('f(x)'); pl.title('pdf with mean={} and s.d.={}'.format(mean, sd))\n",
        "pl.subplot(122)\n",
        "pl.stem(x, F); pl.xlabel('x'); pl.ylabel('F(x)'); pl.title('cdf with mean={} and s.d.={}'.format(mean, sd))\n",
        "pl.show()"
      ],
      "execution_count": null,
      "outputs": [
        {
          "output_type": "stream",
          "text": [
            "/usr/local/lib/python3.6/dist-packages/ipykernel_launcher.py:8: UserWarning: In Matplotlib 3.3 individual lines on a stem plot will be added as a LineCollection instead of individual lines. This significantly improves the performance of a stem plot. To remove this warning and switch to the new behaviour, set the \"use_line_collection\" keyword argument to True.\n",
            "  \n",
            "/usr/local/lib/python3.6/dist-packages/ipykernel_launcher.py:10: UserWarning: In Matplotlib 3.3 individual lines on a stem plot will be added as a LineCollection instead of individual lines. This significantly improves the performance of a stem plot. To remove this warning and switch to the new behaviour, set the \"use_line_collection\" keyword argument to True.\n",
            "  # Remove the CWD from sys.path while we load stuff.\n"
          ],
          "name": "stderr"
        },
        {
          "output_type": "display_data",
          "data": {
            "image/png": "[encoded data removed]",
            "text/plain": [
              "<Figure size 720x360 with 2 Axes>"
            ]
          },
          "metadata": {
            "tags": [],
            "needs_background": "light"
          }
        }
      ]
    },
    {
      "cell_type": "markdown",
      "metadata": {
        "id": "IvzY2pMF9_1P",
        "colab_type": "text"
      },
      "source": [
        "## 1.2 Discrete random variables"
      ]
    },
    {
      "cell_type": "markdown",
      "metadata": {
        "id": "7c3Vbh3w9_1Q",
        "colab_type": "text"
      },
      "source": [
        "**Exercise 1.2.1** In an urn which contains M=100 different currency bills, n=25 bills are Australian dollars. Plot the pmf and cdf if N=15 bills are randomly drawn *without replacement*."
      ]
    },
    {
      "cell_type": "code",
      "metadata": {
        "id": "txXFq8W59_1Q",
        "colab_type": "code",
        "colab": {
          "base_uri": "https://localhost:8080/",
          "height": 279
        },
        "outputId": "15863113-c62c-47c8-81d9-86456c1951b9"
      },
      "source": [
        "#Answer\n",
        "#referenced: https://docs.scipy.org/doc/scipy-0.14.0/reference/generated/scipy.stats.hypergeom.html referenced\n",
        "from scipy.stats import hypergeom\n",
        "M, n, N = 100, 25, 15 #Population, Successes, No of draws\n",
        "x = np.arange(0, n+1)\n",
        "rvs = hypergeom(M, n, N)\n"
      ],
      "execution_count": null,
      "outputs": [
        {
          "output_type": "display_data",
          "data": {
            "image/png": "[encoded data removed]",
            "text/plain": [
              "<Figure size 432x288 with 1 Axes>"
            ]
          },
          "metadata": {
            "tags": [],
            "needs_background": "light"
          }
        }
      ]
    },
    {
      "cell_type": "code",
      "metadata": {
        "id": "KEgNBya9AmYa",
        "colab_type": "code",
        "colab": {
          "base_uri": "https://localhost:8080/",
          "height": 709
        },
        "outputId": "2067f772-4284-469a-bbd0-6b9e365482a6"
      },
      "source": [
        "pmf_aud_bills = rvs.pmf(x)\n",
        "cdf_aud_bills = rvs.cdf(x)\n",
        "\n",
        "pl.figure(figsize=(20,10))\n",
        "pl.subplot(121)\n",
        "pl.stem(x, pmf_aud_bills); pl.xlabel('x'); pl.ylabel('f(x)'); pl.title('pdf if N=15 bills are randomly drawn without replacement.')\n",
        "pl.subplot(122)\n",
        "pl.stem(x, cdf_aud_bills); pl.xlabel('x'); pl.ylabel('F(x)'); pl.title('cdf if N=15 bills are randomly drawn without replacement.')\n",
        "pl.show()\n"
      ],
      "execution_count": null,
      "outputs": [
        {
          "output_type": "stream",
          "text": [
            "/usr/local/lib/python3.6/dist-packages/ipykernel_launcher.py:6: UserWarning: In Matplotlib 3.3 individual lines on a stem plot will be added as a LineCollection instead of individual lines. This significantly improves the performance of a stem plot. To remove this warning and switch to the new behaviour, set the \"use_line_collection\" keyword argument to True.\n",
            "  \n",
            "/usr/local/lib/python3.6/dist-packages/ipykernel_launcher.py:8: UserWarning: In Matplotlib 3.3 individual lines on a stem plot will be added as a LineCollection instead of individual lines. This significantly improves the performance of a stem plot. To remove this warning and switch to the new behaviour, set the \"use_line_collection\" keyword argument to True.\n",
            "  \n"
          ],
          "name": "stderr"
        },
        {
          "output_type": "display_data",
          "data": {
            "image/png": "[encoded data removed]",
            "text/plain": [
              "<Figure size 1440x720 with 2 Axes>"
            ]
          },
          "metadata": {
            "tags": [],
            "needs_background": "light"
          }
        }
      ]
    },
    {
      "cell_type": "markdown",
      "metadata": {
        "id": "jRXV1nvx9_1V",
        "colab_type": "text"
      },
      "source": [
        "#2. Sampling"
      ]
    },
    {
      "cell_type": "markdown",
      "metadata": {
        "id": "sbaIeyRV9_1W",
        "colab_type": "text"
      },
      "source": [
        "## 2.1 Pseudo-random number generators (PRNG)"
      ]
    },
    {
      "cell_type": "markdown",
      "metadata": {
        "id": "yyq2DoOQ9_1W",
        "colab_type": "text"
      },
      "source": [
        "**Exercise 2.1.1** Discuss how random numbers are generated in a computer (Turing machine). "
      ]
    },
    {
      "cell_type": "markdown",
      "metadata": {
        "id": "nOvK6P5kBbKz",
        "colab_type": "text"
      },
      "source": [
        "    Answer:"
      ]
    },
    {
      "cell_type": "markdown",
      "metadata": {
        "id": "3YV9MbdF9_1X",
        "colab_type": "text"
      },
      "source": [
        "## 2.2 Sampling from a distribution"
      ]
    },
    {
      "cell_type": "markdown",
      "metadata": {
        "id": "lukeG5s49_1Y",
        "colab_type": "text"
      },
      "source": [
        "Normal distribution"
      ]
    },
    {
      "cell_type": "code",
      "metadata": {
        "id": "-Ef5b-xw9_1Z",
        "colab_type": "code",
        "colab": {
          "base_uri": "https://localhost:8080/",
          "height": 265
        },
        "outputId": "c1ec1aae-e8cf-4724-f8a0-cab3d4885872"
      },
      "source": [
        "mu, sigma = 0, 0.1 # mean and standard deviation\n",
        "samples = np.random.normal(mu, sigma, 1000) # or use scipy.stats.rvs(size=1000)\n",
        "\n",
        "count, bins, ignored = pl.hist(samples, bins=30, density=True)\n",
        "pl.show()"
      ],
      "execution_count": null,
      "outputs": [
        {
          "output_type": "display_data",
          "data": {
            "image/png": "[encoded data removed]",
            "text/plain": [
              "<Figure size 432x288 with 1 Axes>"
            ]
          },
          "metadata": {
            "tags": [],
            "needs_background": "light"
          }
        }
      ]
    },
    {
      "cell_type": "markdown",
      "metadata": {
        "id": "NQdWTak39_1e",
        "colab_type": "text"
      },
      "source": [
        "Multivaraiate normal"
      ]
    },
    {
      "cell_type": "code",
      "metadata": {
        "id": "248JWWcF9_1g",
        "colab_type": "code",
        "colab": {
          "base_uri": "https://localhost:8080/",
          "height": 279
        },
        "outputId": "9d699476-693e-42a2-b962-77a80f2bf950"
      },
      "source": [
        "mean = (0, 0)\n",
        "cov = [[1, 1], [1, 10]]\n",
        "x, y = np.random.multivariate_normal(mean, cov, 100000).T\n",
        "\n",
        "#pl.scatter(x, y)\n",
        "pl.hist2d(x, y, 25, density=True) #hexbin\n",
        "pl.xlabel('x'); pl.ylabel('y')\n",
        "pl.colorbar()\n",
        "pl.axis('equal')\n",
        "pl.show()\n",
        "del x, y\n"
      ],
      "execution_count": null,
      "outputs": [
        {
          "output_type": "display_data",
          "data": {
            "image/png": "[encoded data removed]",
            "text/plain": [
              "<Figure size 432x288 with 2 Axes>"
            ]
          },
          "metadata": {
            "tags": [],
            "needs_background": "light"
          }
        }
      ]
    },
    {
      "cell_type": "markdown",
      "metadata": {
        "id": "yfyq1j_Z9_1m",
        "colab_type": "text"
      },
      "source": [
        "**Exercise 2.2.1** Observe the probability distribution by varying mean and covariance."
      ]
    },
    {
      "cell_type": "code",
      "metadata": {
        "id": "lZDhmYI-BtTM",
        "colab_type": "code",
        "colab": {
          "base_uri": "https://localhost:8080/",
          "height": 313
        },
        "outputId": "013cf515-11bf-48e7-8cdf-8e046819be98"
      },
      "source": [
        "mean = (np.random.random(1)[0], np.random.random(1)[0])\n",
        "cov = [np.random.random(2), np.random.random(2)]\n",
        "x, y = np.random.multivariate_normal(mean, cov, 100000).T\n",
        "\n",
        "#pl.scatter(x, y)\n",
        "pl.hist2d(x, y, 25, density=True) #hexbin\n",
        "pl.xlabel('x'); pl.ylabel('y')\n",
        "pl.colorbar()\n",
        "pl.axis('equal')\n",
        "pl.show()\n",
        "del x, y"
      ],
      "execution_count": null,
      "outputs": [
        {
          "output_type": "stream",
          "text": [
            "/usr/local/lib/python3.6/dist-packages/ipykernel_launcher.py:3: RuntimeWarning: covariance is not positive-semidefinite.\n",
            "  This is separate from the ipykernel package so we can avoid doing imports until\n"
          ],
          "name": "stderr"
        },
        {
          "output_type": "display_data",
          "data": {
            "image/png": "[encoded data removed]",
            "text/plain": [
              "<Figure size 432x288 with 2 Axes>"
            ]
          },
          "metadata": {
            "tags": [],
            "needs_background": "light"
          }
        }
      ]
    },
    {
      "cell_type": "markdown",
      "metadata": {
        "id": "op2HCTOc9_1n",
        "colab_type": "text"
      },
      "source": [
        "# 3. Information Theory"
      ]
    },
    {
      "cell_type": "markdown",
      "metadata": {
        "id": "Hk5yAz9Y9_1o",
        "colab_type": "text"
      },
      "source": [
        "## 3.1 Entropy "
      ]
    },
    {
      "cell_type": "markdown",
      "metadata": {
        "id": "ZJ1PjHGG9_1o",
        "colab_type": "text"
      },
      "source": [
        "Entropy is a measure of uncertainty.\n",
        "\\begin{equation}\n",
        "    \\mathrm{H}[x] := \\sum_x p(x)log_n \\frac{1}{p(x)} = -\\sum_x p(x)log_n \\big( p(x) \\big)\n",
        "\\end{equation}\n",
        "\n",
        "If n=2, the unit of measurement is in bits."
      ]
    },
    {
      "cell_type": "code",
      "metadata": {
        "id": "a8H5va6b9_1p",
        "colab_type": "code",
        "colab": {
          "base_uri": "https://localhost:8080/",
          "height": 442
        },
        "outputId": "6a1cfa21-1618-4a2a-a3cf-3c665c9713d2"
      },
      "source": [
        "#Observe how Entropy changes with the spread of data \n",
        "X = np.arange(5)\n",
        "Z = Y = X \n",
        "\n",
        "pX = np.array([ 0.2, 0.2, 0.2, 0.2, 0.2])\n",
        "pY = np.array([ 0.2, 0.2, 0.2, 0.15, 0.25])\n",
        "pZ = np.array([ 0.15, 0.35, 0.25, 0.1, 0.15])\n",
        "\n",
        "pl.figure(figsize=(10,5))\n",
        "pl.subplot(131)\n",
        "pl.stem(X, pX) \n",
        "pl.ylabel('p(X)')\n",
        "\n",
        "pl.subplot(132)\n",
        "pl.stem(Y, pY)\n",
        "pl.ylabel('p(Y)')\n",
        "\n",
        "pl.subplot(133)\n",
        "pl.stem(Z, pZ)\n",
        "pl.ylabel('p(Z)')\n",
        "\n",
        "pl.show()\n",
        "\n",
        "def calc_entropy(p):\n",
        "    return -np.sum(p * np.log(p)/np.log(len(p)))\n",
        "\n",
        "print(calc_entropy(pX), calc_entropy(pY), calc_entropy(pZ))"
      ],
      "execution_count": null,
      "outputs": [
        {
          "output_type": "stream",
          "text": [
            "/usr/local/lib/python3.6/dist-packages/ipykernel_launcher.py:11: UserWarning: In Matplotlib 3.3 individual lines on a stem plot will be added as a LineCollection instead of individual lines. This significantly improves the performance of a stem plot. To remove this warning and switch to the new behaviour, set the \"use_line_collection\" keyword argument to True.\n",
            "  # This is added back by InteractiveShellApp.init_path()\n",
            "/usr/local/lib/python3.6/dist-packages/ipykernel_launcher.py:15: UserWarning: In Matplotlib 3.3 individual lines on a stem plot will be added as a LineCollection instead of individual lines. This significantly improves the performance of a stem plot. To remove this warning and switch to the new behaviour, set the \"use_line_collection\" keyword argument to True.\n",
            "  from ipykernel import kernelapp as app\n",
            "/usr/local/lib/python3.6/dist-packages/ipykernel_launcher.py:19: UserWarning: In Matplotlib 3.3 individual lines on a stem plot will be added as a LineCollection instead of individual lines. This significantly improves the performance of a stem plot. To remove this warning and switch to the new behaviour, set the \"use_line_collection\" keyword argument to True.\n"
          ],
          "name": "stderr"
        },
        {
          "output_type": "display_data",
          "data": {
            "image/png": "[encoded data removed]",
            "text/plain": [
              "<Figure size 720x360 with 3 Axes>"
            ]
          },
          "metadata": {
            "tags": [],
            "needs_background": "light"
          }
        },
        {
          "output_type": "stream",
          "text": [
            "1.0 0.9921503172858167 0.9403319177008926\n"
          ],
          "name": "stdout"
        }
      ]
    },
    {
      "cell_type": "markdown",
      "metadata": {
        "id": "YBU4u8Ap9_1t",
        "colab_type": "text"
      },
      "source": [
        "**Exercise 3.1.1** Consider the Bernoulli trial of tossing a coin (unfair coin) with event space X. Let $p(X=1)$ be the probability of obtaining a head. Calculate the entopy for $p(X=1) \\in [0,1]$ and show that entopy decreases as the uncertainty decreases."
      ]
    },
    {
      "cell_type": "code",
      "metadata": {
        "id": "UQSz4ZnC9_1u",
        "colab_type": "code",
        "colab": {
          "base_uri": "https://localhost:8080/",
          "height": 384
        },
        "outputId": "df92a898-0846-41a0-ed48-0611de9bf9cb"
      },
      "source": [
        "#Answer\n",
        "entropy_X = []\n",
        "for prob in range(0, 11):\n",
        "  pX = np.array([prob/10, 1-prob/10])\n",
        "  entropy_X.append(calc_entropy(pX))\n",
        "\n",
        "X = np.arange(0,1.1,0.1)\n",
        "pl.plot(1)\n",
        "pl.xticks(X)\n",
        "pl.stem(X, entropy_X) \n",
        "pl.ylabel('entropy')\n",
        "pl.xlabel('probability of tossing head')"
      ],
      "execution_count": null,
      "outputs": [
        {
          "output_type": "stream",
          "text": [
            "/usr/local/lib/python3.6/dist-packages/ipykernel_launcher.py:25: RuntimeWarning: divide by zero encountered in log\n",
            "/usr/local/lib/python3.6/dist-packages/ipykernel_launcher.py:25: RuntimeWarning: invalid value encountered in multiply\n",
            "/usr/local/lib/python3.6/dist-packages/ipykernel_launcher.py:10: UserWarning: In Matplotlib 3.3 individual lines on a stem plot will be added as a LineCollection instead of individual lines. This significantly improves the performance of a stem plot. To remove this warning and switch to the new behaviour, set the \"use_line_collection\" keyword argument to True.\n",
            "  # Remove the CWD from sys.path while we load stuff.\n"
          ],
          "name": "stderr"
        },
        {
          "output_type": "execute_result",
          "data": {
            "text/plain": [
              "Text(0.5, 0, 'probability of tossing head')"
            ]
          },
          "metadata": {
            "tags": []
          },
          "execution_count": 122
        },
        {
          "output_type": "display_data",
          "data": {
            "image/png": "[encoded data removed]",
            "text/plain": [
              "<Figure size 432x288 with 1 Axes>"
            ]
          },
          "metadata": {
            "tags": [],
            "needs_background": "light"
          }
        }
      ]
    },
    {
      "cell_type": "markdown",
      "metadata": {
        "id": "kjXRbc779_1y",
        "colab_type": "text"
      },
      "source": [
        "## 3.2 Kullback-Leibler (KL) divergence or Relative Entropy"
      ]
    },
    {
      "cell_type": "markdown",
      "metadata": {
        "id": "5hYYrIch9_1y",
        "colab_type": "text"
      },
      "source": [
        "KL divergence measures how dissimilar two probability distributions are.\n",
        "\\begin{equation}\n",
        "    \\mathrm{KL}(p||q) := \\sum_x p(x) log_n \\frac{p(x)}{q(x)}\n",
        "\\end{equation}"
      ]
    },
    {
      "cell_type": "code",
      "metadata": {
        "id": "WZFkGy2t9_1z",
        "colab_type": "code",
        "colab": {
          "base_uri": "https://localhost:8080/",
          "height": 68
        },
        "outputId": "695a2b3d-ce64-4073-e0c8-eff0d1f6c148"
      },
      "source": [
        "def calc_KL(p, q):\n",
        "    return np.sum(pX * (np.log(p/q)/np.log(len(p))))\n",
        "\n",
        "print('KL(p||p)', calc_KL(pX, pX)) #Note min(KL) is zero when iff p=q\n",
        "print('KL(p||q)', calc_KL(pX, pY))\n",
        "print('KL(q||p)', calc_KL(pY, pX)) # Note KL is not symmetric"
      ],
      "execution_count": null,
      "outputs": [
        {
          "output_type": "stream",
          "text": [
            "KL(p||p) 0.0\n",
            "KL(p||q) 0.008020007561517398\n",
            "KL(q||p) -0.008020007561517398\n"
          ],
          "name": "stdout"
        }
      ]
    },
    {
      "cell_type": "markdown",
      "metadata": {
        "id": "cSe1rsmp9_13",
        "colab_type": "text"
      },
      "source": [
        "## 4. Bayes' Rule"
      ]
    },
    {
      "cell_type": "markdown",
      "metadata": {
        "id": "nvscLwrl9_15",
        "colab_type": "text"
      },
      "source": [
        "\\begin{equation}\n",
        "    p(Y=y|X=x) = \\frac{p(X=x|Y=y) p(Y=y)}{\\sum_{y'} p(X=x|Y=y')p(Y=y')}\n",
        "\\end{equation}"
      ]
    },
    {
      "cell_type": "markdown",
      "metadata": {
        "id": "PVFiDBc59_16",
        "colab_type": "text"
      },
      "source": [
        "**Exercise 4.1.1** \n",
        "\n",
        "0.4% of a population is having a particular genetic disorder. In order to test the disorder, a person has undergone a medical test which has a **sensitivity** of 80% (if a person has the disorder, the test result will be positive with a probability of 0.8) and a **false alarm** of 10%. If the test is positive, what is the probability of person the having the particular genetic disorder?"
      ]
    },
    {
      "cell_type": "code",
      "metadata": {
        "id": "PTQsxbbiK4K2",
        "colab_type": "code",
        "colab": {
          "base_uri": "https://localhost:8080/",
          "height": 34
        },
        "outputId": "4216244d-737a-4f9c-c910-d49eb801fe06"
      },
      "source": [
        "pX = 0.4\n",
        "pY_X = 0.8\n",
        "pY_notX = 0.1\n",
        "pY_X = (pX * pY_X) / ((pX * pY_X) + (1- pX) * pY_notX)\n",
        "print(\"The probability of person the having the particular genetic disorder, given the test is positive is:\", pY_X)\n"
      ],
      "execution_count": null,
      "outputs": [
        {
          "output_type": "stream",
          "text": [
            "The probability of person the having the particular genetic disorder, given the test is positive is: 0.8421052631578948\n"
          ],
          "name": "stdout"
        }
      ]
    }
  ]
}