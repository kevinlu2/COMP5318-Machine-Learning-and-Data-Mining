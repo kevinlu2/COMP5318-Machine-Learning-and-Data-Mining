{
  "nbformat": 4,
  "nbformat_minor": 0,
  "metadata": {
    "kernelspec": {
      "display_name": "Python 3",
      "language": "python",
      "name": "python3"
    },
    "language_info": {
      "codemirror_mode": {
        "name": "ipython",
        "version": 3
      },
      "file_extension": ".py",
      "mimetype": "text/x-python",
      "name": "python",
      "nbconvert_exporter": "python",
      "pygments_lexer": "ipython3",
      "version": "3.7.3"
    },
    "colab": {
      "name": "lab4.ipynb",
      "provenance": [],
      "include_colab_link": true
    }
  },
  "cells": [
    {
      "cell_type": "markdown",
      "metadata": {
        "id": "view-in-github",
        "colab_type": "text"
      },
      "source": [
        "<a href=\"https://colab.research.google.com/github/kevinlu2/COMP5318-Machine-Learning-and-Data-Mining/blob/master/Labs/Lab4/lab4.ipynb\" target=\"_parent\"><img src=\"https://colab.research.google.com/assets/colab-badge.svg\" alt=\"Open In Colab\"/></a>"
      ]
    },
    {
      "cell_type": "markdown",
      "metadata": {
        "id": "kX1LtUtvlLVO",
        "colab_type": "text"
      },
      "source": [
        "# COMP5318 - Machine Learning and Data Mining \n",
        "\n",
        "## Tutorial 5 - Classification I"
      ]
    },
    {
      "cell_type": "markdown",
      "metadata": {
        "id": "88BhKKU3lLVT",
        "colab_type": "text"
      },
      "source": [
        "**Semester 2, 2020**\n",
        "\n",
        "**Objectives:**\n",
        "\n",
        "* To learn about k-NN classification algorithm. \n",
        "* To learn about bag of words features and naïve Bayes classifier.\n",
        "* To evaluate classification performance measures.\n",
        "\n",
        "**Instructions:**\n",
        "* Exercises to be completed on IPython notebook such as: \n",
        "   * Ipython 3 (Jupyter) notebook installed on your computer http://jupyter.org/install (you need to have Python installed first https://docs.python.org/3/using/index.html )\n",
        "   * Web-based Ipython notebooks such as Google Colaboratory https://colab.research.google.com/ \n",
        "   \n",
        "* If you are using Jupyter intalled on your computer, Go to File->Open. Drag and drop \"lab5.ipynb\" file to the home interface and click upload. \n",
        "* If you are using Google Colaboratory, Click File->Upload notebook, and and upload \"lab5.ipynb\" file\n",
        "* Complete exercises in \"lab5.ipynb\".\n",
        "* To run the cell you can press Ctrl-Enter or hit the Play button at the top.\n",
        "* Complete all exercises marked with **TODO**.\n",
        "* Save your file when you are done with the exercises, so you can show your tutor next week.\n",
        "\n",
        "Lecturers: Nguyen Hoang Tran \n",
        "\n",
        "Tutors: Canh Dinh, Chen Chen, Claire Hardgrove, Fengxiang He, Henry Weld, Yixuan Zhang, Zhiyi Wang, Thomas Selvaraj."
      ]
    },
    {
      "cell_type": "markdown",
      "metadata": {
        "id": "VNFtNY4xlLVX",
        "colab_type": "text"
      },
      "source": [
        "## 1. k-nearest neighbors (k-NN) classification algorithm"
      ]
    },
    {
      "cell_type": "markdown",
      "metadata": {
        "id": "HT2D-it5lLVZ",
        "colab_type": "text"
      },
      "source": [
        "#### Toy Example"
      ]
    },
    {
      "cell_type": "code",
      "metadata": {
        "id": "rPUFW3WLlLVb",
        "colab_type": "code",
        "colab": {}
      },
      "source": [
        "import numpy as np\n",
        "import matplotlib.pylab as pl\n",
        "%matplotlib inline"
      ],
      "execution_count": 1,
      "outputs": []
    },
    {
      "cell_type": "markdown",
      "metadata": {
        "id": "8j96bZFklLVm",
        "colab_type": "text"
      },
      "source": [
        "*Step 1:* **Loading data**"
      ]
    },
    {
      "cell_type": "code",
      "metadata": {
        "id": "pJBrg4pulLVo",
        "colab_type": "code",
        "colab": {
          "base_uri": "https://localhost:8080/",
          "height": 493
        },
        "outputId": "0b3b8cd4-a159-40ab-dacc-c9aaf0013450"
      },
      "source": [
        "X = np.asarray(([2,1,3,5,3,10,9,5,8,11,15,13,16],[1,0,3,5,2,12,11,10,7,9,11,15,16])).T\n",
        "y = np.asarray([0,0,0,0,0,1,1,1,1,1,2,2,2])[:,np.newaxis]  # np.asarray([0,0,0,0,0,1,1,1,1,1,2,2,2])[:,None] - column vector\n",
        "\n",
        "print('X=\\n',X)\n",
        "print('y=\\n',y)"
      ],
      "execution_count": 2,
      "outputs": [
        {
          "output_type": "stream",
          "text": [
            "X=\n",
            " [[ 2  1]\n",
            " [ 1  0]\n",
            " [ 3  3]\n",
            " [ 5  5]\n",
            " [ 3  2]\n",
            " [10 12]\n",
            " [ 9 11]\n",
            " [ 5 10]\n",
            " [ 8  7]\n",
            " [11  9]\n",
            " [15 11]\n",
            " [13 15]\n",
            " [16 16]]\n",
            "y=\n",
            " [[0]\n",
            " [0]\n",
            " [0]\n",
            " [0]\n",
            " [0]\n",
            " [1]\n",
            " [1]\n",
            " [1]\n",
            " [1]\n",
            " [1]\n",
            " [2]\n",
            " [2]\n",
            " [2]]\n"
          ],
          "name": "stdout"
        }
      ]
    },
    {
      "cell_type": "code",
      "metadata": {
        "id": "Im_oKaIPlLV8",
        "colab_type": "code",
        "colab": {
          "base_uri": "https://localhost:8080/",
          "height": 265
        },
        "outputId": "3bb27058-3688-4d96-9d7f-6a264ed94978"
      },
      "source": [
        "N = len(y)\n",
        "\n",
        "X_q = np.asarray(([4.5],[5])).T #query point\n",
        "\n",
        "pos_of_class0 = np.where(y==0)[0] #class 0 points\n",
        "pos_of_class1 = np.where(y==1)[0] #class 1 points\n",
        "pos_of_class2 = np.where(y==2)[0] #class 2 points\n",
        "\n",
        "pl.scatter(X[pos_of_class0,0], X[pos_of_class0,1], c='r') #class = 0\n",
        "pl.scatter(X[pos_of_class1,0], X[pos_of_class1,1], c='g') #class = 1\n",
        "pl.scatter(X[pos_of_class2,0], X[pos_of_class2,1], c='b') #class = 2\n",
        "pl.scatter(X_q[:,0], X_q[:,1], marker='*', s=100, c='k') #class to be determined\n",
        "for i in range(N): \n",
        "    pl.scatter(X[i,0]+0.4, X[i,1]-0.5, s=100, marker=\"$ {} $\".format(i)) #positions "
      ],
      "execution_count": 3,
      "outputs": [
        {
          "output_type": "display_data",
          "data": {
            "image/png": "[encoded data removed]",
            "text/plain": [
              "<Figure size 432x288 with 1 Axes>"
            ]
          },
          "metadata": {
            "tags": [],
            "needs_background": "light"
          }
        }
      ]
    },
    {
      "cell_type": "markdown",
      "metadata": {
        "id": "0cNv-ILGlLWG",
        "colab_type": "text"
      },
      "source": [
        "*Step 2:* **Determining the nearest neighbors**"
      ]
    },
    {
      "cell_type": "code",
      "metadata": {
        "id": "Zln0S-CslLWI",
        "colab_type": "code",
        "colab": {
          "base_uri": "https://localhost:8080/",
          "height": 102
        },
        "outputId": "4c3bae01-3a22-4eba-8ac8-a18a52e3b7e6"
      },
      "source": [
        "dis = ((X - X_q)**2).sum(axis=1) #calculate distance between X_q and each training point\n",
        "arg_ascending = np.argsort(dis) #arrange distances in the ascending order\n",
        "\n",
        "np.set_printoptions(precision=3)\n",
        "print('Distance between X_q and each training point= \\n', dis)\n",
        "print('Index of nearest neighbors in training data=\\n', arg_ascending) #Check the plot in Step 1"
      ],
      "execution_count": 4,
      "outputs": [
        {
          "output_type": "stream",
          "text": [
            "Distance between X_q and each training point= \n",
            " [2.225e+01 3.725e+01 6.250e+00 2.500e-01 1.125e+01 7.925e+01 5.625e+01\n",
            " 2.525e+01 1.625e+01 5.825e+01 1.462e+02 1.722e+02 2.532e+02]\n",
            "Index of nearest neighbors in training data=\n",
            " [ 3  2  4  8  0  7  1  6  9  5 10 11 12]\n"
          ],
          "name": "stdout"
        }
      ]
    },
    {
      "cell_type": "markdown",
      "metadata": {
        "id": "ed9qWd0-lLWS",
        "colab_type": "text"
      },
      "source": [
        "*Step 3:* **Determining the classes of k-nearest neighbors**"
      ]
    },
    {
      "cell_type": "code",
      "metadata": {
        "id": "KLwevA5IlLWT",
        "colab_type": "code",
        "colab": {
          "base_uri": "https://localhost:8080/",
          "height": 102
        },
        "outputId": "0ebc8057-a510-49e9-c894-754bcd057521"
      },
      "source": [
        "K = 5 #Let us consider 5-nearest neighbors \n",
        "\n",
        "classes = np.zeros(3)\n",
        "for i in range(K):\n",
        "    if y[arg_ascending[i]]==0: #class = 0\n",
        "        print(i, 'th nearest neighbor belongs to class 0.')\n",
        "        classes[0] += 1\n",
        "    elif y[arg_ascending[i]]==1: #class = 1\n",
        "        print(i, 'th nearest neighbor belongs to class 1.')\n",
        "        classes[1] += 1\n",
        "    elif y[arg_ascending[i]]==2: #class = 2\n",
        "        print(i, 'th nearest neighbor belongs to class 2.')\n",
        "        classes[2] += 1\n",
        "    else:\n",
        "        print('Error - Invalid class')"
      ],
      "execution_count": 5,
      "outputs": [
        {
          "output_type": "stream",
          "text": [
            "0 th nearest neighbor belongs to class 0.\n",
            "1 th nearest neighbor belongs to class 0.\n",
            "2 th nearest neighbor belongs to class 0.\n",
            "3 th nearest neighbor belongs to class 1.\n",
            "4 th nearest neighbor belongs to class 0.\n"
          ],
          "name": "stdout"
        }
      ]
    },
    {
      "cell_type": "markdown",
      "metadata": {
        "id": "fI_mhXy6lLWe",
        "colab_type": "text"
      },
      "source": [
        "*Step 4:* **Determining the class of X_q**"
      ]
    },
    {
      "cell_type": "code",
      "metadata": {
        "id": "05gSIQh5lLWf",
        "colab_type": "code",
        "colab": {
          "base_uri": "https://localhost:8080/",
          "height": 68
        },
        "outputId": "7901384e-6d29-4412-b4aa-5d18e92dcddb"
      },
      "source": [
        "prob = classes/K\n",
        "\n",
        "print('classes', classes)\n",
        "print('probabilities=', prob)\n",
        "print('ANSWER: X_q blongs to', np.argmax(prob), 'th class!')"
      ],
      "execution_count": 6,
      "outputs": [
        {
          "output_type": "stream",
          "text": [
            "classes [4. 1. 0.]\n",
            "probabilities= [0.8 0.2 0. ]\n",
            "ANSWER: X_q blongs to 0 th class!\n"
          ],
          "name": "stdout"
        }
      ]
    },
    {
      "cell_type": "markdown",
      "metadata": {
        "id": "2SpfWnYElLWm",
        "colab_type": "text"
      },
      "source": [
        "### Decision Surface "
      ]
    },
    {
      "cell_type": "code",
      "metadata": {
        "id": "06Ge4uYdlLWn",
        "colab_type": "code",
        "colab": {}
      },
      "source": [
        "def calc_knn(X, y, K, X_q):\n",
        "    dis = ((X - X_q)**2).sum(axis=1) #calculate distance between X_q and each training point\n",
        "    arg_ascending = np.argsort(dis)\n",
        "    \n",
        "    classes = np.zeros(3)\n",
        "    for i in range(K):\n",
        "        if y[arg_ascending[i]]==0: #class = 0\n",
        "            classes[0] += 1\n",
        "        elif y[arg_ascending[i]]==1: #class = 1\n",
        "            classes[1] += 1\n",
        "        elif y[arg_ascending[i]]==2: #class = 2\n",
        "            classes[2] += 1\n",
        "        else:\n",
        "            print('Error - Invalid class')\n",
        "            \n",
        "    return np.argmax(classes)"
      ],
      "execution_count": 16,
      "outputs": []
    },
    {
      "cell_type": "code",
      "metadata": {
        "id": "iINtXOfzlLWv",
        "colab_type": "code",
        "colab": {
          "base_uri": "https://localhost:8080/",
          "height": 281
        },
        "outputId": "d3cfec05-a71b-4351-ff12-adfce9babf42"
      },
      "source": [
        "for i in range(20):\n",
        "    for j in range(20):\n",
        "        X_q = np.asarray(([i],[j])).T #query point\n",
        "        class_out = calc_knn(X, y, 4, X_q)\n",
        "        \n",
        "        if class_out ==0:\n",
        "            pl.scatter(X_q[:,0], X_q[:,1], s=50, c='r')\n",
        "        elif class_out ==1:\n",
        "            pl.scatter(X_q[:,0], X_q[:,1], s=50, c='g')\n",
        "        else:\n",
        "            pl.scatter(X_q[:,0], X_q[:,1], s=50, c='b')\n",
        "            \n",
        "pl.title('Decision surface')\n",
        "pl.show()"
      ],
      "execution_count": 17,
      "outputs": [
        {
          "output_type": "display_data",
          "data": {
            "image/png": "[encoded data removed]",
            "text/plain": [
              "<Figure size 432x288 with 1 Axes>"
            ]
          },
          "metadata": {
            "tags": [],
            "needs_background": "light"
          }
        }
      ]
    },
    {
      "cell_type": "markdown",
      "metadata": {
        "id": "XN4WLWPGlLW2",
        "colab_type": "text"
      },
      "source": [
        "**Exercise 1.1 (optional):** Plot *p(class=0|Data, K)*, *p(class=1|Data, K)* and *p(class=2|Data, K)*."
      ]
    },
    {
      "cell_type": "markdown",
      "metadata": {
        "id": "_CSUkUnSlLW2",
        "colab_type": "text"
      },
      "source": [
        "### Confusion Matrix"
      ]
    },
    {
      "cell_type": "code",
      "metadata": {
        "id": "vlcF2vInlLW3",
        "colab_type": "code",
        "colab": {
          "base_uri": "https://localhost:8080/",
          "height": 34
        },
        "outputId": "50b04f3e-1ce6-4c6f-d1f1-66b834dbe287"
      },
      "source": [
        "import pandas as pd\n",
        "g = pd.read_csv('training.csv',delimiter=',').values\n",
        "X = np.float_(g[:,0:2])\n",
        "y = np.float_(g[:,2:3])\n",
        "print(X.shape, y.shape)"
      ],
      "execution_count": 11,
      "outputs": [
        {
          "output_type": "stream",
          "text": [
            "(150, 2) (150, 1)\n"
          ],
          "name": "stdout"
        }
      ]
    },
    {
      "cell_type": "code",
      "metadata": {
        "id": "hoEYzg9_lLW7",
        "colab_type": "code",
        "colab": {
          "base_uri": "https://localhost:8080/",
          "height": 404
        },
        "outputId": "87215a45-cd50-4cdc-fe47-42dd107a1324"
      },
      "source": [
        "N = len(y)\n",
        "\n",
        "pos_of_class0 = np.where(y==0)[0] #positions of class 0\n",
        "pos_of_class1 = np.where(y==1)[0] #positions of class 1\n",
        "pos_of_class2 = np.where(y==2)[0] #positions of class 2\n",
        "\n",
        "pl.scatter(X[pos_of_class0,0], X[pos_of_class0,1], c='r', edgecolor='') #class = 0\n",
        "pl.scatter(X[pos_of_class1,0], X[pos_of_class1,1], c='g', edgecolor='') #class = 1\n",
        "pl.scatter(X[pos_of_class2,0], X[pos_of_class2,1], c='b', edgecolor='') #class = 2"
      ],
      "execution_count": 12,
      "outputs": [
        {
          "output_type": "stream",
          "text": [
            "/usr/local/lib/python3.6/dist-packages/ipykernel_launcher.py:7: MatplotlibDeprecationWarning: Using a string of single character colors as a color sequence is deprecated. Use an explicit list instead.\n",
            "  import sys\n",
            "/usr/local/lib/python3.6/dist-packages/ipykernel_launcher.py:8: MatplotlibDeprecationWarning: Using a string of single character colors as a color sequence is deprecated. Use an explicit list instead.\n",
            "  \n",
            "/usr/local/lib/python3.6/dist-packages/ipykernel_launcher.py:9: MatplotlibDeprecationWarning: Using a string of single character colors as a color sequence is deprecated. Use an explicit list instead.\n",
            "  if __name__ == '__main__':\n"
          ],
          "name": "stderr"
        },
        {
          "output_type": "execute_result",
          "data": {
            "text/plain": [
              "<matplotlib.collections.PathCollection at 0x7fc2bc319898>"
            ]
          },
          "metadata": {
            "tags": []
          },
          "execution_count": 12
        },
        {
          "output_type": "display_data",
          "data": {
            "image/png": "[encoded data removed]",
            "text/plain": [
              "<Figure size 432x288 with 1 Axes>"
            ]
          },
          "metadata": {
            "tags": [],
            "needs_background": "light"
          }
        }
      ]
    },
    {
      "cell_type": "markdown",
      "metadata": {
        "id": "oYdW5rszlLXF",
        "colab_type": "text"
      },
      "source": [
        "**Exercise 1.2.** Determine the class of X_q data in test.csv. Hence develop the confusion matrix"
      ]
    },
    {
      "cell_type": "code",
      "metadata": {
        "id": "ftnpDvPKlLXG",
        "colab_type": "code",
        "colab": {}
      },
      "source": [
        "import pandas as pd\n",
        "g_test = pd.read_csv('test.csv',delimiter=',').values\n",
        "X_test = np.float_(g_test[:,0:2])\n",
        "y_test = np.float_(g_test[:,2:3])"
      ],
      "execution_count": 14,
      "outputs": []
    },
    {
      "cell_type": "code",
      "metadata": {
        "id": "eFwxTxs5lLXN",
        "colab_type": "code",
        "colab": {
          "base_uri": "https://localhost:8080/",
          "height": 68
        },
        "outputId": "1b85df11-d29f-4324-c44b-801de88821fd"
      },
      "source": [
        "out_class = np.empty((len(y_test),1))\n",
        "for i in range(len(y_test)):\n",
        "    out_class[i,0] = calc_knn(X, y, 4, X_test[i,:])\n",
        "\n",
        "#print(np.hstack((out_class,y_test)))\n",
        "#TODO\n",
        "pair = np.hstack((out_class,y_test))\n",
        "pair = pair.astype(int)\n",
        "confusion_matrix = np.zeros((3,3))\n",
        "\n",
        "for i in pair:\n",
        "  confusion_matrix[i[1], i[0]] += 1\n",
        "print(confusion_matrix)\n"
      ],
      "execution_count": 19,
      "outputs": [
        {
          "output_type": "stream",
          "text": [
            "[[17.  3.  0.]\n",
            " [ 1. 19.  0.]\n",
            " [ 0.  1. 19.]]\n"
          ],
          "name": "stdout"
        }
      ]
    },
    {
      "cell_type": "code",
      "metadata": {
        "id": "p0pZ4mhOsrpX",
        "colab_type": "code",
        "colab": {}
      },
      "source": [
        "from sklearn.metrics import confusion_matrix\n",
        "confusion_matrix(y_test, out_class)"
      ],
      "execution_count": null,
      "outputs": []
    },
    {
      "cell_type": "markdown",
      "metadata": {
        "id": "BaT7Skk7lLXR",
        "colab_type": "text"
      },
      "source": [
        "## Naïve Bayes Classifier (NBC)"
      ]
    },
    {
      "cell_type": "markdown",
      "metadata": {
        "id": "JwJgvXkxlLXS",
        "colab_type": "text"
      },
      "source": [
        "Bayesian inference is based on,\n",
        "\n",
        "\\begin{equation}\n",
        "    posterior = \\frac{likelihood \\times prior}{evidence}\n",
        "\\end{equation}\n",
        "\n",
        "The main assumption in naïve Bayes is ***conditional independence***.\n",
        "\n",
        "The naïve Bayes classifier (NBC) is given by,\n",
        "\\begin{equation}\n",
        "    \\hat{y} = \\text{argmax}_{k \\in {1,2,...K}} \\Big( p(C_k) \\prod_{j=1}^D p(x_j|C_k) \\Big) \\in \\{C_k\\}_{k=1}^K\n",
        "\\end{equation}\n",
        "\n",
        "where $C_k$ is the $k^{th}$ class when there are $K$ classes. If $K=2$, i.e. $k \\in \\{1,2\\}$, then the classifier is called a binary classifier."
      ]
    },
    {
      "cell_type": "markdown",
      "metadata": {
        "collapsed": true,
        "id": "UeVGeLe6lLXT",
        "colab_type": "text"
      },
      "source": [
        "Let us consider a simple spam filtering algorithm based on the Nave bayes binary classifier..\n",
        "\n",
        "The following algorithm is only for demonstration. It can be developed more efficiently. Read Section 3.5 of Machine Learning Kevin by P. Murphy for more information."
      ]
    },
    {
      "cell_type": "markdown",
      "metadata": {
        "id": "54-rrrEKlLXT",
        "colab_type": "text"
      },
      "source": [
        "*Step 1:* **Define training data and vocabulary.**"
      ]
    },
    {
      "cell_type": "code",
      "metadata": {
        "id": "Wy47dHU8lLXU",
        "colab_type": "code",
        "colab": {}
      },
      "source": [
        "import numpy as np\n",
        "\n",
        "spam = [['million dollar offer'],\n",
        "        ['secret offer today'],\n",
        "        ['send your password online to win one million'],\n",
        "        ['send ten dollar to win million dollar'],\n",
        "        ['confirm your secret password to win monthly gifts']]\n",
        "\n",
        "ham =[['christmas offer for our valued qantas customer'],\n",
        "      ['confirm your monthly bill online or by calling to customer services'],\n",
        "      ['win by booking it using qantas points'],\n",
        "      ['dear customer : confirm your booking']]\n",
        "\n",
        "voc = ['million', 'dollar', 'offer', 'send', 'password', 'win', 'customer', 'booking', 'bill', \n",
        "       'online', 'monthly', 'qantas', 'confirm']\n",
        "\n",
        "#Note: some sentences are deformed for simplicity. "
      ],
      "execution_count": null,
      "outputs": []
    },
    {
      "cell_type": "markdown",
      "metadata": {
        "id": "v2GFXgzilLXZ",
        "colab_type": "text"
      },
      "source": [
        "*Step 2*: **Calculate class probabilities.**"
      ]
    },
    {
      "cell_type": "code",
      "metadata": {
        "id": "03ie6GIzlLXb",
        "colab_type": "code",
        "colab": {}
      },
      "source": [
        "def calc_class_prob(cat, voc): #cat=ham or spam  and voc=voc\n",
        "    class_prob = np.zeros((len(voc),1)) #define a 'zeros' array to store class probabilities\n",
        "    for ith_class_email in cat: #for each email in cat\n",
        "        words_in_ith_class_email = ith_class_email[0].split() #split the ith email into words\n",
        "        words_in_ith_class_email = list(set(words_in_ith_class_email)) #remove duplicated words\n",
        "        for word in words_in_ith_class_email: #for each word in the splitted email\n",
        "            i = 0\n",
        "            for voc_word in voc: #for each element in voc\n",
        "                if voc_word in word:\n",
        "                    class_prob[i] += 1 # incrmenet the ith element of class_prob, if voc element is in word\n",
        "                i += 1\n",
        "    return class_prob/len(cat) #divide the count by length of cat"
      ],
      "execution_count": null,
      "outputs": []
    },
    {
      "cell_type": "code",
      "metadata": {
        "id": "tpZVFNzAlLXh",
        "colab_type": "code",
        "colab": {}
      },
      "source": [
        "ham_class_prob = calc_class_prob(ham, voc)\n",
        "spam_class_prob = calc_class_prob(spam, voc)\n",
        "\n",
        "print(ham_class_prob)\n",
        "print(spam_class_prob)"
      ],
      "execution_count": null,
      "outputs": []
    },
    {
      "cell_type": "markdown",
      "metadata": {
        "id": "m7y58-kilLXs",
        "colab_type": "text"
      },
      "source": [
        "*Step 3:* **Determine if words in a new email are in the vocabulary.**"
      ]
    },
    {
      "cell_type": "code",
      "metadata": {
        "id": "fp8phS8ElLXu",
        "colab_type": "code",
        "colab": {}
      },
      "source": [
        "new = ['win online offer'] #new email\n",
        "\n",
        "prob_vector = np.zeros((len(voc)), dtype=bool) #define a 'True' array to store class probabilities\n",
        "words_in_new = new[0].split() #split the new email into words\n",
        "words_in_new = list(set(words_in_new)) #remove duplicated words\n",
        "i = 0\n",
        "for voc_word in voc: #for each element in voc\n",
        "    if voc_word in words_in_new: \n",
        "        prob_vector[i] = True #set the ith element of prob_vector to True, if voc element is in word\n",
        "    else:\n",
        "        prob_vector[i] = False #set the ith element of prob_vector to False, otherwise\n",
        "    i += 1\n",
        "print(prob_vector)"
      ],
      "execution_count": null,
      "outputs": []
    },
    {
      "cell_type": "markdown",
      "metadata": {
        "id": "99sXAGwilLXz",
        "colab_type": "text"
      },
      "source": [
        "*Step 4:* **Considering independence, calculate the probabilities that word in the new email appear in i) ham messages ii) spam messages**"
      ]
    },
    {
      "cell_type": "code",
      "metadata": {
        "id": "21PZU6NFlLX0",
        "colab_type": "code",
        "colab": {}
      },
      "source": [
        "prob_ham = 1\n",
        "for i in range(len(prob_vector)):\n",
        "    if prob_vector[i] == True:\n",
        "        prob_ham *= ham_class_prob[i]\n",
        "    else:\n",
        "        prob_ham *= (1 - ham_class_prob[i])\n",
        "#alternative: np.prod(ham_class_prob[np.where(prob_vector==True)]) * np.prod(1-ham_class_prob[np.where(prob_vector==False)])\n",
        "        \n",
        "prob_spam = 1\n",
        "for i in range(len(prob_vector)):\n",
        "    if prob_vector[i] == True:\n",
        "        prob_spam *= spam_class_prob[i]\n",
        "    else:\n",
        "        prob_spam *= (1 - spam_class_prob[i])\n",
        "\n",
        "print(prob_ham, prob_spam)"
      ],
      "execution_count": null,
      "outputs": []
    },
    {
      "cell_type": "markdown",
      "metadata": {
        "id": "MzqsfB9BlLX5",
        "colab_type": "text"
      },
      "source": [
        "*Step 5:* **If 30% of emails are typically spams, calculate the probability that the *new* email is a spam.**"
      ]
    },
    {
      "cell_type": "code",
      "metadata": {
        "id": "F89NcWkwlLX6",
        "colab_type": "code",
        "colab": {}
      },
      "source": [
        "p_spam = 0.3\n",
        "p_ham = 1 - p_spam\n",
        "\n",
        "p_spam_given_new = (prob_spam*p_spam)/(prob_spam*p_spam + prob_ham*p_ham) #Bayes theorem\n",
        "print('p(spam|new_email)=', p_spam_given_new[0])"
      ],
      "execution_count": null,
      "outputs": []
    },
    {
      "cell_type": "markdown",
      "metadata": {
        "id": "O0RRYY7mlLX_",
        "colab_type": "text"
      },
      "source": [
        "## Classifier Performance"
      ]
    },
    {
      "cell_type": "markdown",
      "metadata": {
        "id": "n_WuoWeVlLX_",
        "colab_type": "text"
      },
      "source": [
        "\\begin{equation}\n",
        "    Accuracy = \\frac{TP+TN}{TP+TN+FP+FN}\n",
        "\\end{equation}\n",
        "\n",
        "\\begin{equation}\n",
        "    Precision (p) = \\frac{TP}{TP+FP}\n",
        "\\end{equation}\n",
        "\n",
        "\\begin{equation}\n",
        "    Recall (r) = \\frac{TP}{TP+FN}\n",
        "\\end{equation}\n",
        "\n",
        "\\begin{equation}\n",
        "    F\\_measure (F) = \\frac{2rp}{r+p} = \\frac{2TP}{2TP+FN+FP}\n",
        "\\end{equation}\n",
        "\n",
        "\\begin{equation}\n",
        "    TPR = \\frac{TP}{TP+FN} \n",
        "\\end{equation}\n",
        "\n",
        "\\begin{equation}\n",
        "    FPR = \\frac{FP}{FP+TN} \n",
        "\\end{equation}\n",
        "\n",
        "Receiver Operating Characteristic (ROC) is a plot of TPR vs FPR. \n",
        "\n",
        "Note that area=0.5 for random guess and area=1 for an idean classifier."
      ]
    },
    {
      "cell_type": "markdown",
      "metadata": {
        "id": "fhrFZ93slLYA",
        "colab_type": "text"
      },
      "source": [
        "**Exercise 2.1:** Develop the confusion matrix and calculate precision, recall and F-measure based on the following test set. Calculate the area under Receiver Operating Characteristic (ROC)."
      ]
    },
    {
      "cell_type": "markdown",
      "metadata": {
        "id": "j0QR46zflLYA",
        "colab_type": "text"
      },
      "source": [
        "Refer: \n",
        "       https://ccrma.stanford.edu/workshops/mir2009/references/ROCintro.pdf\n",
        "       http://scikit-learn.org/stable/modules/generated/sklearn.metrics.roc_curve.html"
      ]
    },
    {
      "cell_type": "code",
      "metadata": {
        "id": "ogC3zSsmlLYB",
        "colab_type": "code",
        "colab": {}
      },
      "source": [
        "spam = [['secret million dollar'],\n",
        "        ['secret offer today']]\n",
        "\n",
        "ham =[['confirm christmas'],\n",
        "      ['qantas monthly booking']]\n",
        "\n",
        "#TODO\n",
        "#Step 1: Construct a method to obtain the confusion matrix for a binary classifier for a given threshold\n",
        "#Step 2: Call the method in Step 1 for different threshold values and hence calculate tpr and fpr"
      ],
      "execution_count": null,
      "outputs": []
    },
    {
      "cell_type": "markdown",
      "metadata": {
        "id": "OgiNYt5alLYD",
        "colab_type": "text"
      },
      "source": [
        "**Exercise 2.2 (optional):**  Extend the NBC to Bernoulli/Gaussian naive Bayes classifier by considering the full Bayesian treatment. "
      ]
    }
  ]
}