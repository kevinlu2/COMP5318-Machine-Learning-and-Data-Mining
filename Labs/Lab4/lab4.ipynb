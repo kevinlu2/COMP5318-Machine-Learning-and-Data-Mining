{
  "nbformat": 4,
  "nbformat_minor": 0,
  "metadata": {
    "kernelspec": {
      "display_name": "Python 3",
      "language": "python",
      "name": "python3"
    },
    "language_info": {
      "codemirror_mode": {
        "name": "ipython",
        "version": 3
      },
      "file_extension": ".py",
      "mimetype": "text/x-python",
      "name": "python",
      "nbconvert_exporter": "python",
      "pygments_lexer": "ipython3",
      "version": "3.7.4-final"
    },
    "colab": {
      "name": "lab4.ipynb",
      "provenance": [],
      "include_colab_link": true
    }
  },
  "cells": [
    {
      "cell_type": "markdown",
      "metadata": {
        "id": "view-in-github",
        "colab_type": "text"
      },
      "source": [
        "<a href=\"https://colab.research.google.com/github/kevinlu2/COMP5318-Machine-Learning-and-Data-Mining/blob/master/Labs/Lab4/lab4.ipynb\" target=\"_parent\"><img src=\"https://colab.research.google.com/assets/colab-badge.svg\" alt=\"Open In Colab\"/></a>"
      ]
    },
    {
      "cell_type": "markdown",
      "metadata": {
        "id": "kX1LtUtvlLVO",
        "colab_type": "text"
      },
      "source": [
        "# COMP5318 - Machine Learning and Data Mining \n",
        "\n",
        "## Tutorial 5 - Classification I"
      ]
    },
    {
      "cell_type": "markdown",
      "metadata": {
        "id": "88BhKKU3lLVT",
        "colab_type": "text"
      },
      "source": [
        "**Semester 2, 2020**\n",
        "\n",
        "**Objectives:**\n",
        "\n",
        "* To learn about k-NN classification algorithm. \n",
        "* To learn about bag of words features and naïve Bayes classifier.\n",
        "* To evaluate classification performance measures.\n",
        "\n",
        "**Instructions:**\n",
        "* Exercises to be completed on IPython notebook such as: \n",
        "   * Ipython 3 (Jupyter) notebook installed on your computer http://jupyter.org/install (you need to have Python installed first https://docs.python.org/3/using/index.html )\n",
        "   * Web-based Ipython notebooks such as Google Colaboratory https://colab.research.google.com/ \n",
        "   \n",
        "* If you are using Jupyter intalled on your computer, Go to File->Open. Drag and drop \"lab5.ipynb\" file to the home interface and click upload. \n",
        "* If you are using Google Colaboratory, Click File->Upload notebook, and and upload \"lab5.ipynb\" file\n",
        "* Complete exercises in \"lab5.ipynb\".\n",
        "* To run the cell you can press Ctrl-Enter or hit the Play button at the top.\n",
        "* Complete all exercises marked with **TODO**.\n",
        "* Save your file when you are done with the exercises, so you can show your tutor next week.\n",
        "\n",
        "Lecturers: Nguyen Hoang Tran \n",
        "\n",
        "Tutors: Canh Dinh, Chen Chen, Claire Hardgrove, Fengxiang He, Henry Weld, Yixuan Zhang, Zhiyi Wang, Thomas Selvaraj."
      ]
    },
    {
      "cell_type": "markdown",
      "metadata": {
        "id": "VNFtNY4xlLVX",
        "colab_type": "text"
      },
      "source": [
        "## 1. k-nearest neighbors (k-NN) classification algorithm"
      ]
    },
    {
      "cell_type": "markdown",
      "metadata": {
        "id": "HT2D-it5lLVZ",
        "colab_type": "text"
      },
      "source": [
        "#### Toy Example"
      ]
    },
    {
      "cell_type": "code",
      "metadata": {
        "id": "rPUFW3WLlLVb",
        "colab_type": "code",
        "colab": {}
      },
      "source": [
        "import numpy as np\n",
        "import matplotlib.pylab as pl\n",
        "%matplotlib inline"
      ],
      "execution_count": 1,
      "outputs": []
    },
    {
      "cell_type": "markdown",
      "metadata": {
        "id": "8j96bZFklLVm",
        "colab_type": "text"
      },
      "source": [
        "*Step 1:* **Loading data**"
      ]
    },
    {
      "cell_type": "code",
      "metadata": {
        "id": "pJBrg4pulLVo",
        "colab_type": "code",
        "colab": {
          "base_uri": "https://localhost:8080/",
          "height": 493
        },
        "outputId": "0b3b8cd4-a159-40ab-dacc-c9aaf0013450"
      },
      "source": [
        "X = np.asarray(([2,1,3,5,3,10,9,5,8,11,15,13,16],[1,0,3,5,2,12,11,10,7,9,11,15,16])).T\n",
        "y = np.asarray([0,0,0,0,0,1,1,1,1,1,2,2,2])[:,np.newaxis]  # np.asarray([0,0,0,0,0,1,1,1,1,1,2,2,2])[:,None] - column vector\n",
        "\n",
        "print('X=\\n',X)\n",
        "print('y=\\n',y)"
      ],
      "execution_count": 2,
      "outputs": [
        {
          "output_type": "stream",
          "name": "stdout",
          "text": [
            "X=\n [[ 2  1]\n [ 1  0]\n [ 3  3]\n [ 5  5]\n [ 3  2]\n [10 12]\n [ 9 11]\n [ 5 10]\n [ 8  7]\n [11  9]\n [15 11]\n [13 15]\n [16 16]]\ny=\n [[0]\n [0]\n [0]\n [0]\n [0]\n [1]\n [1]\n [1]\n [1]\n [1]\n [2]\n [2]\n [2]]\n"
          ]
        }
      ]
    },
    {
      "cell_type": "code",
      "metadata": {
        "id": "Im_oKaIPlLV8",
        "colab_type": "code",
        "colab": {
          "base_uri": "https://localhost:8080/",
          "height": 265
        },
        "outputId": "3bb27058-3688-4d96-9d7f-6a264ed94978"
      },
      "source": [
        "N = len(y)\n",
        "\n",
        "X_q = np.asarray(([4.5],[5])).T #query point\n",
        "\n",
        "pos_of_class0 = np.where(y==0)[0] #class 0 points\n",
        "pos_of_class1 = np.where(y==1)[0] #class 1 points\n",
        "pos_of_class2 = np.where(y==2)[0] #class 2 points\n",
        "\n",
        "pl.scatter(X[pos_of_class0,0], X[pos_of_class0,1], c='r') #class = 0\n",
        "pl.scatter(X[pos_of_class1,0], X[pos_of_class1,1], c='g') #class = 1\n",
        "pl.scatter(X[pos_of_class2,0], X[pos_of_class2,1], c='b') #class = 2\n",
        "pl.scatter(X_q[:,0], X_q[:,1], marker='*', s=100, c='k') #class to be determined\n",
        "for i in range(N): \n",
        "    pl.scatter(X[i,0]+0.4, X[i,1]-0.5, s=100, marker=\"$ {} $\".format(i)) #positions "
      ],
      "execution_count": 3,
      "outputs": [
        {
          "output_type": "display_data",
          "data": {
            "text/plain": "<Figure size 432x288 with 1 Axes>",
            "image/svg+xml": "<?xml version=\"1.0\" encoding=\"utf-8\" standalone=\"no\"?>\n<!DOCTYPE svg PUBLIC \"-//W3C//DTD SVG 1.1//EN\"\n  \"http://www.w3.org/Graphics/SVG/1.1/DTD/svg11.dtd\">\n<!-- Created with matplotlib (https://matplotlib.org/) -->\n<svg height=\"248.518125pt\" version=\"1.1\" viewBox=\"0 0 378.465625 248.518125\" width=\"378.465625pt\" xmlns=\"http://www.w3.org/2000/svg\" xmlns:xlink=\"http://www.w3.org/1999/xlink\">\n <metadata>\n  <rdf:RDF xmlns:cc=\"http://creativecommons.org/ns#\" xmlns:dc=\"http://purl.org/dc/elements/1.1/\" xmlns:rdf=\"http://www.w3.org/1999/02/22-rdf-syntax-ns#\">\n   <cc:Work>\n    <dc:type rdf:resource=\"http://purl.org/dc/dcmitype/StillImage\"/>\n    <dc:date>2020-10-09T14:47:19.831722</dc:date>\n    <dc:format>image/svg+xml</dc:format>\n    <dc:creator>\n     <cc:Agent>\n      <dc:title>Matplotlib v3.3.1, https://matplotlib.org/</dc:title>\n     </cc:Agent>\n    </dc:creator>\n   </cc:Work>\n  </rdf:RDF>\n </metadata>\n <defs>\n  <style type=\"text/css\">*{stroke-linecap:butt;stroke-linejoin:round;}</style>\n </defs>\n <g id=\"figure_1\">\n  <g id=\"patch_1\">\n   <path d=\"M 0 248.518125 \nL 378.465625 248.518125 \nL 378.465625 0 \nL 0 0 \nz\n\" style=\"fill:none;\"/>\n  </g>\n  <g id=\"axes_1\">\n   <g id=\"patch_2\">\n    <path d=\"M 36.465625 224.64 \nL 371.265625 224.64 \nL 371.265625 7.2 \nL 36.465625 7.2 \nz\n\" style=\"fill:#ffffff;\"/>\n   </g>\n   <g id=\"PathCollection_1\">\n    <defs>\n     <path d=\"M 0 3 \nC 0.795609 3 1.55874 2.683901 2.12132 2.12132 \nC 2.683901 1.55874 3 0.795609 3 0 \nC 3 -0.795609 2.683901 -1.55874 2.12132 -2.12132 \nC 1.55874 -2.683901 0.795609 -3 0 -3 \nC -0.795609 -3 -1.55874 -2.683901 -2.12132 -2.12132 \nC -2.683901 -1.55874 -3 -0.795609 -3 0 \nC -3 0.795609 -2.683901 1.55874 -2.12132 2.12132 \nC -1.55874 2.683901 -0.795609 3 0 3 \nz\n\" id=\"md455c75f82\" style=\"stroke:#ff0000;\"/>\n    </defs>\n    <g clip-path=\"url(#p8186ac791f)\">\n     <use style=\"fill:#ff0000;stroke:#ff0000;\" x=\"71.447679\" xlink:href=\"#md455c75f82\" y=\"196.786116\"/>\n     <use style=\"fill:#ff0000;stroke:#ff0000;\" x=\"51.683807\" xlink:href=\"#md455c75f82\" y=\"208.766281\"/>\n     <use style=\"fill:#ff0000;stroke:#ff0000;\" x=\"91.211552\" xlink:href=\"#md455c75f82\" y=\"172.825785\"/>\n     <use style=\"fill:#ff0000;stroke:#ff0000;\" x=\"130.739297\" xlink:href=\"#md455c75f82\" y=\"148.865455\"/>\n     <use style=\"fill:#ff0000;stroke:#ff0000;\" x=\"91.211552\" xlink:href=\"#md455c75f82\" y=\"184.80595\"/>\n    </g>\n   </g>\n   <g id=\"PathCollection_2\">\n    <defs>\n     <path d=\"M 0 3 \nC 0.795609 3 1.55874 2.683901 2.12132 2.12132 \nC 2.683901 1.55874 3 0.795609 3 0 \nC 3 -0.795609 2.683901 -1.55874 2.12132 -2.12132 \nC 1.55874 -2.683901 0.795609 -3 0 -3 \nC -0.795609 -3 -1.55874 -2.683901 -2.12132 -2.12132 \nC -2.683901 -1.55874 -3 -0.795609 -3 0 \nC -3 0.795609 -2.683901 1.55874 -2.12132 2.12132 \nC -1.55874 2.683901 -0.795609 3 0 3 \nz\n\" id=\"m87791b1f4e\" style=\"stroke:#008000;\"/>\n    </defs>\n    <g clip-path=\"url(#p8186ac791f)\">\n     <use style=\"fill:#008000;stroke:#008000;\" x=\"229.558659\" xlink:href=\"#m87791b1f4e\" y=\"65.004298\"/>\n     <use style=\"fill:#008000;stroke:#008000;\" x=\"209.794787\" xlink:href=\"#m87791b1f4e\" y=\"76.984463\"/>\n     <use style=\"fill:#008000;stroke:#008000;\" x=\"130.739297\" xlink:href=\"#m87791b1f4e\" y=\"88.964628\"/>\n     <use style=\"fill:#008000;stroke:#008000;\" x=\"190.030914\" xlink:href=\"#m87791b1f4e\" y=\"124.905124\"/>\n     <use style=\"fill:#008000;stroke:#008000;\" x=\"249.322532\" xlink:href=\"#m87791b1f4e\" y=\"100.944793\"/>\n    </g>\n   </g>\n   <g id=\"PathCollection_3\">\n    <defs>\n     <path d=\"M 0 3 \nC 0.795609 3 1.55874 2.683901 2.12132 2.12132 \nC 2.683901 1.55874 3 0.795609 3 0 \nC 3 -0.795609 2.683901 -1.55874 2.12132 -2.12132 \nC 1.55874 -2.683901 0.795609 -3 0 -3 \nC -0.795609 -3 -1.55874 -2.683901 -2.12132 -2.12132 \nC -2.683901 -1.55874 -3 -0.795609 -3 0 \nC -3 0.795609 -2.683901 1.55874 -2.12132 2.12132 \nC -1.55874 2.683901 -0.795609 3 0 3 \nz\n\" id=\"m5c7a58c836\" style=\"stroke:#0000ff;\"/>\n    </defs>\n    <g clip-path=\"url(#p8186ac791f)\">\n     <use style=\"fill:#0000ff;stroke:#0000ff;\" x=\"328.378022\" xlink:href=\"#m5c7a58c836\" y=\"76.984463\"/>\n     <use style=\"fill:#0000ff;stroke:#0000ff;\" x=\"288.850277\" xlink:href=\"#m5c7a58c836\" y=\"29.063802\"/>\n     <use style=\"fill:#0000ff;stroke:#0000ff;\" x=\"348.141894\" xlink:href=\"#m5c7a58c836\" y=\"17.083636\"/>\n    </g>\n   </g>\n   <g id=\"PathCollection_4\">\n    <defs>\n     <path d=\"M 0 -5 \nL -1.12257 -1.545085 \nL -4.755283 -1.545085 \nL -1.816356 0.59017 \nL -2.938926 4.045085 \nL -0 1.90983 \nL 2.938926 4.045085 \nL 1.816356 0.59017 \nL 4.755283 -1.545085 \nL 1.12257 -1.545085 \nz\n\" id=\"mf1918a365b\" style=\"stroke:#000000;\"/>\n    </defs>\n    <g clip-path=\"url(#p8186ac791f)\">\n     <use style=\"stroke:#000000;\" x=\"120.857361\" xlink:href=\"#mf1918a365b\" y=\"148.865455\"/>\n    </g>\n   </g>\n   <g id=\"PathCollection_5\">\n    <defs>\n     <path d=\"M 0.434828 -3.967156 \nQ -0.571163 -3.967156 -1.079322 -2.975625 \nQ -1.585416 -1.98616 -1.585416 0.003099 \nQ -1.585416 1.984094 -1.079322 2.975625 \nQ -0.571163 3.967156 0.434828 3.967156 \nQ 1.449081 3.967156 1.955175 2.975625 \nQ 2.463334 1.984094 2.463334 0.003099 \nQ 2.463334 -1.98616 1.955175 -2.975625 \nQ 1.449081 -3.967156 0.434828 -3.967156 \nz\nM 0.434828 -5 \nQ 2.056393 -5 2.911589 -3.717207 \nQ 3.766784 -2.43648 3.766784 0.003099 \nQ 3.766784 2.43648 2.911589 3.719273 \nQ 2.056393 5 0.434828 5 \nQ -1.184673 5 -2.039868 3.719273 \nQ -2.895063 2.43648 -2.895063 0.003099 \nQ -2.895063 -2.43648 -2.039868 -3.717207 \nQ -1.184673 -5 0.434828 -5 \nz\n\" id=\"ma8a89aa7c9\" style=\"stroke:#1f77b4;\"/>\n    </defs>\n    <g clip-path=\"url(#p8186ac791f)\">\n     <use style=\"fill:#1f77b4;stroke:#1f77b4;\" x=\"79.353228\" xlink:href=\"#ma8a89aa7c9\" y=\"202.776198\"/>\n    </g>\n   </g>\n   <g id=\"PathCollection_6\">\n    <defs>\n     <path d=\"M -2.028504 3.86198 \nL 0.181097 3.86198 \nL 0.181097 -3.767681 \nL -2.223532 -3.285469 \nL -2.223532 -4.517788 \nL 0.168238 -5 \nL 1.520574 -5 \nL 1.520574 3.86198 \nL 3.730176 3.86198 \nL 3.730176 5 \nL -2.028504 5 \nz\n\" id=\"m7120d52688\" style=\"stroke:#ff7f0e;\"/>\n    </defs>\n    <g clip-path=\"url(#p8186ac791f)\">\n     <use style=\"fill:#ff7f0e;stroke:#ff7f0e;\" x=\"59.589356\" xlink:href=\"#m7120d52688\" y=\"214.756364\"/>\n    </g>\n   </g>\n   <g id=\"PathCollection_7\">\n    <defs>\n     <path d=\"M -1.026316 3.882105 \nL 3.611579 3.882105 \nL 3.611579 5 \nL -2.624211 5 \nL -2.624211 3.882105 \nQ -1.868421 3.098947 -0.563158 1.781053 \nQ 0.744211 0.461053 1.078947 0.077895 \nQ 1.716842 -0.637895 1.969474 -1.134737 \nQ 2.224211 -1.631579 2.224211 -2.111579 \nQ 2.224211 -2.894737 1.674737 -3.387368 \nQ 1.125263 -3.882105 0.243158 -3.882105 \nQ -0.382105 -3.882105 -1.076842 -3.665263 \nQ -1.769474 -3.448421 -2.558947 -3.006316 \nL -2.558947 -4.349474 \nQ -1.756842 -4.671579 -1.06 -4.835789 \nQ -0.361053 -5 0.217895 -5 \nQ 1.744211 -5 2.651579 -4.235789 \nQ 3.558947 -3.473684 3.558947 -2.197895 \nQ 3.558947 -1.591579 3.331579 -1.048421 \nQ 3.106316 -0.507368 2.506316 0.229474 \nQ 2.342105 0.421053 1.46 1.332632 \nQ 0.58 2.244211 -1.026316 3.882105 \nz\n\" id=\"mf830b3d7f2\" style=\"stroke:#2ca02c;\"/>\n    </defs>\n    <g clip-path=\"url(#p8186ac791f)\">\n     <use style=\"fill:#2ca02c;stroke:#2ca02c;\" x=\"99.117101\" xlink:href=\"#mf830b3d7f2\" y=\"178.815868\"/>\n    </g>\n   </g>\n   <g id=\"PathCollection_8\">\n    <defs>\n     <path d=\"M 1.688701 -0.385251 \nQ 2.624458 -0.184879 3.149143 0.449287 \nQ 3.675893 1.081388 3.675893 2.010948 \nQ 3.675893 3.436273 2.694691 4.21917 \nQ 1.713489 5 -0.093989 5 \nQ -0.699236 5 -1.341665 4.88019 \nQ -1.984094 4.76038 -2.667837 4.52076 \nL -2.667837 3.262756 \nQ -2.126627 3.578806 -1.482132 3.73993 \nQ -0.835571 3.901054 -0.131171 3.901054 \nQ 1.093782 3.901054 1.736212 3.417682 \nQ 2.378641 2.934311 2.378641 2.010948 \nQ 2.378641 1.157819 1.781657 0.678579 \nQ 1.184673 0.197273 0.120843 0.197273 \nL -1.002892 0.197273 \nL -1.002892 -0.874819 \nL 0.172485 -0.874819 \nQ 1.13303 -0.874819 1.643256 -1.259037 \nQ 2.153481 -1.643256 2.153481 -2.366247 \nQ 2.153481 -3.107829 1.62673 -3.504441 \nQ 1.102045 -3.903119 0.120843 -3.903119 \nQ -0.416236 -3.903119 -1.029746 -3.785375 \nQ -1.643256 -3.669696 -2.378641 -3.425945 \nL -2.378641 -4.586862 \nQ -1.634993 -4.793431 -0.986366 -4.896716 \nQ -0.33774 -5 0.236521 -5 \nQ 1.721752 -5 2.58521 -4.32452 \nQ 3.450733 -3.651105 3.450733 -2.502582 \nQ 3.450733 -1.701095 2.99215 -1.149556 \nQ 2.533567 -0.598017 1.688701 -0.385251 \nz\n\" id=\"m3ef7f35927\" style=\"stroke:#d62728;\"/>\n    </defs>\n    <g clip-path=\"url(#p8186ac791f)\">\n     <use style=\"fill:#d62728;stroke:#d62728;\" x=\"138.644846\" xlink:href=\"#m3ef7f35927\" y=\"154.855537\"/>\n    </g>\n   </g>\n   <g id=\"PathCollection_9\">\n    <defs>\n     <path d=\"M 1.205529 -3.82126 \nL -2.210673 1.51736 \nL 1.205529 1.51736 \nz\nM 0.849764 -5 \nL 2.551436 -5 \nL 2.551436 1.51736 \nL 3.978783 1.51736 \nL 3.978783 2.64252 \nL 2.551436 2.64252 \nL 2.551436 5 \nL 1.205529 5 \nL 1.205529 2.64252 \nL -3.307973 2.64252 \nL -3.307973 1.337334 \nz\n\" id=\"ma978a7b71e\" style=\"stroke:#9467bd;\"/>\n    </defs>\n    <g clip-path=\"url(#p8186ac791f)\">\n     <use style=\"fill:#9467bd;stroke:#9467bd;\" x=\"99.117101\" xlink:href=\"#ma978a7b71e\" y=\"190.796033\"/>\n    </g>\n   </g>\n   <g id=\"PathCollection_10\">\n    <defs>\n     <path d=\"M -2.239857 -5 \nL 2.969308 -5 \nL 2.969308 -3.881648 \nL -1.024806 -3.881648 \nL -1.024806 -1.478873 \nQ -0.736809 -1.577675 -0.448812 -1.626025 \nQ -0.158713 -1.674375 0.131385 -1.674375 \nQ 1.773176 -1.674375 2.731764 -0.774648 \nQ 3.692453 0.125079 3.692453 1.661762 \nQ 3.692453 3.244692 2.706538 4.123397 \nQ 1.720622 5 -0.072525 5 \nQ -0.690561 5 -1.331722 4.894892 \nQ -1.97078 4.789783 -2.653984 4.579567 \nL -2.653984 3.244692 \nQ -2.063275 3.566323 -1.432626 3.723986 \nQ -0.801976 3.881648 -0.099853 3.881648 \nQ 1.037419 3.881648 1.699601 3.284633 \nQ 2.363885 2.687618 2.363885 1.661762 \nQ 2.363885 0.638007 1.699601 0.040992 \nQ 1.037419 -0.558125 -0.099853 -0.558125 \nQ -0.631701 -0.558125 -1.161446 -0.440404 \nQ -1.68909 -0.322682 -2.239857 -0.072525 \nz\n\" id=\"m591a1c2fb0\" style=\"stroke:#8c564b;\"/>\n    </defs>\n    <g clip-path=\"url(#p8186ac791f)\">\n     <use style=\"fill:#8c564b;stroke:#8c564b;\" x=\"237.464208\" xlink:href=\"#m591a1c2fb0\" y=\"70.99438\"/>\n    </g>\n   </g>\n   <g id=\"PathCollection_11\">\n    <defs>\n     <path d=\"M 0.575294 -0.525718 \nQ -0.302623 -0.525718 -0.81698 0.075398 \nQ -1.329271 0.674447 -1.329271 1.719686 \nQ -1.329271 2.758728 -0.81698 3.363974 \nQ -0.302623 3.967156 0.575294 3.967156 \nQ 1.453212 3.967156 1.965503 3.363974 \nQ 2.477794 2.758728 2.477794 1.719686 \nQ 2.477794 0.674447 1.965503 0.075398 \nQ 1.453212 -0.525718 0.575294 -0.525718 \nz\nM 3.163603 -4.613716 \nL 3.163603 -3.425945 \nQ 2.671969 -3.657302 2.172072 -3.779178 \nQ 1.672175 -3.903119 1.180541 -3.903119 \nQ -0.110514 -3.903119 -0.792192 -3.031398 \nQ -1.471803 -2.159678 -1.568891 -0.397645 \nQ -1.188804 -0.959512 -0.614542 -1.259037 \nQ -0.038215 -1.558562 0.651725 -1.558562 \nQ 2.103904 -1.558562 2.946705 -0.676513 \nQ 3.789506 0.20347 3.789506 1.719686 \nQ 3.789506 3.204916 2.911589 4.103491 \nQ 2.033671 5 0.575294 5 \nQ -1.097914 5 -1.982029 3.719273 \nQ -2.866143 2.43648 -2.866143 0.003099 \nQ -2.866143 -2.281553 -1.781657 -3.640777 \nQ -0.69717 -5 1.128899 -5 \nQ 1.620533 -5 2.12043 -4.902913 \nQ 2.620326 -4.805825 3.163603 -4.613716 \nz\n\" id=\"m78979a26f2\" style=\"stroke:#e377c2;\"/>\n    </defs>\n    <g clip-path=\"url(#p8186ac791f)\">\n     <use style=\"fill:#e377c2;stroke:#e377c2;\" x=\"217.700336\" xlink:href=\"#m78979a26f2\" y=\"82.974545\"/>\n    </g>\n   </g>\n   <g id=\"PathCollection_12\">\n    <defs>\n     <path d=\"M -2.652165 -5 \nL 3.777325 -5 \nL 3.777325 -4.423489 \nL 0.146807 5 \nL -1.265538 5 \nL 2.150664 -3.859837 \nL -2.652165 -3.859837 \nz\n\" id=\"m24423afe32\" style=\"stroke:#7f7f7f;\"/>\n    </defs>\n    <g clip-path=\"url(#p8186ac791f)\">\n     <use style=\"fill:#7f7f7f;stroke:#7f7f7f;\" x=\"138.644846\" xlink:href=\"#m24423afe32\" y=\"94.954711\"/>\n    </g>\n   </g>\n   <g id=\"PathCollection_13\">\n    <defs>\n     <path d=\"M 0.448254 0.234456 \nQ -0.481306 0.234456 -1.014253 0.732287 \nQ -1.545135 1.230118 -1.545135 2.099773 \nQ -1.545135 2.971493 -1.014253 3.469325 \nQ -0.481306 3.967156 0.448254 3.967156 \nQ 1.377815 3.967156 1.912828 3.467259 \nQ 2.449907 2.965296 2.449907 2.099773 \nQ 2.449907 1.230118 1.916959 0.732287 \nQ 1.386077 0.234456 0.448254 0.234456 \nz\nM -0.855195 -0.319149 \nQ -1.693865 -0.525718 -2.162776 -1.099979 \nQ -2.629622 -1.676307 -2.629622 -2.502582 \nQ -2.629622 -3.657302 -1.807478 -4.328651 \nQ -0.983268 -5 0.448254 -5 \nQ 1.88804 -5 2.708118 -4.328651 \nQ 3.528197 -3.657302 3.528197 -2.502582 \nQ 3.528197 -1.676307 3.059285 -1.099979 \nQ 2.59244 -0.525718 1.759967 -0.319149 \nQ 2.701921 -0.100186 3.226606 0.540178 \nQ 3.753357 1.178476 3.753357 2.099773 \nQ 3.753357 3.502376 2.898162 4.252221 \nQ 2.042966 5 0.448254 5 \nQ -1.144392 5 -2.001653 4.252221 \nQ -2.856848 3.502376 -2.856848 2.099773 \nQ -2.856848 1.178476 -2.328031 0.540178 \nQ -1.797149 -0.100186 -0.855195 -0.319149 \nz\nM -1.332369 -2.378641 \nQ -1.332369 -1.630861 -0.865524 -1.211527 \nQ -0.396612 -0.792192 0.448254 -0.792192 \nQ 1.28899 -0.792192 1.762033 -1.211527 \nQ 2.237141 -1.630861 2.237141 -2.378641 \nQ 2.237141 -3.128486 1.762033 -3.547821 \nQ 1.28899 -3.967156 0.448254 -3.967156 \nQ -0.396612 -3.967156 -0.865524 -3.547821 \nQ -1.332369 -3.128486 -1.332369 -2.378641 \nz\n\" id=\"m1cf7d15ce3\" style=\"stroke:#bcbd22;\"/>\n    </defs>\n    <g clip-path=\"url(#p8186ac791f)\">\n     <use style=\"fill:#bcbd22;stroke:#bcbd22;\" x=\"197.936463\" xlink:href=\"#m1cf7d15ce3\" y=\"130.895207\"/>\n    </g>\n   </g>\n   <g id=\"PathCollection_14\">\n    <defs>\n     <path d=\"M -2.288783 4.61165 \nL -2.288783 3.423879 \nQ -1.797149 3.657302 -1.295187 3.779178 \nQ -0.791159 3.901054 -0.305722 3.901054 \nQ 0.985334 3.901054 1.664945 3.033464 \nQ 2.346623 2.165875 2.44371 0.395579 \nQ 2.06982 0.95125 1.493493 1.248709 \nQ 0.919232 1.546168 0.223094 1.546168 \nQ -1.222888 1.546168 -2.065689 0.672382 \nQ -2.90849 -0.20347 -2.90849 -1.721752 \nQ -2.90849 -3.204916 -2.030572 -4.101425 \nQ -1.152654 -5 0.305722 -5 \nQ 1.97893 -5 2.858913 -3.717207 \nQ 3.740963 -2.43648 3.740963 0.003099 \nQ 3.740963 2.281553 2.658542 3.640777 \nQ 1.578186 5 -0.247883 5 \nQ -0.739517 5 -1.243545 4.902913 \nQ -1.745507 4.805825 -2.288783 4.61165 \nz\nM 0.305722 0.525718 \nQ 1.18364 0.525718 1.695931 -0.073332 \nQ 2.210287 -0.674447 2.210287 -1.721752 \nQ 2.210287 -2.760793 1.695931 -3.363974 \nQ 1.18364 -3.967156 0.305722 -3.967156 \nQ -0.572196 -3.967156 -1.084487 -3.363974 \nQ -1.596778 -2.760793 -1.596778 -1.721752 \nQ -1.596778 -0.674447 -1.084487 -0.073332 \nQ -0.572196 0.525718 0.305722 0.525718 \nz\n\" id=\"m2a52cb775d\" style=\"stroke:#17becf;\"/>\n    </defs>\n    <g clip-path=\"url(#p8186ac791f)\">\n     <use style=\"fill:#17becf;stroke:#17becf;\" x=\"257.228081\" xlink:href=\"#m2a52cb775d\" y=\"106.934876\"/>\n    </g>\n   </g>\n   <g id=\"PathCollection_15\">\n    <defs>\n     <path d=\"M -3.971353 2.330003 \nL -2.635666 2.330003 \nL -2.635666 -2.282068 \nL -4.089246 -1.990575 \nL -4.089246 -2.735502 \nL -2.643439 -3.026996 \nL -1.825962 -3.026996 \nL -1.825962 2.330003 \nL -0.490275 2.330003 \nL -0.490275 3.017927 \nL -3.971353 3.017927 \nz\nM 2.910317 -2.488057 \nQ 2.279396 -2.488057 1.960697 -1.866205 \nQ 1.643293 -1.245648 1.643293 0.001943 \nQ 1.643293 1.244352 1.960697 1.866205 \nQ 2.279396 2.488057 2.910317 2.488057 \nQ 3.54642 2.488057 3.863824 1.866205 \nQ 4.182523 1.244352 4.182523 0.001943 \nQ 4.182523 -1.245648 3.863824 -1.866205 \nQ 3.54642 -2.488057 2.910317 -2.488057 \nz\nM 2.910317 -3.13582 \nQ 3.927305 -3.13582 4.463652 -2.331298 \nQ 5 -1.528072 5 0.001943 \nQ 5 1.528072 4.463652 2.332594 \nQ 3.927305 3.13582 2.910317 3.13582 \nQ 1.894625 3.13582 1.358278 2.332594 \nQ 0.82193 1.528072 0.82193 0.001943 \nQ 0.82193 -1.528072 1.358278 -2.331298 \nQ 1.894625 -3.13582 2.910317 -3.13582 \nz\n\" id=\"meba500db68\" style=\"stroke:#1f77b4;\"/>\n    </defs>\n    <g clip-path=\"url(#p8186ac791f)\">\n     <use style=\"fill:#1f77b4;stroke:#1f77b4;\" x=\"336.283571\" xlink:href=\"#meba500db68\" y=\"82.974545\"/>\n    </g>\n   </g>\n   <g id=\"PathCollection_16\">\n    <defs>\n     <path d=\"M -3.948745 2.385846 \nL -2.583702 2.385846 \nL -2.583702 -2.32759 \nL -4.069229 -2.029691 \nL -4.069229 -2.79099 \nL -2.591646 -3.08889 \nL -1.756202 -3.08889 \nL -1.756202 2.385846 \nL -0.391159 2.385846 \nL -0.391159 3.08889 \nL -3.948745 3.08889 \nz\nM 1.442414 2.385846 \nL 2.807457 2.385846 \nL 2.807457 -2.32759 \nL 1.32193 -2.029691 \nL 1.32193 -2.79099 \nL 2.799513 -3.08889 \nL 3.634957 -3.08889 \nL 3.634957 2.385846 \nL 5 2.385846 \nL 5 3.08889 \nL 1.442414 3.08889 \nz\n\" id=\"m3e2d044915\" style=\"stroke:#ff7f0e;\"/>\n    </defs>\n    <g clip-path=\"url(#p8186ac791f)\">\n     <use style=\"fill:#ff7f0e;stroke:#ff7f0e;\" x=\"296.755826\" xlink:href=\"#m3e2d044915\" y=\"35.053884\"/>\n    </g>\n   </g>\n   <g id=\"PathCollection_17\">\n    <defs>\n     <path d=\"M -3.941739 2.457725 \nL -2.567599 2.457725 \nL -2.567599 -2.287123 \nL -4.063026 -1.987238 \nL -4.063026 -2.753611 \nL -2.575596 -3.053496 \nL -1.734585 -3.053496 \nL -1.734585 2.457725 \nL -0.360445 2.457725 \nL -0.360445 3.165453 \nL -3.941739 3.165453 \nz\nM 2.063792 2.457725 \nL 5 2.457725 \nL 5 3.165453 \nL 1.05218 3.165453 \nL 1.05218 2.457725 \nQ 1.530663 1.961915 2.357013 1.127568 \nQ 3.184696 0.291888 3.396615 0.049314 \nQ 3.80046 -0.403845 3.960399 -0.718391 \nQ 4.12167 -1.032937 4.12167 -1.336821 \nQ 4.12167 -1.832631 3.773803 -2.144511 \nQ 3.425937 -2.457725 2.867484 -2.457725 \nQ 2.471636 -2.457725 2.031804 -2.320444 \nQ 1.593306 -2.183163 1.093497 -1.90327 \nL 1.093497 -2.753611 \nQ 1.601303 -2.957533 2.042467 -3.061493 \nQ 2.484964 -3.165453 2.85149 -3.165453 \nQ 3.817787 -3.165453 4.392233 -2.681639 \nQ 4.966679 -2.199157 4.966679 -1.391467 \nQ 4.966679 -1.007614 4.822735 -0.663746 \nQ 4.680123 -0.32121 4.300268 0.145278 \nQ 4.196308 0.266564 3.637855 0.843677 \nQ 3.080736 1.420789 2.063792 2.457725 \nz\n\" id=\"md99dd6036b\" style=\"stroke:#2ca02c;\"/>\n    </defs>\n    <g clip-path=\"url(#p8186ac791f)\">\n     <use style=\"fill:#2ca02c;stroke:#2ca02c;\" x=\"356.047443\" xlink:href=\"#md99dd6036b\" y=\"23.073719\"/>\n    </g>\n   </g>\n   <g id=\"matplotlib.axis_1\">\n    <g id=\"xtick_1\">\n     <g id=\"line2d_1\">\n      <defs>\n       <path d=\"M 0 0 \nL 0 3.5 \n\" id=\"mbc9dbb5a5c\" style=\"stroke:#000000;stroke-width:0.8;\"/>\n      </defs>\n      <g>\n       <use style=\"stroke:#000000;stroke-width:0.8;\" x=\"71.447679\" xlink:href=\"#mbc9dbb5a5c\" y=\"224.64\"/>\n      </g>\n     </g>\n     <g id=\"text_1\">\n      <!-- 2 -->\n      <g transform=\"translate(68.266429 239.238437)scale(0.1 -0.1)\">\n       <defs>\n        <path d=\"M 19.1875 8.296875 \nL 53.609375 8.296875 \nL 53.609375 0 \nL 7.328125 0 \nL 7.328125 8.296875 \nQ 12.9375 14.109375 22.625 23.890625 \nQ 32.328125 33.6875 34.8125 36.53125 \nQ 39.546875 41.84375 41.421875 45.53125 \nQ 43.3125 49.21875 43.3125 52.78125 \nQ 43.3125 58.59375 39.234375 62.25 \nQ 35.15625 65.921875 28.609375 65.921875 \nQ 23.96875 65.921875 18.8125 64.3125 \nQ 13.671875 62.703125 7.8125 59.421875 \nL 7.8125 69.390625 \nQ 13.765625 71.78125 18.9375 73 \nQ 24.125 74.21875 28.421875 74.21875 \nQ 39.75 74.21875 46.484375 68.546875 \nQ 53.21875 62.890625 53.21875 53.421875 \nQ 53.21875 48.921875 51.53125 44.890625 \nQ 49.859375 40.875 45.40625 35.40625 \nQ 44.1875 33.984375 37.640625 27.21875 \nQ 31.109375 20.453125 19.1875 8.296875 \nz\n\" id=\"DejaVuSans-50\"/>\n       </defs>\n       <use xlink:href=\"#DejaVuSans-50\"/>\n      </g>\n     </g>\n    </g>\n    <g id=\"xtick_2\">\n     <g id=\"line2d_2\">\n      <g>\n       <use style=\"stroke:#000000;stroke-width:0.8;\" x=\"110.975424\" xlink:href=\"#mbc9dbb5a5c\" y=\"224.64\"/>\n      </g>\n     </g>\n     <g id=\"text_2\">\n      <!-- 4 -->\n      <g transform=\"translate(107.794174 239.238437)scale(0.1 -0.1)\">\n       <defs>\n        <path d=\"M 37.796875 64.3125 \nL 12.890625 25.390625 \nL 37.796875 25.390625 \nz\nM 35.203125 72.90625 \nL 47.609375 72.90625 \nL 47.609375 25.390625 \nL 58.015625 25.390625 \nL 58.015625 17.1875 \nL 47.609375 17.1875 \nL 47.609375 0 \nL 37.796875 0 \nL 37.796875 17.1875 \nL 4.890625 17.1875 \nL 4.890625 26.703125 \nz\n\" id=\"DejaVuSans-52\"/>\n       </defs>\n       <use xlink:href=\"#DejaVuSans-52\"/>\n      </g>\n     </g>\n    </g>\n    <g id=\"xtick_3\">\n     <g id=\"line2d_3\">\n      <g>\n       <use style=\"stroke:#000000;stroke-width:0.8;\" x=\"150.503169\" xlink:href=\"#mbc9dbb5a5c\" y=\"224.64\"/>\n      </g>\n     </g>\n     <g id=\"text_3\">\n      <!-- 6 -->\n      <g transform=\"translate(147.321919 239.238437)scale(0.1 -0.1)\">\n       <defs>\n        <path d=\"M 33.015625 40.375 \nQ 26.375 40.375 22.484375 35.828125 \nQ 18.609375 31.296875 18.609375 23.390625 \nQ 18.609375 15.53125 22.484375 10.953125 \nQ 26.375 6.390625 33.015625 6.390625 \nQ 39.65625 6.390625 43.53125 10.953125 \nQ 47.40625 15.53125 47.40625 23.390625 \nQ 47.40625 31.296875 43.53125 35.828125 \nQ 39.65625 40.375 33.015625 40.375 \nz\nM 52.59375 71.296875 \nL 52.59375 62.3125 \nQ 48.875 64.0625 45.09375 64.984375 \nQ 41.3125 65.921875 37.59375 65.921875 \nQ 27.828125 65.921875 22.671875 59.328125 \nQ 17.53125 52.734375 16.796875 39.40625 \nQ 19.671875 43.65625 24.015625 45.921875 \nQ 28.375 48.1875 33.59375 48.1875 \nQ 44.578125 48.1875 50.953125 41.515625 \nQ 57.328125 34.859375 57.328125 23.390625 \nQ 57.328125 12.15625 50.6875 5.359375 \nQ 44.046875 -1.421875 33.015625 -1.421875 \nQ 20.359375 -1.421875 13.671875 8.265625 \nQ 6.984375 17.96875 6.984375 36.375 \nQ 6.984375 53.65625 15.1875 63.9375 \nQ 23.390625 74.21875 37.203125 74.21875 \nQ 40.921875 74.21875 44.703125 73.484375 \nQ 48.484375 72.75 52.59375 71.296875 \nz\n\" id=\"DejaVuSans-54\"/>\n       </defs>\n       <use xlink:href=\"#DejaVuSans-54\"/>\n      </g>\n     </g>\n    </g>\n    <g id=\"xtick_4\">\n     <g id=\"line2d_4\">\n      <g>\n       <use style=\"stroke:#000000;stroke-width:0.8;\" x=\"190.030914\" xlink:href=\"#mbc9dbb5a5c\" y=\"224.64\"/>\n      </g>\n     </g>\n     <g id=\"text_4\">\n      <!-- 8 -->\n      <g transform=\"translate(186.849664 239.238437)scale(0.1 -0.1)\">\n       <defs>\n        <path d=\"M 31.78125 34.625 \nQ 24.75 34.625 20.71875 30.859375 \nQ 16.703125 27.09375 16.703125 20.515625 \nQ 16.703125 13.921875 20.71875 10.15625 \nQ 24.75 6.390625 31.78125 6.390625 \nQ 38.8125 6.390625 42.859375 10.171875 \nQ 46.921875 13.96875 46.921875 20.515625 \nQ 46.921875 27.09375 42.890625 30.859375 \nQ 38.875 34.625 31.78125 34.625 \nz\nM 21.921875 38.8125 \nQ 15.578125 40.375 12.03125 44.71875 \nQ 8.5 49.078125 8.5 55.328125 \nQ 8.5 64.0625 14.71875 69.140625 \nQ 20.953125 74.21875 31.78125 74.21875 \nQ 42.671875 74.21875 48.875 69.140625 \nQ 55.078125 64.0625 55.078125 55.328125 \nQ 55.078125 49.078125 51.53125 44.71875 \nQ 48 40.375 41.703125 38.8125 \nQ 48.828125 37.15625 52.796875 32.3125 \nQ 56.78125 27.484375 56.78125 20.515625 \nQ 56.78125 9.90625 50.3125 4.234375 \nQ 43.84375 -1.421875 31.78125 -1.421875 \nQ 19.734375 -1.421875 13.25 4.234375 \nQ 6.78125 9.90625 6.78125 20.515625 \nQ 6.78125 27.484375 10.78125 32.3125 \nQ 14.796875 37.15625 21.921875 38.8125 \nz\nM 18.3125 54.390625 \nQ 18.3125 48.734375 21.84375 45.5625 \nQ 25.390625 42.390625 31.78125 42.390625 \nQ 38.140625 42.390625 41.71875 45.5625 \nQ 45.3125 48.734375 45.3125 54.390625 \nQ 45.3125 60.0625 41.71875 63.234375 \nQ 38.140625 66.40625 31.78125 66.40625 \nQ 25.390625 66.40625 21.84375 63.234375 \nQ 18.3125 60.0625 18.3125 54.390625 \nz\n\" id=\"DejaVuSans-56\"/>\n       </defs>\n       <use xlink:href=\"#DejaVuSans-56\"/>\n      </g>\n     </g>\n    </g>\n    <g id=\"xtick_5\">\n     <g id=\"line2d_5\">\n      <g>\n       <use style=\"stroke:#000000;stroke-width:0.8;\" x=\"229.558659\" xlink:href=\"#mbc9dbb5a5c\" y=\"224.64\"/>\n      </g>\n     </g>\n     <g id=\"text_5\">\n      <!-- 10 -->\n      <g transform=\"translate(223.196159 239.238437)scale(0.1 -0.1)\">\n       <defs>\n        <path d=\"M 12.40625 8.296875 \nL 28.515625 8.296875 \nL 28.515625 63.921875 \nL 10.984375 60.40625 \nL 10.984375 69.390625 \nL 28.421875 72.90625 \nL 38.28125 72.90625 \nL 38.28125 8.296875 \nL 54.390625 8.296875 \nL 54.390625 0 \nL 12.40625 0 \nz\n\" id=\"DejaVuSans-49\"/>\n        <path d=\"M 31.78125 66.40625 \nQ 24.171875 66.40625 20.328125 58.90625 \nQ 16.5 51.421875 16.5 36.375 \nQ 16.5 21.390625 20.328125 13.890625 \nQ 24.171875 6.390625 31.78125 6.390625 \nQ 39.453125 6.390625 43.28125 13.890625 \nQ 47.125 21.390625 47.125 36.375 \nQ 47.125 51.421875 43.28125 58.90625 \nQ 39.453125 66.40625 31.78125 66.40625 \nz\nM 31.78125 74.21875 \nQ 44.046875 74.21875 50.515625 64.515625 \nQ 56.984375 54.828125 56.984375 36.375 \nQ 56.984375 17.96875 50.515625 8.265625 \nQ 44.046875 -1.421875 31.78125 -1.421875 \nQ 19.53125 -1.421875 13.0625 8.265625 \nQ 6.59375 17.96875 6.59375 36.375 \nQ 6.59375 54.828125 13.0625 64.515625 \nQ 19.53125 74.21875 31.78125 74.21875 \nz\n\" id=\"DejaVuSans-48\"/>\n       </defs>\n       <use xlink:href=\"#DejaVuSans-49\"/>\n       <use x=\"63.623047\" xlink:href=\"#DejaVuSans-48\"/>\n      </g>\n     </g>\n    </g>\n    <g id=\"xtick_6\">\n     <g id=\"line2d_6\">\n      <g>\n       <use style=\"stroke:#000000;stroke-width:0.8;\" x=\"269.086404\" xlink:href=\"#mbc9dbb5a5c\" y=\"224.64\"/>\n      </g>\n     </g>\n     <g id=\"text_6\">\n      <!-- 12 -->\n      <g transform=\"translate(262.723904 239.238437)scale(0.1 -0.1)\">\n       <use xlink:href=\"#DejaVuSans-49\"/>\n       <use x=\"63.623047\" xlink:href=\"#DejaVuSans-50\"/>\n      </g>\n     </g>\n    </g>\n    <g id=\"xtick_7\">\n     <g id=\"line2d_7\">\n      <g>\n       <use style=\"stroke:#000000;stroke-width:0.8;\" x=\"308.614149\" xlink:href=\"#mbc9dbb5a5c\" y=\"224.64\"/>\n      </g>\n     </g>\n     <g id=\"text_7\">\n      <!-- 14 -->\n      <g transform=\"translate(302.251649 239.238437)scale(0.1 -0.1)\">\n       <use xlink:href=\"#DejaVuSans-49\"/>\n       <use x=\"63.623047\" xlink:href=\"#DejaVuSans-52\"/>\n      </g>\n     </g>\n    </g>\n    <g id=\"xtick_8\">\n     <g id=\"line2d_8\">\n      <g>\n       <use style=\"stroke:#000000;stroke-width:0.8;\" x=\"348.141894\" xlink:href=\"#mbc9dbb5a5c\" y=\"224.64\"/>\n      </g>\n     </g>\n     <g id=\"text_8\">\n      <!-- 16 -->\n      <g transform=\"translate(341.779394 239.238437)scale(0.1 -0.1)\">\n       <use xlink:href=\"#DejaVuSans-49\"/>\n       <use x=\"63.623047\" xlink:href=\"#DejaVuSans-54\"/>\n      </g>\n     </g>\n    </g>\n   </g>\n   <g id=\"matplotlib.axis_2\">\n    <g id=\"ytick_1\">\n     <g id=\"line2d_9\">\n      <defs>\n       <path d=\"M 0 0 \nL -3.5 0 \n\" id=\"me7798e0de2\" style=\"stroke:#000000;stroke-width:0.8;\"/>\n      </defs>\n      <g>\n       <use style=\"stroke:#000000;stroke-width:0.8;\" x=\"36.465625\" xlink:href=\"#me7798e0de2\" y=\"208.766281\"/>\n      </g>\n     </g>\n     <g id=\"text_9\">\n      <!-- 0.0 -->\n      <g transform=\"translate(13.5625 212.5655)scale(0.1 -0.1)\">\n       <defs>\n        <path d=\"M 10.6875 12.40625 \nL 21 12.40625 \nL 21 0 \nL 10.6875 0 \nz\n\" id=\"DejaVuSans-46\"/>\n       </defs>\n       <use xlink:href=\"#DejaVuSans-48\"/>\n       <use x=\"63.623047\" xlink:href=\"#DejaVuSans-46\"/>\n       <use x=\"95.410156\" xlink:href=\"#DejaVuSans-48\"/>\n      </g>\n     </g>\n    </g>\n    <g id=\"ytick_2\">\n     <g id=\"line2d_10\">\n      <g>\n       <use style=\"stroke:#000000;stroke-width:0.8;\" x=\"36.465625\" xlink:href=\"#me7798e0de2\" y=\"178.815868\"/>\n      </g>\n     </g>\n     <g id=\"text_10\">\n      <!-- 2.5 -->\n      <g transform=\"translate(13.5625 182.615087)scale(0.1 -0.1)\">\n       <defs>\n        <path d=\"M 10.796875 72.90625 \nL 49.515625 72.90625 \nL 49.515625 64.59375 \nL 19.828125 64.59375 \nL 19.828125 46.734375 \nQ 21.96875 47.46875 24.109375 47.828125 \nQ 26.265625 48.1875 28.421875 48.1875 \nQ 40.625 48.1875 47.75 41.5 \nQ 54.890625 34.8125 54.890625 23.390625 \nQ 54.890625 11.625 47.5625 5.09375 \nQ 40.234375 -1.421875 26.90625 -1.421875 \nQ 22.3125 -1.421875 17.546875 -0.640625 \nQ 12.796875 0.140625 7.71875 1.703125 \nL 7.71875 11.625 \nQ 12.109375 9.234375 16.796875 8.0625 \nQ 21.484375 6.890625 26.703125 6.890625 \nQ 35.15625 6.890625 40.078125 11.328125 \nQ 45.015625 15.765625 45.015625 23.390625 \nQ 45.015625 31 40.078125 35.4375 \nQ 35.15625 39.890625 26.703125 39.890625 \nQ 22.75 39.890625 18.8125 39.015625 \nQ 14.890625 38.140625 10.796875 36.28125 \nz\n\" id=\"DejaVuSans-53\"/>\n       </defs>\n       <use xlink:href=\"#DejaVuSans-50\"/>\n       <use x=\"63.623047\" xlink:href=\"#DejaVuSans-46\"/>\n       <use x=\"95.410156\" xlink:href=\"#DejaVuSans-53\"/>\n      </g>\n     </g>\n    </g>\n    <g id=\"ytick_3\">\n     <g id=\"line2d_11\">\n      <g>\n       <use style=\"stroke:#000000;stroke-width:0.8;\" x=\"36.465625\" xlink:href=\"#me7798e0de2\" y=\"148.865455\"/>\n      </g>\n     </g>\n     <g id=\"text_11\">\n      <!-- 5.0 -->\n      <g transform=\"translate(13.5625 152.664673)scale(0.1 -0.1)\">\n       <use xlink:href=\"#DejaVuSans-53\"/>\n       <use x=\"63.623047\" xlink:href=\"#DejaVuSans-46\"/>\n       <use x=\"95.410156\" xlink:href=\"#DejaVuSans-48\"/>\n      </g>\n     </g>\n    </g>\n    <g id=\"ytick_4\">\n     <g id=\"line2d_12\">\n      <g>\n       <use style=\"stroke:#000000;stroke-width:0.8;\" x=\"36.465625\" xlink:href=\"#me7798e0de2\" y=\"118.915041\"/>\n      </g>\n     </g>\n     <g id=\"text_12\">\n      <!-- 7.5 -->\n      <g transform=\"translate(13.5625 122.71426)scale(0.1 -0.1)\">\n       <defs>\n        <path d=\"M 8.203125 72.90625 \nL 55.078125 72.90625 \nL 55.078125 68.703125 \nL 28.609375 0 \nL 18.3125 0 \nL 43.21875 64.59375 \nL 8.203125 64.59375 \nz\n\" id=\"DejaVuSans-55\"/>\n       </defs>\n       <use xlink:href=\"#DejaVuSans-55\"/>\n       <use x=\"63.623047\" xlink:href=\"#DejaVuSans-46\"/>\n       <use x=\"95.410156\" xlink:href=\"#DejaVuSans-53\"/>\n      </g>\n     </g>\n    </g>\n    <g id=\"ytick_5\">\n     <g id=\"line2d_13\">\n      <g>\n       <use style=\"stroke:#000000;stroke-width:0.8;\" x=\"36.465625\" xlink:href=\"#me7798e0de2\" y=\"88.964628\"/>\n      </g>\n     </g>\n     <g id=\"text_13\">\n      <!-- 10.0 -->\n      <g transform=\"translate(7.2 92.763847)scale(0.1 -0.1)\">\n       <use xlink:href=\"#DejaVuSans-49\"/>\n       <use x=\"63.623047\" xlink:href=\"#DejaVuSans-48\"/>\n       <use x=\"127.246094\" xlink:href=\"#DejaVuSans-46\"/>\n       <use x=\"159.033203\" xlink:href=\"#DejaVuSans-48\"/>\n      </g>\n     </g>\n    </g>\n    <g id=\"ytick_6\">\n     <g id=\"line2d_14\">\n      <g>\n       <use style=\"stroke:#000000;stroke-width:0.8;\" x=\"36.465625\" xlink:href=\"#me7798e0de2\" y=\"59.014215\"/>\n      </g>\n     </g>\n     <g id=\"text_14\">\n      <!-- 12.5 -->\n      <g transform=\"translate(7.2 62.813434)scale(0.1 -0.1)\">\n       <use xlink:href=\"#DejaVuSans-49\"/>\n       <use x=\"63.623047\" xlink:href=\"#DejaVuSans-50\"/>\n       <use x=\"127.246094\" xlink:href=\"#DejaVuSans-46\"/>\n       <use x=\"159.033203\" xlink:href=\"#DejaVuSans-53\"/>\n      </g>\n     </g>\n    </g>\n    <g id=\"ytick_7\">\n     <g id=\"line2d_15\">\n      <g>\n       <use style=\"stroke:#000000;stroke-width:0.8;\" x=\"36.465625\" xlink:href=\"#me7798e0de2\" y=\"29.063802\"/>\n      </g>\n     </g>\n     <g id=\"text_15\">\n      <!-- 15.0 -->\n      <g transform=\"translate(7.2 32.86302)scale(0.1 -0.1)\">\n       <use xlink:href=\"#DejaVuSans-49\"/>\n       <use x=\"63.623047\" xlink:href=\"#DejaVuSans-53\"/>\n       <use x=\"127.246094\" xlink:href=\"#DejaVuSans-46\"/>\n       <use x=\"159.033203\" xlink:href=\"#DejaVuSans-48\"/>\n      </g>\n     </g>\n    </g>\n   </g>\n   <g id=\"patch_3\">\n    <path d=\"M 36.465625 224.64 \nL 36.465625 7.2 \n\" style=\"fill:none;stroke:#000000;stroke-linecap:square;stroke-linejoin:miter;stroke-width:0.8;\"/>\n   </g>\n   <g id=\"patch_4\">\n    <path d=\"M 371.265625 224.64 \nL 371.265625 7.2 \n\" style=\"fill:none;stroke:#000000;stroke-linecap:square;stroke-linejoin:miter;stroke-width:0.8;\"/>\n   </g>\n   <g id=\"patch_5\">\n    <path d=\"M 36.465625 224.64 \nL 371.265625 224.64 \n\" style=\"fill:none;stroke:#000000;stroke-linecap:square;stroke-linejoin:miter;stroke-width:0.8;\"/>\n   </g>\n   <g id=\"patch_6\">\n    <path d=\"M 36.465625 7.2 \nL 371.265625 7.2 \n\" style=\"fill:none;stroke:#000000;stroke-linecap:square;stroke-linejoin:miter;stroke-width:0.8;\"/>\n   </g>\n  </g>\n </g>\n <defs>\n  <clipPath id=\"p8186ac791f\">\n   <rect height=\"217.44\" width=\"334.8\" x=\"36.465625\" y=\"7.2\"/>\n  </clipPath>\n </defs>\n</svg>\n",
            "image/png": "[encoded data removed]"
          },
          "metadata": {
            "needs_background": "light"
          }
        }
      ]
    },
    {
      "cell_type": "markdown",
      "metadata": {
        "id": "0cNv-ILGlLWG",
        "colab_type": "text"
      },
      "source": [
        "*Step 2:* **Determining the nearest neighbors**"
      ]
    },
    {
      "cell_type": "code",
      "metadata": {
        "id": "Zln0S-CslLWI",
        "colab_type": "code",
        "colab": {
          "base_uri": "https://localhost:8080/",
          "height": 102
        },
        "outputId": "4c3bae01-3a22-4eba-8ac8-a18a52e3b7e6"
      },
      "source": [
        "dis = ((X - X_q)**2).sum(axis=1) #calculate distance between X_q and each training point\n",
        "arg_ascending = np.argsort(dis) #arrange distances in the ascending order\n",
        "\n",
        "np.set_printoptions(precision=3)\n",
        "print('Distance between X_q and each training point= \\n', dis)\n",
        "print('Index of nearest neighbors in training data=\\n', arg_ascending) #Check the plot in Step 1"
      ],
      "execution_count": 4,
      "outputs": [
        {
          "output_type": "stream",
          "name": "stdout",
          "text": [
            "Distance between X_q and each training point= \n [2.225e+01 3.725e+01 6.250e+00 2.500e-01 1.125e+01 7.925e+01 5.625e+01\n 2.525e+01 1.625e+01 5.825e+01 1.462e+02 1.722e+02 2.532e+02]\nIndex of nearest neighbors in training data=\n [ 3  2  4  8  0  7  1  6  9  5 10 11 12]\n"
          ]
        }
      ]
    },
    {
      "cell_type": "markdown",
      "metadata": {
        "id": "ed9qWd0-lLWS",
        "colab_type": "text"
      },
      "source": [
        "*Step 3:* **Determining the classes of k-nearest neighbors**"
      ]
    },
    {
      "cell_type": "code",
      "metadata": {
        "id": "KLwevA5IlLWT",
        "colab_type": "code",
        "colab": {
          "base_uri": "https://localhost:8080/",
          "height": 102
        },
        "outputId": "0ebc8057-a510-49e9-c894-754bcd057521"
      },
      "source": [
        "K = 5 #Let us consider 5-nearest neighbors \n",
        "\n",
        "classes = np.zeros(3)\n",
        "for i in range(K):\n",
        "    if y[arg_ascending[i]]==0: #class = 0\n",
        "        print(i, 'th nearest neighbor belongs to class 0.')\n",
        "        classes[0] += 1\n",
        "    elif y[arg_ascending[i]]==1: #class = 1\n",
        "        print(i, 'th nearest neighbor belongs to class 1.')\n",
        "        classes[1] += 1\n",
        "    elif y[arg_ascending[i]]==2: #class = 2\n",
        "        print(i, 'th nearest neighbor belongs to class 2.')\n",
        "        classes[2] += 1\n",
        "    else:\n",
        "        print('Error - Invalid class')"
      ],
      "execution_count": 5,
      "outputs": [
        {
          "output_type": "stream",
          "name": "stdout",
          "text": [
            "0 th nearest neighbor belongs to class 0.\n1 th nearest neighbor belongs to class 0.\n2 th nearest neighbor belongs to class 0.\n3 th nearest neighbor belongs to class 1.\n4 th nearest neighbor belongs to class 0.\n"
          ]
        }
      ]
    },
    {
      "cell_type": "markdown",
      "metadata": {
        "id": "fI_mhXy6lLWe",
        "colab_type": "text"
      },
      "source": [
        "*Step 4:* **Determining the class of X_q**"
      ]
    },
    {
      "cell_type": "code",
      "metadata": {
        "id": "05gSIQh5lLWf",
        "colab_type": "code",
        "colab": {
          "base_uri": "https://localhost:8080/",
          "height": 68
        },
        "outputId": "7901384e-6d29-4412-b4aa-5d18e92dcddb"
      },
      "source": [
        "prob = classes/K\n",
        "\n",
        "print('classes', classes)\n",
        "print('probabilities=', prob)\n",
        "print('ANSWER: X_q blongs to', np.argmax(prob), 'th class!')"
      ],
      "execution_count": 6,
      "outputs": [
        {
          "output_type": "stream",
          "name": "stdout",
          "text": [
            "classes [4. 1. 0.]\nprobabilities= [0.8 0.2 0. ]\nANSWER: X_q blongs to 0 th class!\n"
          ]
        }
      ]
    },
    {
      "cell_type": "markdown",
      "metadata": {
        "id": "2SpfWnYElLWm",
        "colab_type": "text"
      },
      "source": [
        "### Decision Surface "
      ]
    },
    {
      "cell_type": "code",
      "metadata": {
        "id": "06Ge4uYdlLWn",
        "colab_type": "code",
        "colab": {}
      },
      "source": [
        "def calc_knn(X, y, K, X_q):\n",
        "    dis = ((X - X_q)**2).sum(axis=1) #calculate distance between X_q and each training point\n",
        "    arg_ascending = np.argsort(dis)\n",
        "    \n",
        "    classes = np.zeros(3)\n",
        "    for i in range(K):\n",
        "        if y[arg_ascending[i]]==0: #class = 0\n",
        "            classes[0] += 1\n",
        "        elif y[arg_ascending[i]]==1: #class = 1\n",
        "            classes[1] += 1\n",
        "        elif y[arg_ascending[i]]==2: #class = 2\n",
        "            classes[2] += 1\n",
        "        else:\n",
        "            print('Error - Invalid class')\n",
        "            \n",
        "    return np.argmax(classes)"
      ],
      "execution_count": 7,
      "outputs": []
    },
    {
      "cell_type": "code",
      "metadata": {
        "id": "iINtXOfzlLWv",
        "colab_type": "code",
        "colab": {
          "base_uri": "https://localhost:8080/",
          "height": 281
        },
        "outputId": "d3cfec05-a71b-4351-ff12-adfce9babf42"
      },
      "source": [
        "for i in range(20):\n",
        "    for j in range(20):\n",
        "        X_q = np.asarray(([i],[j])).T #query point\n",
        "        class_out = calc_knn(X, y, 4, X_q)\n",
        "        \n",
        "        if class_out ==0:\n",
        "            pl.scatter(X_q[:,0], X_q[:,1], s=50, c='r')\n",
        "        elif class_out ==1:\n",
        "            pl.scatter(X_q[:,0], X_q[:,1], s=50, c='g')\n",
        "        else:\n",
        "            pl.scatter(X_q[:,0], X_q[:,1], s=50, c='b')\n",
        "            \n",
        "pl.title('Decision surface')\n",
        "pl.show()"
      ],
      "execution_count": 8,
      "outputs": [
        {
          "output_type": "display_data",
          "data": {
            "text/plain": "<Figure size 432x288 with 1 Axes>",
            "image/svg+xml": "<?xml version=\"1.0\" encoding=\"utf-8\" standalone=\"no\"?>\n<!DOCTYPE svg PUBLIC \"-//W3C//DTD SVG 1.1//EN\"\n  \"http://www.w3.org/Graphics/SVG/1.1/DTD/svg11.dtd\">\n<!-- Created with matplotlib (https://matplotlib.org/) -->\n<svg height=\"263.63625pt\" version=\"1.1\" viewBox=\"0 0 378.465625 263.63625\" width=\"378.465625pt\" xmlns=\"http://www.w3.org/2000/svg\" xmlns:xlink=\"http://www.w3.org/1999/xlink\">\n <metadata>\n  <rdf:RDF xmlns:cc=\"http://creativecommons.org/ns#\" xmlns:dc=\"http://purl.org/dc/elements/1.1/\" xmlns:rdf=\"http://www.w3.org/1999/02/22-rdf-syntax-ns#\">\n   <cc:Work>\n    <dc:type rdf:resource=\"http://purl.org/dc/dcmitype/StillImage\"/>\n    <dc:date>2020-10-09T14:47:23.963805</dc:date>\n    <dc:format>image/svg+xml</dc:format>\n    <dc:creator>\n     <cc:Agent>\n      <dc:title>Matplotlib v3.3.1, https://matplotlib.org/</dc:title>\n     </cc:Agent>\n    </dc:creator>\n   </cc:Work>\n  </rdf:RDF>\n </metadata>\n <defs>\n  <style type=\"text/css\">*{stroke-linecap:butt;stroke-linejoin:round;}</style>\n </defs>\n <g id=\"figure_1\">\n  <g id=\"patch_1\">\n   <path d=\"M 0 263.63625 \nL 378.465625 263.63625 \nL 378.465625 0 \nL 0 0 \nz\n\" style=\"fill:none;\"/>\n  </g>\n  <g id=\"axes_1\">\n   <g id=\"patch_2\">\n    <path d=\"M 36.465625 239.758125 \nL 371.265625 239.758125 \nL 371.265625 22.318125 \nL 36.465625 22.318125 \nz\n\" style=\"fill:#ffffff;\"/>\n   </g>\n   <g id=\"PathCollection_1\">\n    <defs>\n     <path d=\"M 0 3.535534 \nC 0.937635 3.535534 1.836992 3.163008 2.5 2.5 \nC 3.163008 1.836992 3.535534 0.937635 3.535534 0 \nC 3.535534 -0.937635 3.163008 -1.836992 2.5 -2.5 \nC 1.836992 -3.163008 0.937635 -3.535534 0 -3.535534 \nC -0.937635 -3.535534 -1.836992 -3.163008 -2.5 -2.5 \nC -3.163008 -1.836992 -3.535534 -0.937635 -3.535534 0 \nC -3.535534 0.937635 -3.163008 1.836992 -2.5 2.5 \nC -1.836992 3.163008 -0.937635 3.535534 0 3.535534 \nz\n\" id=\"mbe7c1ad116\" style=\"stroke:#ff0000;\"/>\n    </defs>\n    <g clip-path=\"url(#p44a75073db)\">\n     <use style=\"fill:#ff0000;stroke:#ff0000;\" x=\"51.683807\" xlink:href=\"#mbe7c1ad116\" y=\"229.874489\"/>\n    </g>\n   </g>\n   <g id=\"PathCollection_2\">\n    <g clip-path=\"url(#p44a75073db)\">\n     <use style=\"fill:#ff0000;stroke:#ff0000;\" x=\"51.683807\" xlink:href=\"#mbe7c1ad116\" y=\"219.470661\"/>\n    </g>\n   </g>\n   <g id=\"PathCollection_3\">\n    <g clip-path=\"url(#p44a75073db)\">\n     <use style=\"fill:#ff0000;stroke:#ff0000;\" x=\"51.683807\" xlink:href=\"#mbe7c1ad116\" y=\"209.066833\"/>\n    </g>\n   </g>\n   <g id=\"PathCollection_4\">\n    <g clip-path=\"url(#p44a75073db)\">\n     <use style=\"fill:#ff0000;stroke:#ff0000;\" x=\"51.683807\" xlink:href=\"#mbe7c1ad116\" y=\"198.663005\"/>\n    </g>\n   </g>\n   <g id=\"PathCollection_5\">\n    <g clip-path=\"url(#p44a75073db)\">\n     <use style=\"fill:#ff0000;stroke:#ff0000;\" x=\"51.683807\" xlink:href=\"#mbe7c1ad116\" y=\"188.259178\"/>\n    </g>\n   </g>\n   <g id=\"PathCollection_6\">\n    <g clip-path=\"url(#p44a75073db)\">\n     <use style=\"fill:#ff0000;stroke:#ff0000;\" x=\"51.683807\" xlink:href=\"#mbe7c1ad116\" y=\"177.85535\"/>\n    </g>\n   </g>\n   <g id=\"PathCollection_7\">\n    <g clip-path=\"url(#p44a75073db)\">\n     <use style=\"fill:#ff0000;stroke:#ff0000;\" x=\"51.683807\" xlink:href=\"#mbe7c1ad116\" y=\"167.451522\"/>\n    </g>\n   </g>\n   <g id=\"PathCollection_8\">\n    <g clip-path=\"url(#p44a75073db)\">\n     <use style=\"fill:#ff0000;stroke:#ff0000;\" x=\"51.683807\" xlink:href=\"#mbe7c1ad116\" y=\"157.047694\"/>\n    </g>\n   </g>\n   <g id=\"PathCollection_9\">\n    <g clip-path=\"url(#p44a75073db)\">\n     <use style=\"fill:#ff0000;stroke:#ff0000;\" x=\"51.683807\" xlink:href=\"#mbe7c1ad116\" y=\"146.643867\"/>\n    </g>\n   </g>\n   <g id=\"PathCollection_10\">\n    <g clip-path=\"url(#p44a75073db)\">\n     <use style=\"fill:#ff0000;stroke:#ff0000;\" x=\"51.683807\" xlink:href=\"#mbe7c1ad116\" y=\"136.240039\"/>\n    </g>\n   </g>\n   <g id=\"PathCollection_11\">\n    <g clip-path=\"url(#p44a75073db)\">\n     <use style=\"fill:#ff0000;stroke:#ff0000;\" x=\"51.683807\" xlink:href=\"#mbe7c1ad116\" y=\"125.836211\"/>\n    </g>\n   </g>\n   <g id=\"PathCollection_12\">\n    <g clip-path=\"url(#p44a75073db)\">\n     <use style=\"fill:#ff0000;stroke:#ff0000;\" x=\"51.683807\" xlink:href=\"#mbe7c1ad116\" y=\"115.432383\"/>\n    </g>\n   </g>\n   <g id=\"PathCollection_13\">\n    <defs>\n     <path d=\"M 0 3.535534 \nC 0.937635 3.535534 1.836992 3.163008 2.5 2.5 \nC 3.163008 1.836992 3.535534 0.937635 3.535534 0 \nC 3.535534 -0.937635 3.163008 -1.836992 2.5 -2.5 \nC 1.836992 -3.163008 0.937635 -3.535534 0 -3.535534 \nC -0.937635 -3.535534 -1.836992 -3.163008 -2.5 -2.5 \nC -3.163008 -1.836992 -3.535534 -0.937635 -3.535534 0 \nC -3.535534 0.937635 -3.163008 1.836992 -2.5 2.5 \nC -1.836992 3.163008 -0.937635 3.535534 0 3.535534 \nz\n\" id=\"mb0862478b4\" style=\"stroke:#008000;\"/>\n    </defs>\n    <g clip-path=\"url(#p44a75073db)\">\n     <use style=\"fill:#008000;stroke:#008000;\" x=\"51.683807\" xlink:href=\"#mb0862478b4\" y=\"105.028556\"/>\n    </g>\n   </g>\n   <g id=\"PathCollection_14\">\n    <g clip-path=\"url(#p44a75073db)\">\n     <use style=\"fill:#008000;stroke:#008000;\" x=\"51.683807\" xlink:href=\"#mb0862478b4\" y=\"94.624728\"/>\n    </g>\n   </g>\n   <g id=\"PathCollection_15\">\n    <g clip-path=\"url(#p44a75073db)\">\n     <use style=\"fill:#008000;stroke:#008000;\" x=\"51.683807\" xlink:href=\"#mb0862478b4\" y=\"84.2209\"/>\n    </g>\n   </g>\n   <g id=\"PathCollection_16\">\n    <g clip-path=\"url(#p44a75073db)\">\n     <use style=\"fill:#008000;stroke:#008000;\" x=\"51.683807\" xlink:href=\"#mb0862478b4\" y=\"73.817072\"/>\n    </g>\n   </g>\n   <g id=\"PathCollection_17\">\n    <g clip-path=\"url(#p44a75073db)\">\n     <use style=\"fill:#008000;stroke:#008000;\" x=\"51.683807\" xlink:href=\"#mb0862478b4\" y=\"63.413245\"/>\n    </g>\n   </g>\n   <g id=\"PathCollection_18\">\n    <g clip-path=\"url(#p44a75073db)\">\n     <use style=\"fill:#008000;stroke:#008000;\" x=\"51.683807\" xlink:href=\"#mb0862478b4\" y=\"53.009417\"/>\n    </g>\n   </g>\n   <g id=\"PathCollection_19\">\n    <g clip-path=\"url(#p44a75073db)\">\n     <use style=\"fill:#008000;stroke:#008000;\" x=\"51.683807\" xlink:href=\"#mb0862478b4\" y=\"42.605589\"/>\n    </g>\n   </g>\n   <g id=\"PathCollection_20\">\n    <g clip-path=\"url(#p44a75073db)\">\n     <use style=\"fill:#008000;stroke:#008000;\" x=\"51.683807\" xlink:href=\"#mb0862478b4\" y=\"32.201761\"/>\n    </g>\n   </g>\n   <g id=\"PathCollection_21\">\n    <g clip-path=\"url(#p44a75073db)\">\n     <use style=\"fill:#ff0000;stroke:#ff0000;\" x=\"67.702946\" xlink:href=\"#mbe7c1ad116\" y=\"229.874489\"/>\n    </g>\n   </g>\n   <g id=\"PathCollection_22\">\n    <g clip-path=\"url(#p44a75073db)\">\n     <use style=\"fill:#ff0000;stroke:#ff0000;\" x=\"67.702946\" xlink:href=\"#mbe7c1ad116\" y=\"219.470661\"/>\n    </g>\n   </g>\n   <g id=\"PathCollection_23\">\n    <g clip-path=\"url(#p44a75073db)\">\n     <use style=\"fill:#ff0000;stroke:#ff0000;\" x=\"67.702946\" xlink:href=\"#mbe7c1ad116\" y=\"209.066833\"/>\n    </g>\n   </g>\n   <g id=\"PathCollection_24\">\n    <g clip-path=\"url(#p44a75073db)\">\n     <use style=\"fill:#ff0000;stroke:#ff0000;\" x=\"67.702946\" xlink:href=\"#mbe7c1ad116\" y=\"198.663005\"/>\n    </g>\n   </g>\n   <g id=\"PathCollection_25\">\n    <g clip-path=\"url(#p44a75073db)\">\n     <use style=\"fill:#ff0000;stroke:#ff0000;\" x=\"67.702946\" xlink:href=\"#mbe7c1ad116\" y=\"188.259178\"/>\n    </g>\n   </g>\n   <g id=\"PathCollection_26\">\n    <g clip-path=\"url(#p44a75073db)\">\n     <use style=\"fill:#ff0000;stroke:#ff0000;\" x=\"67.702946\" xlink:href=\"#mbe7c1ad116\" y=\"177.85535\"/>\n    </g>\n   </g>\n   <g id=\"PathCollection_27\">\n    <g clip-path=\"url(#p44a75073db)\">\n     <use style=\"fill:#ff0000;stroke:#ff0000;\" x=\"67.702946\" xlink:href=\"#mbe7c1ad116\" y=\"167.451522\"/>\n    </g>\n   </g>\n   <g id=\"PathCollection_28\">\n    <g clip-path=\"url(#p44a75073db)\">\n     <use style=\"fill:#ff0000;stroke:#ff0000;\" x=\"67.702946\" xlink:href=\"#mbe7c1ad116\" y=\"157.047694\"/>\n    </g>\n   </g>\n   <g id=\"PathCollection_29\">\n    <g clip-path=\"url(#p44a75073db)\">\n     <use style=\"fill:#ff0000;stroke:#ff0000;\" x=\"67.702946\" xlink:href=\"#mbe7c1ad116\" y=\"146.643867\"/>\n    </g>\n   </g>\n   <g id=\"PathCollection_30\">\n    <g clip-path=\"url(#p44a75073db)\">\n     <use style=\"fill:#ff0000;stroke:#ff0000;\" x=\"67.702946\" xlink:href=\"#mbe7c1ad116\" y=\"136.240039\"/>\n    </g>\n   </g>\n   <g id=\"PathCollection_31\">\n    <g clip-path=\"url(#p44a75073db)\">\n     <use style=\"fill:#ff0000;stroke:#ff0000;\" x=\"67.702946\" xlink:href=\"#mbe7c1ad116\" y=\"125.836211\"/>\n    </g>\n   </g>\n   <g id=\"PathCollection_32\">\n    <g clip-path=\"url(#p44a75073db)\">\n     <use style=\"fill:#008000;stroke:#008000;\" x=\"67.702946\" xlink:href=\"#mb0862478b4\" y=\"115.432383\"/>\n    </g>\n   </g>\n   <g id=\"PathCollection_33\">\n    <g clip-path=\"url(#p44a75073db)\">\n     <use style=\"fill:#008000;stroke:#008000;\" x=\"67.702946\" xlink:href=\"#mb0862478b4\" y=\"105.028556\"/>\n    </g>\n   </g>\n   <g id=\"PathCollection_34\">\n    <g clip-path=\"url(#p44a75073db)\">\n     <use style=\"fill:#008000;stroke:#008000;\" x=\"67.702946\" xlink:href=\"#mb0862478b4\" y=\"94.624728\"/>\n    </g>\n   </g>\n   <g id=\"PathCollection_35\">\n    <g clip-path=\"url(#p44a75073db)\">\n     <use style=\"fill:#008000;stroke:#008000;\" x=\"67.702946\" xlink:href=\"#mb0862478b4\" y=\"84.2209\"/>\n    </g>\n   </g>\n   <g id=\"PathCollection_36\">\n    <g clip-path=\"url(#p44a75073db)\">\n     <use style=\"fill:#008000;stroke:#008000;\" x=\"67.702946\" xlink:href=\"#mb0862478b4\" y=\"73.817072\"/>\n    </g>\n   </g>\n   <g id=\"PathCollection_37\">\n    <g clip-path=\"url(#p44a75073db)\">\n     <use style=\"fill:#008000;stroke:#008000;\" x=\"67.702946\" xlink:href=\"#mb0862478b4\" y=\"63.413245\"/>\n    </g>\n   </g>\n   <g id=\"PathCollection_38\">\n    <g clip-path=\"url(#p44a75073db)\">\n     <use style=\"fill:#008000;stroke:#008000;\" x=\"67.702946\" xlink:href=\"#mb0862478b4\" y=\"53.009417\"/>\n    </g>\n   </g>\n   <g id=\"PathCollection_39\">\n    <g clip-path=\"url(#p44a75073db)\">\n     <use style=\"fill:#008000;stroke:#008000;\" x=\"67.702946\" xlink:href=\"#mb0862478b4\" y=\"42.605589\"/>\n    </g>\n   </g>\n   <g id=\"PathCollection_40\">\n    <g clip-path=\"url(#p44a75073db)\">\n     <use style=\"fill:#008000;stroke:#008000;\" x=\"67.702946\" xlink:href=\"#mb0862478b4\" y=\"32.201761\"/>\n    </g>\n   </g>\n   <g id=\"PathCollection_41\">\n    <g clip-path=\"url(#p44a75073db)\">\n     <use style=\"fill:#ff0000;stroke:#ff0000;\" x=\"83.722084\" xlink:href=\"#mbe7c1ad116\" y=\"229.874489\"/>\n    </g>\n   </g>\n   <g id=\"PathCollection_42\">\n    <g clip-path=\"url(#p44a75073db)\">\n     <use style=\"fill:#ff0000;stroke:#ff0000;\" x=\"83.722084\" xlink:href=\"#mbe7c1ad116\" y=\"219.470661\"/>\n    </g>\n   </g>\n   <g id=\"PathCollection_43\">\n    <g clip-path=\"url(#p44a75073db)\">\n     <use style=\"fill:#ff0000;stroke:#ff0000;\" x=\"83.722084\" xlink:href=\"#mbe7c1ad116\" y=\"209.066833\"/>\n    </g>\n   </g>\n   <g id=\"PathCollection_44\">\n    <g clip-path=\"url(#p44a75073db)\">\n     <use style=\"fill:#ff0000;stroke:#ff0000;\" x=\"83.722084\" xlink:href=\"#mbe7c1ad116\" y=\"198.663005\"/>\n    </g>\n   </g>\n   <g id=\"PathCollection_45\">\n    <g clip-path=\"url(#p44a75073db)\">\n     <use style=\"fill:#ff0000;stroke:#ff0000;\" x=\"83.722084\" xlink:href=\"#mbe7c1ad116\" y=\"188.259178\"/>\n    </g>\n   </g>\n   <g id=\"PathCollection_46\">\n    <g clip-path=\"url(#p44a75073db)\">\n     <use style=\"fill:#ff0000;stroke:#ff0000;\" x=\"83.722084\" xlink:href=\"#mbe7c1ad116\" y=\"177.85535\"/>\n    </g>\n   </g>\n   <g id=\"PathCollection_47\">\n    <g clip-path=\"url(#p44a75073db)\">\n     <use style=\"fill:#ff0000;stroke:#ff0000;\" x=\"83.722084\" xlink:href=\"#mbe7c1ad116\" y=\"167.451522\"/>\n    </g>\n   </g>\n   <g id=\"PathCollection_48\">\n    <g clip-path=\"url(#p44a75073db)\">\n     <use style=\"fill:#ff0000;stroke:#ff0000;\" x=\"83.722084\" xlink:href=\"#mbe7c1ad116\" y=\"157.047694\"/>\n    </g>\n   </g>\n   <g id=\"PathCollection_49\">\n    <g clip-path=\"url(#p44a75073db)\">\n     <use style=\"fill:#ff0000;stroke:#ff0000;\" x=\"83.722084\" xlink:href=\"#mbe7c1ad116\" y=\"146.643867\"/>\n    </g>\n   </g>\n   <g id=\"PathCollection_50\">\n    <g clip-path=\"url(#p44a75073db)\">\n     <use style=\"fill:#ff0000;stroke:#ff0000;\" x=\"83.722084\" xlink:href=\"#mbe7c1ad116\" y=\"136.240039\"/>\n    </g>\n   </g>\n   <g id=\"PathCollection_51\">\n    <g clip-path=\"url(#p44a75073db)\">\n     <use style=\"fill:#ff0000;stroke:#ff0000;\" x=\"83.722084\" xlink:href=\"#mbe7c1ad116\" y=\"125.836211\"/>\n    </g>\n   </g>\n   <g id=\"PathCollection_52\">\n    <g clip-path=\"url(#p44a75073db)\">\n     <use style=\"fill:#008000;stroke:#008000;\" x=\"83.722084\" xlink:href=\"#mb0862478b4\" y=\"115.432383\"/>\n    </g>\n   </g>\n   <g id=\"PathCollection_53\">\n    <g clip-path=\"url(#p44a75073db)\">\n     <use style=\"fill:#008000;stroke:#008000;\" x=\"83.722084\" xlink:href=\"#mb0862478b4\" y=\"105.028556\"/>\n    </g>\n   </g>\n   <g id=\"PathCollection_54\">\n    <g clip-path=\"url(#p44a75073db)\">\n     <use style=\"fill:#008000;stroke:#008000;\" x=\"83.722084\" xlink:href=\"#mb0862478b4\" y=\"94.624728\"/>\n    </g>\n   </g>\n   <g id=\"PathCollection_55\">\n    <g clip-path=\"url(#p44a75073db)\">\n     <use style=\"fill:#008000;stroke:#008000;\" x=\"83.722084\" xlink:href=\"#mb0862478b4\" y=\"84.2209\"/>\n    </g>\n   </g>\n   <g id=\"PathCollection_56\">\n    <g clip-path=\"url(#p44a75073db)\">\n     <use style=\"fill:#008000;stroke:#008000;\" x=\"83.722084\" xlink:href=\"#mb0862478b4\" y=\"73.817072\"/>\n    </g>\n   </g>\n   <g id=\"PathCollection_57\">\n    <g clip-path=\"url(#p44a75073db)\">\n     <use style=\"fill:#008000;stroke:#008000;\" x=\"83.722084\" xlink:href=\"#mb0862478b4\" y=\"63.413245\"/>\n    </g>\n   </g>\n   <g id=\"PathCollection_58\">\n    <g clip-path=\"url(#p44a75073db)\">\n     <use style=\"fill:#008000;stroke:#008000;\" x=\"83.722084\" xlink:href=\"#mb0862478b4\" y=\"53.009417\"/>\n    </g>\n   </g>\n   <g id=\"PathCollection_59\">\n    <g clip-path=\"url(#p44a75073db)\">\n     <use style=\"fill:#008000;stroke:#008000;\" x=\"83.722084\" xlink:href=\"#mb0862478b4\" y=\"42.605589\"/>\n    </g>\n   </g>\n   <g id=\"PathCollection_60\">\n    <g clip-path=\"url(#p44a75073db)\">\n     <use style=\"fill:#008000;stroke:#008000;\" x=\"83.722084\" xlink:href=\"#mb0862478b4\" y=\"32.201761\"/>\n    </g>\n   </g>\n   <g id=\"PathCollection_61\">\n    <g clip-path=\"url(#p44a75073db)\">\n     <use style=\"fill:#ff0000;stroke:#ff0000;\" x=\"99.741223\" xlink:href=\"#mbe7c1ad116\" y=\"229.874489\"/>\n    </g>\n   </g>\n   <g id=\"PathCollection_62\">\n    <g clip-path=\"url(#p44a75073db)\">\n     <use style=\"fill:#ff0000;stroke:#ff0000;\" x=\"99.741223\" xlink:href=\"#mbe7c1ad116\" y=\"219.470661\"/>\n    </g>\n   </g>\n   <g id=\"PathCollection_63\">\n    <g clip-path=\"url(#p44a75073db)\">\n     <use style=\"fill:#ff0000;stroke:#ff0000;\" x=\"99.741223\" xlink:href=\"#mbe7c1ad116\" y=\"209.066833\"/>\n    </g>\n   </g>\n   <g id=\"PathCollection_64\">\n    <g clip-path=\"url(#p44a75073db)\">\n     <use style=\"fill:#ff0000;stroke:#ff0000;\" x=\"99.741223\" xlink:href=\"#mbe7c1ad116\" y=\"198.663005\"/>\n    </g>\n   </g>\n   <g id=\"PathCollection_65\">\n    <g clip-path=\"url(#p44a75073db)\">\n     <use style=\"fill:#ff0000;stroke:#ff0000;\" x=\"99.741223\" xlink:href=\"#mbe7c1ad116\" y=\"188.259178\"/>\n    </g>\n   </g>\n   <g id=\"PathCollection_66\">\n    <g clip-path=\"url(#p44a75073db)\">\n     <use style=\"fill:#ff0000;stroke:#ff0000;\" x=\"99.741223\" xlink:href=\"#mbe7c1ad116\" y=\"177.85535\"/>\n    </g>\n   </g>\n   <g id=\"PathCollection_67\">\n    <g clip-path=\"url(#p44a75073db)\">\n     <use style=\"fill:#ff0000;stroke:#ff0000;\" x=\"99.741223\" xlink:href=\"#mbe7c1ad116\" y=\"167.451522\"/>\n    </g>\n   </g>\n   <g id=\"PathCollection_68\">\n    <g clip-path=\"url(#p44a75073db)\">\n     <use style=\"fill:#ff0000;stroke:#ff0000;\" x=\"99.741223\" xlink:href=\"#mbe7c1ad116\" y=\"157.047694\"/>\n    </g>\n   </g>\n   <g id=\"PathCollection_69\">\n    <g clip-path=\"url(#p44a75073db)\">\n     <use style=\"fill:#ff0000;stroke:#ff0000;\" x=\"99.741223\" xlink:href=\"#mbe7c1ad116\" y=\"146.643867\"/>\n    </g>\n   </g>\n   <g id=\"PathCollection_70\">\n    <g clip-path=\"url(#p44a75073db)\">\n     <use style=\"fill:#ff0000;stroke:#ff0000;\" x=\"99.741223\" xlink:href=\"#mbe7c1ad116\" y=\"136.240039\"/>\n    </g>\n   </g>\n   <g id=\"PathCollection_71\">\n    <g clip-path=\"url(#p44a75073db)\">\n     <use style=\"fill:#008000;stroke:#008000;\" x=\"99.741223\" xlink:href=\"#mb0862478b4\" y=\"125.836211\"/>\n    </g>\n   </g>\n   <g id=\"PathCollection_72\">\n    <g clip-path=\"url(#p44a75073db)\">\n     <use style=\"fill:#008000;stroke:#008000;\" x=\"99.741223\" xlink:href=\"#mb0862478b4\" y=\"115.432383\"/>\n    </g>\n   </g>\n   <g id=\"PathCollection_73\">\n    <g clip-path=\"url(#p44a75073db)\">\n     <use style=\"fill:#008000;stroke:#008000;\" x=\"99.741223\" xlink:href=\"#mb0862478b4\" y=\"105.028556\"/>\n    </g>\n   </g>\n   <g id=\"PathCollection_74\">\n    <g clip-path=\"url(#p44a75073db)\">\n     <use style=\"fill:#008000;stroke:#008000;\" x=\"99.741223\" xlink:href=\"#mb0862478b4\" y=\"94.624728\"/>\n    </g>\n   </g>\n   <g id=\"PathCollection_75\">\n    <g clip-path=\"url(#p44a75073db)\">\n     <use style=\"fill:#008000;stroke:#008000;\" x=\"99.741223\" xlink:href=\"#mb0862478b4\" y=\"84.2209\"/>\n    </g>\n   </g>\n   <g id=\"PathCollection_76\">\n    <g clip-path=\"url(#p44a75073db)\">\n     <use style=\"fill:#008000;stroke:#008000;\" x=\"99.741223\" xlink:href=\"#mb0862478b4\" y=\"73.817072\"/>\n    </g>\n   </g>\n   <g id=\"PathCollection_77\">\n    <g clip-path=\"url(#p44a75073db)\">\n     <use style=\"fill:#008000;stroke:#008000;\" x=\"99.741223\" xlink:href=\"#mb0862478b4\" y=\"63.413245\"/>\n    </g>\n   </g>\n   <g id=\"PathCollection_78\">\n    <g clip-path=\"url(#p44a75073db)\">\n     <use style=\"fill:#008000;stroke:#008000;\" x=\"99.741223\" xlink:href=\"#mb0862478b4\" y=\"53.009417\"/>\n    </g>\n   </g>\n   <g id=\"PathCollection_79\">\n    <g clip-path=\"url(#p44a75073db)\">\n     <use style=\"fill:#008000;stroke:#008000;\" x=\"99.741223\" xlink:href=\"#mb0862478b4\" y=\"42.605589\"/>\n    </g>\n   </g>\n   <g id=\"PathCollection_80\">\n    <g clip-path=\"url(#p44a75073db)\">\n     <use style=\"fill:#008000;stroke:#008000;\" x=\"99.741223\" xlink:href=\"#mb0862478b4\" y=\"32.201761\"/>\n    </g>\n   </g>\n   <g id=\"PathCollection_81\">\n    <g clip-path=\"url(#p44a75073db)\">\n     <use style=\"fill:#ff0000;stroke:#ff0000;\" x=\"115.760362\" xlink:href=\"#mbe7c1ad116\" y=\"229.874489\"/>\n    </g>\n   </g>\n   <g id=\"PathCollection_82\">\n    <g clip-path=\"url(#p44a75073db)\">\n     <use style=\"fill:#ff0000;stroke:#ff0000;\" x=\"115.760362\" xlink:href=\"#mbe7c1ad116\" y=\"219.470661\"/>\n    </g>\n   </g>\n   <g id=\"PathCollection_83\">\n    <g clip-path=\"url(#p44a75073db)\">\n     <use style=\"fill:#ff0000;stroke:#ff0000;\" x=\"115.760362\" xlink:href=\"#mbe7c1ad116\" y=\"209.066833\"/>\n    </g>\n   </g>\n   <g id=\"PathCollection_84\">\n    <g clip-path=\"url(#p44a75073db)\">\n     <use style=\"fill:#ff0000;stroke:#ff0000;\" x=\"115.760362\" xlink:href=\"#mbe7c1ad116\" y=\"198.663005\"/>\n    </g>\n   </g>\n   <g id=\"PathCollection_85\">\n    <g clip-path=\"url(#p44a75073db)\">\n     <use style=\"fill:#ff0000;stroke:#ff0000;\" x=\"115.760362\" xlink:href=\"#mbe7c1ad116\" y=\"188.259178\"/>\n    </g>\n   </g>\n   <g id=\"PathCollection_86\">\n    <g clip-path=\"url(#p44a75073db)\">\n     <use style=\"fill:#ff0000;stroke:#ff0000;\" x=\"115.760362\" xlink:href=\"#mbe7c1ad116\" y=\"177.85535\"/>\n    </g>\n   </g>\n   <g id=\"PathCollection_87\">\n    <g clip-path=\"url(#p44a75073db)\">\n     <use style=\"fill:#ff0000;stroke:#ff0000;\" x=\"115.760362\" xlink:href=\"#mbe7c1ad116\" y=\"167.451522\"/>\n    </g>\n   </g>\n   <g id=\"PathCollection_88\">\n    <g clip-path=\"url(#p44a75073db)\">\n     <use style=\"fill:#ff0000;stroke:#ff0000;\" x=\"115.760362\" xlink:href=\"#mbe7c1ad116\" y=\"157.047694\"/>\n    </g>\n   </g>\n   <g id=\"PathCollection_89\">\n    <g clip-path=\"url(#p44a75073db)\">\n     <use style=\"fill:#ff0000;stroke:#ff0000;\" x=\"115.760362\" xlink:href=\"#mbe7c1ad116\" y=\"146.643867\"/>\n    </g>\n   </g>\n   <g id=\"PathCollection_90\">\n    <g clip-path=\"url(#p44a75073db)\">\n     <use style=\"fill:#008000;stroke:#008000;\" x=\"115.760362\" xlink:href=\"#mb0862478b4\" y=\"136.240039\"/>\n    </g>\n   </g>\n   <g id=\"PathCollection_91\">\n    <g clip-path=\"url(#p44a75073db)\">\n     <use style=\"fill:#008000;stroke:#008000;\" x=\"115.760362\" xlink:href=\"#mb0862478b4\" y=\"125.836211\"/>\n    </g>\n   </g>\n   <g id=\"PathCollection_92\">\n    <g clip-path=\"url(#p44a75073db)\">\n     <use style=\"fill:#008000;stroke:#008000;\" x=\"115.760362\" xlink:href=\"#mb0862478b4\" y=\"115.432383\"/>\n    </g>\n   </g>\n   <g id=\"PathCollection_93\">\n    <g clip-path=\"url(#p44a75073db)\">\n     <use style=\"fill:#008000;stroke:#008000;\" x=\"115.760362\" xlink:href=\"#mb0862478b4\" y=\"105.028556\"/>\n    </g>\n   </g>\n   <g id=\"PathCollection_94\">\n    <g clip-path=\"url(#p44a75073db)\">\n     <use style=\"fill:#008000;stroke:#008000;\" x=\"115.760362\" xlink:href=\"#mb0862478b4\" y=\"94.624728\"/>\n    </g>\n   </g>\n   <g id=\"PathCollection_95\">\n    <g clip-path=\"url(#p44a75073db)\">\n     <use style=\"fill:#008000;stroke:#008000;\" x=\"115.760362\" xlink:href=\"#mb0862478b4\" y=\"84.2209\"/>\n    </g>\n   </g>\n   <g id=\"PathCollection_96\">\n    <g clip-path=\"url(#p44a75073db)\">\n     <use style=\"fill:#008000;stroke:#008000;\" x=\"115.760362\" xlink:href=\"#mb0862478b4\" y=\"73.817072\"/>\n    </g>\n   </g>\n   <g id=\"PathCollection_97\">\n    <g clip-path=\"url(#p44a75073db)\">\n     <use style=\"fill:#008000;stroke:#008000;\" x=\"115.760362\" xlink:href=\"#mb0862478b4\" y=\"63.413245\"/>\n    </g>\n   </g>\n   <g id=\"PathCollection_98\">\n    <g clip-path=\"url(#p44a75073db)\">\n     <use style=\"fill:#008000;stroke:#008000;\" x=\"115.760362\" xlink:href=\"#mb0862478b4\" y=\"53.009417\"/>\n    </g>\n   </g>\n   <g id=\"PathCollection_99\">\n    <g clip-path=\"url(#p44a75073db)\">\n     <use style=\"fill:#008000;stroke:#008000;\" x=\"115.760362\" xlink:href=\"#mb0862478b4\" y=\"42.605589\"/>\n    </g>\n   </g>\n   <g id=\"PathCollection_100\">\n    <g clip-path=\"url(#p44a75073db)\">\n     <use style=\"fill:#008000;stroke:#008000;\" x=\"115.760362\" xlink:href=\"#mb0862478b4\" y=\"32.201761\"/>\n    </g>\n   </g>\n   <g id=\"PathCollection_101\">\n    <g clip-path=\"url(#p44a75073db)\">\n     <use style=\"fill:#ff0000;stroke:#ff0000;\" x=\"131.779501\" xlink:href=\"#mbe7c1ad116\" y=\"229.874489\"/>\n    </g>\n   </g>\n   <g id=\"PathCollection_102\">\n    <g clip-path=\"url(#p44a75073db)\">\n     <use style=\"fill:#ff0000;stroke:#ff0000;\" x=\"131.779501\" xlink:href=\"#mbe7c1ad116\" y=\"219.470661\"/>\n    </g>\n   </g>\n   <g id=\"PathCollection_103\">\n    <g clip-path=\"url(#p44a75073db)\">\n     <use style=\"fill:#ff0000;stroke:#ff0000;\" x=\"131.779501\" xlink:href=\"#mbe7c1ad116\" y=\"209.066833\"/>\n    </g>\n   </g>\n   <g id=\"PathCollection_104\">\n    <g clip-path=\"url(#p44a75073db)\">\n     <use style=\"fill:#ff0000;stroke:#ff0000;\" x=\"131.779501\" xlink:href=\"#mbe7c1ad116\" y=\"198.663005\"/>\n    </g>\n   </g>\n   <g id=\"PathCollection_105\">\n    <g clip-path=\"url(#p44a75073db)\">\n     <use style=\"fill:#ff0000;stroke:#ff0000;\" x=\"131.779501\" xlink:href=\"#mbe7c1ad116\" y=\"188.259178\"/>\n    </g>\n   </g>\n   <g id=\"PathCollection_106\">\n    <g clip-path=\"url(#p44a75073db)\">\n     <use style=\"fill:#ff0000;stroke:#ff0000;\" x=\"131.779501\" xlink:href=\"#mbe7c1ad116\" y=\"177.85535\"/>\n    </g>\n   </g>\n   <g id=\"PathCollection_107\">\n    <g clip-path=\"url(#p44a75073db)\">\n     <use style=\"fill:#ff0000;stroke:#ff0000;\" x=\"131.779501\" xlink:href=\"#mbe7c1ad116\" y=\"167.451522\"/>\n    </g>\n   </g>\n   <g id=\"PathCollection_108\">\n    <g clip-path=\"url(#p44a75073db)\">\n     <use style=\"fill:#ff0000;stroke:#ff0000;\" x=\"131.779501\" xlink:href=\"#mbe7c1ad116\" y=\"157.047694\"/>\n    </g>\n   </g>\n   <g id=\"PathCollection_109\">\n    <g clip-path=\"url(#p44a75073db)\">\n     <use style=\"fill:#008000;stroke:#008000;\" x=\"131.779501\" xlink:href=\"#mb0862478b4\" y=\"146.643867\"/>\n    </g>\n   </g>\n   <g id=\"PathCollection_110\">\n    <g clip-path=\"url(#p44a75073db)\">\n     <use style=\"fill:#008000;stroke:#008000;\" x=\"131.779501\" xlink:href=\"#mb0862478b4\" y=\"136.240039\"/>\n    </g>\n   </g>\n   <g id=\"PathCollection_111\">\n    <g clip-path=\"url(#p44a75073db)\">\n     <use style=\"fill:#008000;stroke:#008000;\" x=\"131.779501\" xlink:href=\"#mb0862478b4\" y=\"125.836211\"/>\n    </g>\n   </g>\n   <g id=\"PathCollection_112\">\n    <g clip-path=\"url(#p44a75073db)\">\n     <use style=\"fill:#008000;stroke:#008000;\" x=\"131.779501\" xlink:href=\"#mb0862478b4\" y=\"115.432383\"/>\n    </g>\n   </g>\n   <g id=\"PathCollection_113\">\n    <g clip-path=\"url(#p44a75073db)\">\n     <use style=\"fill:#008000;stroke:#008000;\" x=\"131.779501\" xlink:href=\"#mb0862478b4\" y=\"105.028556\"/>\n    </g>\n   </g>\n   <g id=\"PathCollection_114\">\n    <g clip-path=\"url(#p44a75073db)\">\n     <use style=\"fill:#008000;stroke:#008000;\" x=\"131.779501\" xlink:href=\"#mb0862478b4\" y=\"94.624728\"/>\n    </g>\n   </g>\n   <g id=\"PathCollection_115\">\n    <g clip-path=\"url(#p44a75073db)\">\n     <use style=\"fill:#008000;stroke:#008000;\" x=\"131.779501\" xlink:href=\"#mb0862478b4\" y=\"84.2209\"/>\n    </g>\n   </g>\n   <g id=\"PathCollection_116\">\n    <g clip-path=\"url(#p44a75073db)\">\n     <use style=\"fill:#008000;stroke:#008000;\" x=\"131.779501\" xlink:href=\"#mb0862478b4\" y=\"73.817072\"/>\n    </g>\n   </g>\n   <g id=\"PathCollection_117\">\n    <g clip-path=\"url(#p44a75073db)\">\n     <use style=\"fill:#008000;stroke:#008000;\" x=\"131.779501\" xlink:href=\"#mb0862478b4\" y=\"63.413245\"/>\n    </g>\n   </g>\n   <g id=\"PathCollection_118\">\n    <g clip-path=\"url(#p44a75073db)\">\n     <use style=\"fill:#008000;stroke:#008000;\" x=\"131.779501\" xlink:href=\"#mb0862478b4\" y=\"53.009417\"/>\n    </g>\n   </g>\n   <g id=\"PathCollection_119\">\n    <g clip-path=\"url(#p44a75073db)\">\n     <use style=\"fill:#008000;stroke:#008000;\" x=\"131.779501\" xlink:href=\"#mb0862478b4\" y=\"42.605589\"/>\n    </g>\n   </g>\n   <g id=\"PathCollection_120\">\n    <g clip-path=\"url(#p44a75073db)\">\n     <use style=\"fill:#008000;stroke:#008000;\" x=\"131.779501\" xlink:href=\"#mb0862478b4\" y=\"32.201761\"/>\n    </g>\n   </g>\n   <g id=\"PathCollection_121\">\n    <g clip-path=\"url(#p44a75073db)\">\n     <use style=\"fill:#ff0000;stroke:#ff0000;\" x=\"147.798639\" xlink:href=\"#mbe7c1ad116\" y=\"229.874489\"/>\n    </g>\n   </g>\n   <g id=\"PathCollection_122\">\n    <g clip-path=\"url(#p44a75073db)\">\n     <use style=\"fill:#ff0000;stroke:#ff0000;\" x=\"147.798639\" xlink:href=\"#mbe7c1ad116\" y=\"219.470661\"/>\n    </g>\n   </g>\n   <g id=\"PathCollection_123\">\n    <g clip-path=\"url(#p44a75073db)\">\n     <use style=\"fill:#ff0000;stroke:#ff0000;\" x=\"147.798639\" xlink:href=\"#mbe7c1ad116\" y=\"209.066833\"/>\n    </g>\n   </g>\n   <g id=\"PathCollection_124\">\n    <g clip-path=\"url(#p44a75073db)\">\n     <use style=\"fill:#ff0000;stroke:#ff0000;\" x=\"147.798639\" xlink:href=\"#mbe7c1ad116\" y=\"198.663005\"/>\n    </g>\n   </g>\n   <g id=\"PathCollection_125\">\n    <g clip-path=\"url(#p44a75073db)\">\n     <use style=\"fill:#ff0000;stroke:#ff0000;\" x=\"147.798639\" xlink:href=\"#mbe7c1ad116\" y=\"188.259178\"/>\n    </g>\n   </g>\n   <g id=\"PathCollection_126\">\n    <g clip-path=\"url(#p44a75073db)\">\n     <use style=\"fill:#ff0000;stroke:#ff0000;\" x=\"147.798639\" xlink:href=\"#mbe7c1ad116\" y=\"177.85535\"/>\n    </g>\n   </g>\n   <g id=\"PathCollection_127\">\n    <g clip-path=\"url(#p44a75073db)\">\n     <use style=\"fill:#ff0000;stroke:#ff0000;\" x=\"147.798639\" xlink:href=\"#mbe7c1ad116\" y=\"167.451522\"/>\n    </g>\n   </g>\n   <g id=\"PathCollection_128\">\n    <g clip-path=\"url(#p44a75073db)\">\n     <use style=\"fill:#ff0000;stroke:#ff0000;\" x=\"147.798639\" xlink:href=\"#mbe7c1ad116\" y=\"157.047694\"/>\n    </g>\n   </g>\n   <g id=\"PathCollection_129\">\n    <g clip-path=\"url(#p44a75073db)\">\n     <use style=\"fill:#008000;stroke:#008000;\" x=\"147.798639\" xlink:href=\"#mb0862478b4\" y=\"146.643867\"/>\n    </g>\n   </g>\n   <g id=\"PathCollection_130\">\n    <g clip-path=\"url(#p44a75073db)\">\n     <use style=\"fill:#008000;stroke:#008000;\" x=\"147.798639\" xlink:href=\"#mb0862478b4\" y=\"136.240039\"/>\n    </g>\n   </g>\n   <g id=\"PathCollection_131\">\n    <g clip-path=\"url(#p44a75073db)\">\n     <use style=\"fill:#008000;stroke:#008000;\" x=\"147.798639\" xlink:href=\"#mb0862478b4\" y=\"125.836211\"/>\n    </g>\n   </g>\n   <g id=\"PathCollection_132\">\n    <g clip-path=\"url(#p44a75073db)\">\n     <use style=\"fill:#008000;stroke:#008000;\" x=\"147.798639\" xlink:href=\"#mb0862478b4\" y=\"115.432383\"/>\n    </g>\n   </g>\n   <g id=\"PathCollection_133\">\n    <g clip-path=\"url(#p44a75073db)\">\n     <use style=\"fill:#008000;stroke:#008000;\" x=\"147.798639\" xlink:href=\"#mb0862478b4\" y=\"105.028556\"/>\n    </g>\n   </g>\n   <g id=\"PathCollection_134\">\n    <g clip-path=\"url(#p44a75073db)\">\n     <use style=\"fill:#008000;stroke:#008000;\" x=\"147.798639\" xlink:href=\"#mb0862478b4\" y=\"94.624728\"/>\n    </g>\n   </g>\n   <g id=\"PathCollection_135\">\n    <g clip-path=\"url(#p44a75073db)\">\n     <use style=\"fill:#008000;stroke:#008000;\" x=\"147.798639\" xlink:href=\"#mb0862478b4\" y=\"84.2209\"/>\n    </g>\n   </g>\n   <g id=\"PathCollection_136\">\n    <g clip-path=\"url(#p44a75073db)\">\n     <use style=\"fill:#008000;stroke:#008000;\" x=\"147.798639\" xlink:href=\"#mb0862478b4\" y=\"73.817072\"/>\n    </g>\n   </g>\n   <g id=\"PathCollection_137\">\n    <g clip-path=\"url(#p44a75073db)\">\n     <use style=\"fill:#008000;stroke:#008000;\" x=\"147.798639\" xlink:href=\"#mb0862478b4\" y=\"63.413245\"/>\n    </g>\n   </g>\n   <g id=\"PathCollection_138\">\n    <g clip-path=\"url(#p44a75073db)\">\n     <use style=\"fill:#008000;stroke:#008000;\" x=\"147.798639\" xlink:href=\"#mb0862478b4\" y=\"53.009417\"/>\n    </g>\n   </g>\n   <g id=\"PathCollection_139\">\n    <g clip-path=\"url(#p44a75073db)\">\n     <use style=\"fill:#008000;stroke:#008000;\" x=\"147.798639\" xlink:href=\"#mb0862478b4\" y=\"42.605589\"/>\n    </g>\n   </g>\n   <g id=\"PathCollection_140\">\n    <g clip-path=\"url(#p44a75073db)\">\n     <use style=\"fill:#008000;stroke:#008000;\" x=\"147.798639\" xlink:href=\"#mb0862478b4\" y=\"32.201761\"/>\n    </g>\n   </g>\n   <g id=\"PathCollection_141\">\n    <g clip-path=\"url(#p44a75073db)\">\n     <use style=\"fill:#ff0000;stroke:#ff0000;\" x=\"163.817778\" xlink:href=\"#mbe7c1ad116\" y=\"229.874489\"/>\n    </g>\n   </g>\n   <g id=\"PathCollection_142\">\n    <g clip-path=\"url(#p44a75073db)\">\n     <use style=\"fill:#ff0000;stroke:#ff0000;\" x=\"163.817778\" xlink:href=\"#mbe7c1ad116\" y=\"219.470661\"/>\n    </g>\n   </g>\n   <g id=\"PathCollection_143\">\n    <g clip-path=\"url(#p44a75073db)\">\n     <use style=\"fill:#ff0000;stroke:#ff0000;\" x=\"163.817778\" xlink:href=\"#mbe7c1ad116\" y=\"209.066833\"/>\n    </g>\n   </g>\n   <g id=\"PathCollection_144\">\n    <g clip-path=\"url(#p44a75073db)\">\n     <use style=\"fill:#ff0000;stroke:#ff0000;\" x=\"163.817778\" xlink:href=\"#mbe7c1ad116\" y=\"198.663005\"/>\n    </g>\n   </g>\n   <g id=\"PathCollection_145\">\n    <g clip-path=\"url(#p44a75073db)\">\n     <use style=\"fill:#ff0000;stroke:#ff0000;\" x=\"163.817778\" xlink:href=\"#mbe7c1ad116\" y=\"188.259178\"/>\n    </g>\n   </g>\n   <g id=\"PathCollection_146\">\n    <g clip-path=\"url(#p44a75073db)\">\n     <use style=\"fill:#ff0000;stroke:#ff0000;\" x=\"163.817778\" xlink:href=\"#mbe7c1ad116\" y=\"177.85535\"/>\n    </g>\n   </g>\n   <g id=\"PathCollection_147\">\n    <g clip-path=\"url(#p44a75073db)\">\n     <use style=\"fill:#ff0000;stroke:#ff0000;\" x=\"163.817778\" xlink:href=\"#mbe7c1ad116\" y=\"167.451522\"/>\n    </g>\n   </g>\n   <g id=\"PathCollection_148\">\n    <g clip-path=\"url(#p44a75073db)\">\n     <use style=\"fill:#008000;stroke:#008000;\" x=\"163.817778\" xlink:href=\"#mb0862478b4\" y=\"157.047694\"/>\n    </g>\n   </g>\n   <g id=\"PathCollection_149\">\n    <g clip-path=\"url(#p44a75073db)\">\n     <use style=\"fill:#008000;stroke:#008000;\" x=\"163.817778\" xlink:href=\"#mb0862478b4\" y=\"146.643867\"/>\n    </g>\n   </g>\n   <g id=\"PathCollection_150\">\n    <g clip-path=\"url(#p44a75073db)\">\n     <use style=\"fill:#008000;stroke:#008000;\" x=\"163.817778\" xlink:href=\"#mb0862478b4\" y=\"136.240039\"/>\n    </g>\n   </g>\n   <g id=\"PathCollection_151\">\n    <g clip-path=\"url(#p44a75073db)\">\n     <use style=\"fill:#008000;stroke:#008000;\" x=\"163.817778\" xlink:href=\"#mb0862478b4\" y=\"125.836211\"/>\n    </g>\n   </g>\n   <g id=\"PathCollection_152\">\n    <g clip-path=\"url(#p44a75073db)\">\n     <use style=\"fill:#008000;stroke:#008000;\" x=\"163.817778\" xlink:href=\"#mb0862478b4\" y=\"115.432383\"/>\n    </g>\n   </g>\n   <g id=\"PathCollection_153\">\n    <g clip-path=\"url(#p44a75073db)\">\n     <use style=\"fill:#008000;stroke:#008000;\" x=\"163.817778\" xlink:href=\"#mb0862478b4\" y=\"105.028556\"/>\n    </g>\n   </g>\n   <g id=\"PathCollection_154\">\n    <g clip-path=\"url(#p44a75073db)\">\n     <use style=\"fill:#008000;stroke:#008000;\" x=\"163.817778\" xlink:href=\"#mb0862478b4\" y=\"94.624728\"/>\n    </g>\n   </g>\n   <g id=\"PathCollection_155\">\n    <g clip-path=\"url(#p44a75073db)\">\n     <use style=\"fill:#008000;stroke:#008000;\" x=\"163.817778\" xlink:href=\"#mb0862478b4\" y=\"84.2209\"/>\n    </g>\n   </g>\n   <g id=\"PathCollection_156\">\n    <g clip-path=\"url(#p44a75073db)\">\n     <use style=\"fill:#008000;stroke:#008000;\" x=\"163.817778\" xlink:href=\"#mb0862478b4\" y=\"73.817072\"/>\n    </g>\n   </g>\n   <g id=\"PathCollection_157\">\n    <g clip-path=\"url(#p44a75073db)\">\n     <use style=\"fill:#008000;stroke:#008000;\" x=\"163.817778\" xlink:href=\"#mb0862478b4\" y=\"63.413245\"/>\n    </g>\n   </g>\n   <g id=\"PathCollection_158\">\n    <g clip-path=\"url(#p44a75073db)\">\n     <use style=\"fill:#008000;stroke:#008000;\" x=\"163.817778\" xlink:href=\"#mb0862478b4\" y=\"53.009417\"/>\n    </g>\n   </g>\n   <g id=\"PathCollection_159\">\n    <g clip-path=\"url(#p44a75073db)\">\n     <use style=\"fill:#008000;stroke:#008000;\" x=\"163.817778\" xlink:href=\"#mb0862478b4\" y=\"42.605589\"/>\n    </g>\n   </g>\n   <g id=\"PathCollection_160\">\n    <g clip-path=\"url(#p44a75073db)\">\n     <use style=\"fill:#008000;stroke:#008000;\" x=\"163.817778\" xlink:href=\"#mb0862478b4\" y=\"32.201761\"/>\n    </g>\n   </g>\n   <g id=\"PathCollection_161\">\n    <g clip-path=\"url(#p44a75073db)\">\n     <use style=\"fill:#ff0000;stroke:#ff0000;\" x=\"179.836917\" xlink:href=\"#mbe7c1ad116\" y=\"229.874489\"/>\n    </g>\n   </g>\n   <g id=\"PathCollection_162\">\n    <g clip-path=\"url(#p44a75073db)\">\n     <use style=\"fill:#ff0000;stroke:#ff0000;\" x=\"179.836917\" xlink:href=\"#mbe7c1ad116\" y=\"219.470661\"/>\n    </g>\n   </g>\n   <g id=\"PathCollection_163\">\n    <g clip-path=\"url(#p44a75073db)\">\n     <use style=\"fill:#ff0000;stroke:#ff0000;\" x=\"179.836917\" xlink:href=\"#mbe7c1ad116\" y=\"209.066833\"/>\n    </g>\n   </g>\n   <g id=\"PathCollection_164\">\n    <g clip-path=\"url(#p44a75073db)\">\n     <use style=\"fill:#ff0000;stroke:#ff0000;\" x=\"179.836917\" xlink:href=\"#mbe7c1ad116\" y=\"198.663005\"/>\n    </g>\n   </g>\n   <g id=\"PathCollection_165\">\n    <g clip-path=\"url(#p44a75073db)\">\n     <use style=\"fill:#ff0000;stroke:#ff0000;\" x=\"179.836917\" xlink:href=\"#mbe7c1ad116\" y=\"188.259178\"/>\n    </g>\n   </g>\n   <g id=\"PathCollection_166\">\n    <g clip-path=\"url(#p44a75073db)\">\n     <use style=\"fill:#ff0000;stroke:#ff0000;\" x=\"179.836917\" xlink:href=\"#mbe7c1ad116\" y=\"177.85535\"/>\n    </g>\n   </g>\n   <g id=\"PathCollection_167\">\n    <g clip-path=\"url(#p44a75073db)\">\n     <use style=\"fill:#008000;stroke:#008000;\" x=\"179.836917\" xlink:href=\"#mb0862478b4\" y=\"167.451522\"/>\n    </g>\n   </g>\n   <g id=\"PathCollection_168\">\n    <g clip-path=\"url(#p44a75073db)\">\n     <use style=\"fill:#008000;stroke:#008000;\" x=\"179.836917\" xlink:href=\"#mb0862478b4\" y=\"157.047694\"/>\n    </g>\n   </g>\n   <g id=\"PathCollection_169\">\n    <g clip-path=\"url(#p44a75073db)\">\n     <use style=\"fill:#008000;stroke:#008000;\" x=\"179.836917\" xlink:href=\"#mb0862478b4\" y=\"146.643867\"/>\n    </g>\n   </g>\n   <g id=\"PathCollection_170\">\n    <g clip-path=\"url(#p44a75073db)\">\n     <use style=\"fill:#008000;stroke:#008000;\" x=\"179.836917\" xlink:href=\"#mb0862478b4\" y=\"136.240039\"/>\n    </g>\n   </g>\n   <g id=\"PathCollection_171\">\n    <g clip-path=\"url(#p44a75073db)\">\n     <use style=\"fill:#008000;stroke:#008000;\" x=\"179.836917\" xlink:href=\"#mb0862478b4\" y=\"125.836211\"/>\n    </g>\n   </g>\n   <g id=\"PathCollection_172\">\n    <g clip-path=\"url(#p44a75073db)\">\n     <use style=\"fill:#008000;stroke:#008000;\" x=\"179.836917\" xlink:href=\"#mb0862478b4\" y=\"115.432383\"/>\n    </g>\n   </g>\n   <g id=\"PathCollection_173\">\n    <g clip-path=\"url(#p44a75073db)\">\n     <use style=\"fill:#008000;stroke:#008000;\" x=\"179.836917\" xlink:href=\"#mb0862478b4\" y=\"105.028556\"/>\n    </g>\n   </g>\n   <g id=\"PathCollection_174\">\n    <g clip-path=\"url(#p44a75073db)\">\n     <use style=\"fill:#008000;stroke:#008000;\" x=\"179.836917\" xlink:href=\"#mb0862478b4\" y=\"94.624728\"/>\n    </g>\n   </g>\n   <g id=\"PathCollection_175\">\n    <g clip-path=\"url(#p44a75073db)\">\n     <use style=\"fill:#008000;stroke:#008000;\" x=\"179.836917\" xlink:href=\"#mb0862478b4\" y=\"84.2209\"/>\n    </g>\n   </g>\n   <g id=\"PathCollection_176\">\n    <g clip-path=\"url(#p44a75073db)\">\n     <use style=\"fill:#008000;stroke:#008000;\" x=\"179.836917\" xlink:href=\"#mb0862478b4\" y=\"73.817072\"/>\n    </g>\n   </g>\n   <g id=\"PathCollection_177\">\n    <g clip-path=\"url(#p44a75073db)\">\n     <use style=\"fill:#008000;stroke:#008000;\" x=\"179.836917\" xlink:href=\"#mb0862478b4\" y=\"63.413245\"/>\n    </g>\n   </g>\n   <g id=\"PathCollection_178\">\n    <g clip-path=\"url(#p44a75073db)\">\n     <use style=\"fill:#008000;stroke:#008000;\" x=\"179.836917\" xlink:href=\"#mb0862478b4\" y=\"53.009417\"/>\n    </g>\n   </g>\n   <g id=\"PathCollection_179\">\n    <g clip-path=\"url(#p44a75073db)\">\n     <use style=\"fill:#008000;stroke:#008000;\" x=\"179.836917\" xlink:href=\"#mb0862478b4\" y=\"42.605589\"/>\n    </g>\n   </g>\n   <g id=\"PathCollection_180\">\n    <g clip-path=\"url(#p44a75073db)\">\n     <use style=\"fill:#008000;stroke:#008000;\" x=\"179.836917\" xlink:href=\"#mb0862478b4\" y=\"32.201761\"/>\n    </g>\n   </g>\n   <g id=\"PathCollection_181\">\n    <g clip-path=\"url(#p44a75073db)\">\n     <use style=\"fill:#ff0000;stroke:#ff0000;\" x=\"195.856056\" xlink:href=\"#mbe7c1ad116\" y=\"229.874489\"/>\n    </g>\n   </g>\n   <g id=\"PathCollection_182\">\n    <g clip-path=\"url(#p44a75073db)\">\n     <use style=\"fill:#ff0000;stroke:#ff0000;\" x=\"195.856056\" xlink:href=\"#mbe7c1ad116\" y=\"219.470661\"/>\n    </g>\n   </g>\n   <g id=\"PathCollection_183\">\n    <g clip-path=\"url(#p44a75073db)\">\n     <use style=\"fill:#ff0000;stroke:#ff0000;\" x=\"195.856056\" xlink:href=\"#mbe7c1ad116\" y=\"209.066833\"/>\n    </g>\n   </g>\n   <g id=\"PathCollection_184\">\n    <g clip-path=\"url(#p44a75073db)\">\n     <use style=\"fill:#ff0000;stroke:#ff0000;\" x=\"195.856056\" xlink:href=\"#mbe7c1ad116\" y=\"198.663005\"/>\n    </g>\n   </g>\n   <g id=\"PathCollection_185\">\n    <g clip-path=\"url(#p44a75073db)\">\n     <use style=\"fill:#ff0000;stroke:#ff0000;\" x=\"195.856056\" xlink:href=\"#mbe7c1ad116\" y=\"188.259178\"/>\n    </g>\n   </g>\n   <g id=\"PathCollection_186\">\n    <g clip-path=\"url(#p44a75073db)\">\n     <use style=\"fill:#008000;stroke:#008000;\" x=\"195.856056\" xlink:href=\"#mb0862478b4\" y=\"177.85535\"/>\n    </g>\n   </g>\n   <g id=\"PathCollection_187\">\n    <g clip-path=\"url(#p44a75073db)\">\n     <use style=\"fill:#008000;stroke:#008000;\" x=\"195.856056\" xlink:href=\"#mb0862478b4\" y=\"167.451522\"/>\n    </g>\n   </g>\n   <g id=\"PathCollection_188\">\n    <g clip-path=\"url(#p44a75073db)\">\n     <use style=\"fill:#008000;stroke:#008000;\" x=\"195.856056\" xlink:href=\"#mb0862478b4\" y=\"157.047694\"/>\n    </g>\n   </g>\n   <g id=\"PathCollection_189\">\n    <g clip-path=\"url(#p44a75073db)\">\n     <use style=\"fill:#008000;stroke:#008000;\" x=\"195.856056\" xlink:href=\"#mb0862478b4\" y=\"146.643867\"/>\n    </g>\n   </g>\n   <g id=\"PathCollection_190\">\n    <g clip-path=\"url(#p44a75073db)\">\n     <use style=\"fill:#008000;stroke:#008000;\" x=\"195.856056\" xlink:href=\"#mb0862478b4\" y=\"136.240039\"/>\n    </g>\n   </g>\n   <g id=\"PathCollection_191\">\n    <g clip-path=\"url(#p44a75073db)\">\n     <use style=\"fill:#008000;stroke:#008000;\" x=\"195.856056\" xlink:href=\"#mb0862478b4\" y=\"125.836211\"/>\n    </g>\n   </g>\n   <g id=\"PathCollection_192\">\n    <g clip-path=\"url(#p44a75073db)\">\n     <use style=\"fill:#008000;stroke:#008000;\" x=\"195.856056\" xlink:href=\"#mb0862478b4\" y=\"115.432383\"/>\n    </g>\n   </g>\n   <g id=\"PathCollection_193\">\n    <g clip-path=\"url(#p44a75073db)\">\n     <use style=\"fill:#008000;stroke:#008000;\" x=\"195.856056\" xlink:href=\"#mb0862478b4\" y=\"105.028556\"/>\n    </g>\n   </g>\n   <g id=\"PathCollection_194\">\n    <g clip-path=\"url(#p44a75073db)\">\n     <use style=\"fill:#008000;stroke:#008000;\" x=\"195.856056\" xlink:href=\"#mb0862478b4\" y=\"94.624728\"/>\n    </g>\n   </g>\n   <g id=\"PathCollection_195\">\n    <g clip-path=\"url(#p44a75073db)\">\n     <use style=\"fill:#008000;stroke:#008000;\" x=\"195.856056\" xlink:href=\"#mb0862478b4\" y=\"84.2209\"/>\n    </g>\n   </g>\n   <g id=\"PathCollection_196\">\n    <g clip-path=\"url(#p44a75073db)\">\n     <use style=\"fill:#008000;stroke:#008000;\" x=\"195.856056\" xlink:href=\"#mb0862478b4\" y=\"73.817072\"/>\n    </g>\n   </g>\n   <g id=\"PathCollection_197\">\n    <g clip-path=\"url(#p44a75073db)\">\n     <use style=\"fill:#008000;stroke:#008000;\" x=\"195.856056\" xlink:href=\"#mb0862478b4\" y=\"63.413245\"/>\n    </g>\n   </g>\n   <g id=\"PathCollection_198\">\n    <g clip-path=\"url(#p44a75073db)\">\n     <use style=\"fill:#008000;stroke:#008000;\" x=\"195.856056\" xlink:href=\"#mb0862478b4\" y=\"53.009417\"/>\n    </g>\n   </g>\n   <g id=\"PathCollection_199\">\n    <g clip-path=\"url(#p44a75073db)\">\n     <use style=\"fill:#008000;stroke:#008000;\" x=\"195.856056\" xlink:href=\"#mb0862478b4\" y=\"42.605589\"/>\n    </g>\n   </g>\n   <g id=\"PathCollection_200\">\n    <g clip-path=\"url(#p44a75073db)\">\n     <use style=\"fill:#008000;stroke:#008000;\" x=\"195.856056\" xlink:href=\"#mb0862478b4\" y=\"32.201761\"/>\n    </g>\n   </g>\n   <g id=\"PathCollection_201\">\n    <g clip-path=\"url(#p44a75073db)\">\n     <use style=\"fill:#ff0000;stroke:#ff0000;\" x=\"211.875194\" xlink:href=\"#mbe7c1ad116\" y=\"229.874489\"/>\n    </g>\n   </g>\n   <g id=\"PathCollection_202\">\n    <g clip-path=\"url(#p44a75073db)\">\n     <use style=\"fill:#ff0000;stroke:#ff0000;\" x=\"211.875194\" xlink:href=\"#mbe7c1ad116\" y=\"219.470661\"/>\n    </g>\n   </g>\n   <g id=\"PathCollection_203\">\n    <g clip-path=\"url(#p44a75073db)\">\n     <use style=\"fill:#ff0000;stroke:#ff0000;\" x=\"211.875194\" xlink:href=\"#mbe7c1ad116\" y=\"209.066833\"/>\n    </g>\n   </g>\n   <g id=\"PathCollection_204\">\n    <g clip-path=\"url(#p44a75073db)\">\n     <use style=\"fill:#ff0000;stroke:#ff0000;\" x=\"211.875194\" xlink:href=\"#mbe7c1ad116\" y=\"198.663005\"/>\n    </g>\n   </g>\n   <g id=\"PathCollection_205\">\n    <g clip-path=\"url(#p44a75073db)\">\n     <use style=\"fill:#ff0000;stroke:#ff0000;\" x=\"211.875194\" xlink:href=\"#mbe7c1ad116\" y=\"188.259178\"/>\n    </g>\n   </g>\n   <g id=\"PathCollection_206\">\n    <g clip-path=\"url(#p44a75073db)\">\n     <use style=\"fill:#008000;stroke:#008000;\" x=\"211.875194\" xlink:href=\"#mb0862478b4\" y=\"177.85535\"/>\n    </g>\n   </g>\n   <g id=\"PathCollection_207\">\n    <g clip-path=\"url(#p44a75073db)\">\n     <use style=\"fill:#008000;stroke:#008000;\" x=\"211.875194\" xlink:href=\"#mb0862478b4\" y=\"167.451522\"/>\n    </g>\n   </g>\n   <g id=\"PathCollection_208\">\n    <g clip-path=\"url(#p44a75073db)\">\n     <use style=\"fill:#008000;stroke:#008000;\" x=\"211.875194\" xlink:href=\"#mb0862478b4\" y=\"157.047694\"/>\n    </g>\n   </g>\n   <g id=\"PathCollection_209\">\n    <g clip-path=\"url(#p44a75073db)\">\n     <use style=\"fill:#008000;stroke:#008000;\" x=\"211.875194\" xlink:href=\"#mb0862478b4\" y=\"146.643867\"/>\n    </g>\n   </g>\n   <g id=\"PathCollection_210\">\n    <g clip-path=\"url(#p44a75073db)\">\n     <use style=\"fill:#008000;stroke:#008000;\" x=\"211.875194\" xlink:href=\"#mb0862478b4\" y=\"136.240039\"/>\n    </g>\n   </g>\n   <g id=\"PathCollection_211\">\n    <g clip-path=\"url(#p44a75073db)\">\n     <use style=\"fill:#008000;stroke:#008000;\" x=\"211.875194\" xlink:href=\"#mb0862478b4\" y=\"125.836211\"/>\n    </g>\n   </g>\n   <g id=\"PathCollection_212\">\n    <g clip-path=\"url(#p44a75073db)\">\n     <use style=\"fill:#008000;stroke:#008000;\" x=\"211.875194\" xlink:href=\"#mb0862478b4\" y=\"115.432383\"/>\n    </g>\n   </g>\n   <g id=\"PathCollection_213\">\n    <g clip-path=\"url(#p44a75073db)\">\n     <use style=\"fill:#008000;stroke:#008000;\" x=\"211.875194\" xlink:href=\"#mb0862478b4\" y=\"105.028556\"/>\n    </g>\n   </g>\n   <g id=\"PathCollection_214\">\n    <g clip-path=\"url(#p44a75073db)\">\n     <use style=\"fill:#008000;stroke:#008000;\" x=\"211.875194\" xlink:href=\"#mb0862478b4\" y=\"94.624728\"/>\n    </g>\n   </g>\n   <g id=\"PathCollection_215\">\n    <g clip-path=\"url(#p44a75073db)\">\n     <use style=\"fill:#008000;stroke:#008000;\" x=\"211.875194\" xlink:href=\"#mb0862478b4\" y=\"84.2209\"/>\n    </g>\n   </g>\n   <g id=\"PathCollection_216\">\n    <g clip-path=\"url(#p44a75073db)\">\n     <use style=\"fill:#008000;stroke:#008000;\" x=\"211.875194\" xlink:href=\"#mb0862478b4\" y=\"73.817072\"/>\n    </g>\n   </g>\n   <g id=\"PathCollection_217\">\n    <g clip-path=\"url(#p44a75073db)\">\n     <use style=\"fill:#008000;stroke:#008000;\" x=\"211.875194\" xlink:href=\"#mb0862478b4\" y=\"63.413245\"/>\n    </g>\n   </g>\n   <g id=\"PathCollection_218\">\n    <g clip-path=\"url(#p44a75073db)\">\n     <use style=\"fill:#008000;stroke:#008000;\" x=\"211.875194\" xlink:href=\"#mb0862478b4\" y=\"53.009417\"/>\n    </g>\n   </g>\n   <g id=\"PathCollection_219\">\n    <g clip-path=\"url(#p44a75073db)\">\n     <use style=\"fill:#008000;stroke:#008000;\" x=\"211.875194\" xlink:href=\"#mb0862478b4\" y=\"42.605589\"/>\n    </g>\n   </g>\n   <g id=\"PathCollection_220\">\n    <g clip-path=\"url(#p44a75073db)\">\n     <use style=\"fill:#008000;stroke:#008000;\" x=\"211.875194\" xlink:href=\"#mb0862478b4\" y=\"32.201761\"/>\n    </g>\n   </g>\n   <g id=\"PathCollection_221\">\n    <g clip-path=\"url(#p44a75073db)\">\n     <use style=\"fill:#ff0000;stroke:#ff0000;\" x=\"227.894333\" xlink:href=\"#mbe7c1ad116\" y=\"229.874489\"/>\n    </g>\n   </g>\n   <g id=\"PathCollection_222\">\n    <g clip-path=\"url(#p44a75073db)\">\n     <use style=\"fill:#ff0000;stroke:#ff0000;\" x=\"227.894333\" xlink:href=\"#mbe7c1ad116\" y=\"219.470661\"/>\n    </g>\n   </g>\n   <g id=\"PathCollection_223\">\n    <g clip-path=\"url(#p44a75073db)\">\n     <use style=\"fill:#ff0000;stroke:#ff0000;\" x=\"227.894333\" xlink:href=\"#mbe7c1ad116\" y=\"209.066833\"/>\n    </g>\n   </g>\n   <g id=\"PathCollection_224\">\n    <g clip-path=\"url(#p44a75073db)\">\n     <use style=\"fill:#ff0000;stroke:#ff0000;\" x=\"227.894333\" xlink:href=\"#mbe7c1ad116\" y=\"198.663005\"/>\n    </g>\n   </g>\n   <g id=\"PathCollection_225\">\n    <g clip-path=\"url(#p44a75073db)\">\n     <use style=\"fill:#008000;stroke:#008000;\" x=\"227.894333\" xlink:href=\"#mb0862478b4\" y=\"188.259178\"/>\n    </g>\n   </g>\n   <g id=\"PathCollection_226\">\n    <g clip-path=\"url(#p44a75073db)\">\n     <use style=\"fill:#008000;stroke:#008000;\" x=\"227.894333\" xlink:href=\"#mb0862478b4\" y=\"177.85535\"/>\n    </g>\n   </g>\n   <g id=\"PathCollection_227\">\n    <g clip-path=\"url(#p44a75073db)\">\n     <use style=\"fill:#008000;stroke:#008000;\" x=\"227.894333\" xlink:href=\"#mb0862478b4\" y=\"167.451522\"/>\n    </g>\n   </g>\n   <g id=\"PathCollection_228\">\n    <g clip-path=\"url(#p44a75073db)\">\n     <use style=\"fill:#008000;stroke:#008000;\" x=\"227.894333\" xlink:href=\"#mb0862478b4\" y=\"157.047694\"/>\n    </g>\n   </g>\n   <g id=\"PathCollection_229\">\n    <g clip-path=\"url(#p44a75073db)\">\n     <use style=\"fill:#008000;stroke:#008000;\" x=\"227.894333\" xlink:href=\"#mb0862478b4\" y=\"146.643867\"/>\n    </g>\n   </g>\n   <g id=\"PathCollection_230\">\n    <g clip-path=\"url(#p44a75073db)\">\n     <use style=\"fill:#008000;stroke:#008000;\" x=\"227.894333\" xlink:href=\"#mb0862478b4\" y=\"136.240039\"/>\n    </g>\n   </g>\n   <g id=\"PathCollection_231\">\n    <g clip-path=\"url(#p44a75073db)\">\n     <use style=\"fill:#008000;stroke:#008000;\" x=\"227.894333\" xlink:href=\"#mb0862478b4\" y=\"125.836211\"/>\n    </g>\n   </g>\n   <g id=\"PathCollection_232\">\n    <g clip-path=\"url(#p44a75073db)\">\n     <use style=\"fill:#008000;stroke:#008000;\" x=\"227.894333\" xlink:href=\"#mb0862478b4\" y=\"115.432383\"/>\n    </g>\n   </g>\n   <g id=\"PathCollection_233\">\n    <g clip-path=\"url(#p44a75073db)\">\n     <use style=\"fill:#008000;stroke:#008000;\" x=\"227.894333\" xlink:href=\"#mb0862478b4\" y=\"105.028556\"/>\n    </g>\n   </g>\n   <g id=\"PathCollection_234\">\n    <g clip-path=\"url(#p44a75073db)\">\n     <use style=\"fill:#008000;stroke:#008000;\" x=\"227.894333\" xlink:href=\"#mb0862478b4\" y=\"94.624728\"/>\n    </g>\n   </g>\n   <g id=\"PathCollection_235\">\n    <g clip-path=\"url(#p44a75073db)\">\n     <use style=\"fill:#008000;stroke:#008000;\" x=\"227.894333\" xlink:href=\"#mb0862478b4\" y=\"84.2209\"/>\n    </g>\n   </g>\n   <g id=\"PathCollection_236\">\n    <g clip-path=\"url(#p44a75073db)\">\n     <use style=\"fill:#008000;stroke:#008000;\" x=\"227.894333\" xlink:href=\"#mb0862478b4\" y=\"73.817072\"/>\n    </g>\n   </g>\n   <g id=\"PathCollection_237\">\n    <g clip-path=\"url(#p44a75073db)\">\n     <use style=\"fill:#008000;stroke:#008000;\" x=\"227.894333\" xlink:href=\"#mb0862478b4\" y=\"63.413245\"/>\n    </g>\n   </g>\n   <g id=\"PathCollection_238\">\n    <g clip-path=\"url(#p44a75073db)\">\n     <use style=\"fill:#008000;stroke:#008000;\" x=\"227.894333\" xlink:href=\"#mb0862478b4\" y=\"53.009417\"/>\n    </g>\n   </g>\n   <g id=\"PathCollection_239\">\n    <g clip-path=\"url(#p44a75073db)\">\n     <use style=\"fill:#008000;stroke:#008000;\" x=\"227.894333\" xlink:href=\"#mb0862478b4\" y=\"42.605589\"/>\n    </g>\n   </g>\n   <g id=\"PathCollection_240\">\n    <g clip-path=\"url(#p44a75073db)\">\n     <use style=\"fill:#008000;stroke:#008000;\" x=\"227.894333\" xlink:href=\"#mb0862478b4\" y=\"32.201761\"/>\n    </g>\n   </g>\n   <g id=\"PathCollection_241\">\n    <g clip-path=\"url(#p44a75073db)\">\n     <use style=\"fill:#ff0000;stroke:#ff0000;\" x=\"243.913472\" xlink:href=\"#mbe7c1ad116\" y=\"229.874489\"/>\n    </g>\n   </g>\n   <g id=\"PathCollection_242\">\n    <g clip-path=\"url(#p44a75073db)\">\n     <use style=\"fill:#ff0000;stroke:#ff0000;\" x=\"243.913472\" xlink:href=\"#mbe7c1ad116\" y=\"219.470661\"/>\n    </g>\n   </g>\n   <g id=\"PathCollection_243\">\n    <g clip-path=\"url(#p44a75073db)\">\n     <use style=\"fill:#ff0000;stroke:#ff0000;\" x=\"243.913472\" xlink:href=\"#mbe7c1ad116\" y=\"209.066833\"/>\n    </g>\n   </g>\n   <g id=\"PathCollection_244\">\n    <g clip-path=\"url(#p44a75073db)\">\n     <use style=\"fill:#008000;stroke:#008000;\" x=\"243.913472\" xlink:href=\"#mb0862478b4\" y=\"198.663005\"/>\n    </g>\n   </g>\n   <g id=\"PathCollection_245\">\n    <g clip-path=\"url(#p44a75073db)\">\n     <use style=\"fill:#008000;stroke:#008000;\" x=\"243.913472\" xlink:href=\"#mb0862478b4\" y=\"188.259178\"/>\n    </g>\n   </g>\n   <g id=\"PathCollection_246\">\n    <g clip-path=\"url(#p44a75073db)\">\n     <use style=\"fill:#008000;stroke:#008000;\" x=\"243.913472\" xlink:href=\"#mb0862478b4\" y=\"177.85535\"/>\n    </g>\n   </g>\n   <g id=\"PathCollection_247\">\n    <g clip-path=\"url(#p44a75073db)\">\n     <use style=\"fill:#008000;stroke:#008000;\" x=\"243.913472\" xlink:href=\"#mb0862478b4\" y=\"167.451522\"/>\n    </g>\n   </g>\n   <g id=\"PathCollection_248\">\n    <g clip-path=\"url(#p44a75073db)\">\n     <use style=\"fill:#008000;stroke:#008000;\" x=\"243.913472\" xlink:href=\"#mb0862478b4\" y=\"157.047694\"/>\n    </g>\n   </g>\n   <g id=\"PathCollection_249\">\n    <g clip-path=\"url(#p44a75073db)\">\n     <use style=\"fill:#008000;stroke:#008000;\" x=\"243.913472\" xlink:href=\"#mb0862478b4\" y=\"146.643867\"/>\n    </g>\n   </g>\n   <g id=\"PathCollection_250\">\n    <g clip-path=\"url(#p44a75073db)\">\n     <use style=\"fill:#008000;stroke:#008000;\" x=\"243.913472\" xlink:href=\"#mb0862478b4\" y=\"136.240039\"/>\n    </g>\n   </g>\n   <g id=\"PathCollection_251\">\n    <g clip-path=\"url(#p44a75073db)\">\n     <use style=\"fill:#008000;stroke:#008000;\" x=\"243.913472\" xlink:href=\"#mb0862478b4\" y=\"125.836211\"/>\n    </g>\n   </g>\n   <g id=\"PathCollection_252\">\n    <g clip-path=\"url(#p44a75073db)\">\n     <use style=\"fill:#008000;stroke:#008000;\" x=\"243.913472\" xlink:href=\"#mb0862478b4\" y=\"115.432383\"/>\n    </g>\n   </g>\n   <g id=\"PathCollection_253\">\n    <g clip-path=\"url(#p44a75073db)\">\n     <use style=\"fill:#008000;stroke:#008000;\" x=\"243.913472\" xlink:href=\"#mb0862478b4\" y=\"105.028556\"/>\n    </g>\n   </g>\n   <g id=\"PathCollection_254\">\n    <g clip-path=\"url(#p44a75073db)\">\n     <use style=\"fill:#008000;stroke:#008000;\" x=\"243.913472\" xlink:href=\"#mb0862478b4\" y=\"94.624728\"/>\n    </g>\n   </g>\n   <g id=\"PathCollection_255\">\n    <g clip-path=\"url(#p44a75073db)\">\n     <use style=\"fill:#008000;stroke:#008000;\" x=\"243.913472\" xlink:href=\"#mb0862478b4\" y=\"84.2209\"/>\n    </g>\n   </g>\n   <g id=\"PathCollection_256\">\n    <g clip-path=\"url(#p44a75073db)\">\n     <use style=\"fill:#008000;stroke:#008000;\" x=\"243.913472\" xlink:href=\"#mb0862478b4\" y=\"73.817072\"/>\n    </g>\n   </g>\n   <g id=\"PathCollection_257\">\n    <g clip-path=\"url(#p44a75073db)\">\n     <use style=\"fill:#008000;stroke:#008000;\" x=\"243.913472\" xlink:href=\"#mb0862478b4\" y=\"63.413245\"/>\n    </g>\n   </g>\n   <g id=\"PathCollection_258\">\n    <g clip-path=\"url(#p44a75073db)\">\n     <use style=\"fill:#008000;stroke:#008000;\" x=\"243.913472\" xlink:href=\"#mb0862478b4\" y=\"53.009417\"/>\n    </g>\n   </g>\n   <g id=\"PathCollection_259\">\n    <g clip-path=\"url(#p44a75073db)\">\n     <use style=\"fill:#008000;stroke:#008000;\" x=\"243.913472\" xlink:href=\"#mb0862478b4\" y=\"42.605589\"/>\n    </g>\n   </g>\n   <g id=\"PathCollection_260\">\n    <g clip-path=\"url(#p44a75073db)\">\n     <use style=\"fill:#008000;stroke:#008000;\" x=\"243.913472\" xlink:href=\"#mb0862478b4\" y=\"32.201761\"/>\n    </g>\n   </g>\n   <g id=\"PathCollection_261\">\n    <g clip-path=\"url(#p44a75073db)\">\n     <use style=\"fill:#ff0000;stroke:#ff0000;\" x=\"259.932611\" xlink:href=\"#mbe7c1ad116\" y=\"229.874489\"/>\n    </g>\n   </g>\n   <g id=\"PathCollection_262\">\n    <g clip-path=\"url(#p44a75073db)\">\n     <use style=\"fill:#ff0000;stroke:#ff0000;\" x=\"259.932611\" xlink:href=\"#mbe7c1ad116\" y=\"219.470661\"/>\n    </g>\n   </g>\n   <g id=\"PathCollection_263\">\n    <g clip-path=\"url(#p44a75073db)\">\n     <use style=\"fill:#008000;stroke:#008000;\" x=\"259.932611\" xlink:href=\"#mb0862478b4\" y=\"209.066833\"/>\n    </g>\n   </g>\n   <g id=\"PathCollection_264\">\n    <g clip-path=\"url(#p44a75073db)\">\n     <use style=\"fill:#008000;stroke:#008000;\" x=\"259.932611\" xlink:href=\"#mb0862478b4\" y=\"198.663005\"/>\n    </g>\n   </g>\n   <g id=\"PathCollection_265\">\n    <g clip-path=\"url(#p44a75073db)\">\n     <use style=\"fill:#008000;stroke:#008000;\" x=\"259.932611\" xlink:href=\"#mb0862478b4\" y=\"188.259178\"/>\n    </g>\n   </g>\n   <g id=\"PathCollection_266\">\n    <g clip-path=\"url(#p44a75073db)\">\n     <use style=\"fill:#008000;stroke:#008000;\" x=\"259.932611\" xlink:href=\"#mb0862478b4\" y=\"177.85535\"/>\n    </g>\n   </g>\n   <g id=\"PathCollection_267\">\n    <g clip-path=\"url(#p44a75073db)\">\n     <use style=\"fill:#008000;stroke:#008000;\" x=\"259.932611\" xlink:href=\"#mb0862478b4\" y=\"167.451522\"/>\n    </g>\n   </g>\n   <g id=\"PathCollection_268\">\n    <g clip-path=\"url(#p44a75073db)\">\n     <use style=\"fill:#008000;stroke:#008000;\" x=\"259.932611\" xlink:href=\"#mb0862478b4\" y=\"157.047694\"/>\n    </g>\n   </g>\n   <g id=\"PathCollection_269\">\n    <g clip-path=\"url(#p44a75073db)\">\n     <use style=\"fill:#008000;stroke:#008000;\" x=\"259.932611\" xlink:href=\"#mb0862478b4\" y=\"146.643867\"/>\n    </g>\n   </g>\n   <g id=\"PathCollection_270\">\n    <g clip-path=\"url(#p44a75073db)\">\n     <use style=\"fill:#008000;stroke:#008000;\" x=\"259.932611\" xlink:href=\"#mb0862478b4\" y=\"136.240039\"/>\n    </g>\n   </g>\n   <g id=\"PathCollection_271\">\n    <g clip-path=\"url(#p44a75073db)\">\n     <use style=\"fill:#008000;stroke:#008000;\" x=\"259.932611\" xlink:href=\"#mb0862478b4\" y=\"125.836211\"/>\n    </g>\n   </g>\n   <g id=\"PathCollection_272\">\n    <g clip-path=\"url(#p44a75073db)\">\n     <use style=\"fill:#008000;stroke:#008000;\" x=\"259.932611\" xlink:href=\"#mb0862478b4\" y=\"115.432383\"/>\n    </g>\n   </g>\n   <g id=\"PathCollection_273\">\n    <g clip-path=\"url(#p44a75073db)\">\n     <use style=\"fill:#008000;stroke:#008000;\" x=\"259.932611\" xlink:href=\"#mb0862478b4\" y=\"105.028556\"/>\n    </g>\n   </g>\n   <g id=\"PathCollection_274\">\n    <defs>\n     <path d=\"M 0 3.535534 \nC 0.937635 3.535534 1.836992 3.163008 2.5 2.5 \nC 3.163008 1.836992 3.535534 0.937635 3.535534 0 \nC 3.535534 -0.937635 3.163008 -1.836992 2.5 -2.5 \nC 1.836992 -3.163008 0.937635 -3.535534 0 -3.535534 \nC -0.937635 -3.535534 -1.836992 -3.163008 -2.5 -2.5 \nC -3.163008 -1.836992 -3.535534 -0.937635 -3.535534 0 \nC -3.535534 0.937635 -3.163008 1.836992 -2.5 2.5 \nC -1.836992 3.163008 -0.937635 3.535534 0 3.535534 \nz\n\" id=\"mfd4a261459\" style=\"stroke:#0000ff;\"/>\n    </defs>\n    <g clip-path=\"url(#p44a75073db)\">\n     <use style=\"fill:#0000ff;stroke:#0000ff;\" x=\"259.932611\" xlink:href=\"#mfd4a261459\" y=\"94.624728\"/>\n    </g>\n   </g>\n   <g id=\"PathCollection_275\">\n    <g clip-path=\"url(#p44a75073db)\">\n     <use style=\"fill:#0000ff;stroke:#0000ff;\" x=\"259.932611\" xlink:href=\"#mfd4a261459\" y=\"84.2209\"/>\n    </g>\n   </g>\n   <g id=\"PathCollection_276\">\n    <g clip-path=\"url(#p44a75073db)\">\n     <use style=\"fill:#0000ff;stroke:#0000ff;\" x=\"259.932611\" xlink:href=\"#mfd4a261459\" y=\"73.817072\"/>\n    </g>\n   </g>\n   <g id=\"PathCollection_277\">\n    <g clip-path=\"url(#p44a75073db)\">\n     <use style=\"fill:#0000ff;stroke:#0000ff;\" x=\"259.932611\" xlink:href=\"#mfd4a261459\" y=\"63.413245\"/>\n    </g>\n   </g>\n   <g id=\"PathCollection_278\">\n    <g clip-path=\"url(#p44a75073db)\">\n     <use style=\"fill:#0000ff;stroke:#0000ff;\" x=\"259.932611\" xlink:href=\"#mfd4a261459\" y=\"53.009417\"/>\n    </g>\n   </g>\n   <g id=\"PathCollection_279\">\n    <g clip-path=\"url(#p44a75073db)\">\n     <use style=\"fill:#0000ff;stroke:#0000ff;\" x=\"259.932611\" xlink:href=\"#mfd4a261459\" y=\"42.605589\"/>\n    </g>\n   </g>\n   <g id=\"PathCollection_280\">\n    <g clip-path=\"url(#p44a75073db)\">\n     <use style=\"fill:#0000ff;stroke:#0000ff;\" x=\"259.932611\" xlink:href=\"#mfd4a261459\" y=\"32.201761\"/>\n    </g>\n   </g>\n   <g id=\"PathCollection_281\">\n    <g clip-path=\"url(#p44a75073db)\">\n     <use style=\"fill:#008000;stroke:#008000;\" x=\"275.951749\" xlink:href=\"#mb0862478b4\" y=\"229.874489\"/>\n    </g>\n   </g>\n   <g id=\"PathCollection_282\">\n    <g clip-path=\"url(#p44a75073db)\">\n     <use style=\"fill:#008000;stroke:#008000;\" x=\"275.951749\" xlink:href=\"#mb0862478b4\" y=\"219.470661\"/>\n    </g>\n   </g>\n   <g id=\"PathCollection_283\">\n    <g clip-path=\"url(#p44a75073db)\">\n     <use style=\"fill:#008000;stroke:#008000;\" x=\"275.951749\" xlink:href=\"#mb0862478b4\" y=\"209.066833\"/>\n    </g>\n   </g>\n   <g id=\"PathCollection_284\">\n    <g clip-path=\"url(#p44a75073db)\">\n     <use style=\"fill:#008000;stroke:#008000;\" x=\"275.951749\" xlink:href=\"#mb0862478b4\" y=\"198.663005\"/>\n    </g>\n   </g>\n   <g id=\"PathCollection_285\">\n    <g clip-path=\"url(#p44a75073db)\">\n     <use style=\"fill:#008000;stroke:#008000;\" x=\"275.951749\" xlink:href=\"#mb0862478b4\" y=\"188.259178\"/>\n    </g>\n   </g>\n   <g id=\"PathCollection_286\">\n    <g clip-path=\"url(#p44a75073db)\">\n     <use style=\"fill:#008000;stroke:#008000;\" x=\"275.951749\" xlink:href=\"#mb0862478b4\" y=\"177.85535\"/>\n    </g>\n   </g>\n   <g id=\"PathCollection_287\">\n    <g clip-path=\"url(#p44a75073db)\">\n     <use style=\"fill:#008000;stroke:#008000;\" x=\"275.951749\" xlink:href=\"#mb0862478b4\" y=\"167.451522\"/>\n    </g>\n   </g>\n   <g id=\"PathCollection_288\">\n    <g clip-path=\"url(#p44a75073db)\">\n     <use style=\"fill:#008000;stroke:#008000;\" x=\"275.951749\" xlink:href=\"#mb0862478b4\" y=\"157.047694\"/>\n    </g>\n   </g>\n   <g id=\"PathCollection_289\">\n    <g clip-path=\"url(#p44a75073db)\">\n     <use style=\"fill:#008000;stroke:#008000;\" x=\"275.951749\" xlink:href=\"#mb0862478b4\" y=\"146.643867\"/>\n    </g>\n   </g>\n   <g id=\"PathCollection_290\">\n    <g clip-path=\"url(#p44a75073db)\">\n     <use style=\"fill:#008000;stroke:#008000;\" x=\"275.951749\" xlink:href=\"#mb0862478b4\" y=\"136.240039\"/>\n    </g>\n   </g>\n   <g id=\"PathCollection_291\">\n    <g clip-path=\"url(#p44a75073db)\">\n     <use style=\"fill:#008000;stroke:#008000;\" x=\"275.951749\" xlink:href=\"#mb0862478b4\" y=\"125.836211\"/>\n    </g>\n   </g>\n   <g id=\"PathCollection_292\">\n    <g clip-path=\"url(#p44a75073db)\">\n     <use style=\"fill:#008000;stroke:#008000;\" x=\"275.951749\" xlink:href=\"#mb0862478b4\" y=\"115.432383\"/>\n    </g>\n   </g>\n   <g id=\"PathCollection_293\">\n    <g clip-path=\"url(#p44a75073db)\">\n     <use style=\"fill:#008000;stroke:#008000;\" x=\"275.951749\" xlink:href=\"#mb0862478b4\" y=\"105.028556\"/>\n    </g>\n   </g>\n   <g id=\"PathCollection_294\">\n    <g clip-path=\"url(#p44a75073db)\">\n     <use style=\"fill:#0000ff;stroke:#0000ff;\" x=\"275.951749\" xlink:href=\"#mfd4a261459\" y=\"94.624728\"/>\n    </g>\n   </g>\n   <g id=\"PathCollection_295\">\n    <g clip-path=\"url(#p44a75073db)\">\n     <use style=\"fill:#0000ff;stroke:#0000ff;\" x=\"275.951749\" xlink:href=\"#mfd4a261459\" y=\"84.2209\"/>\n    </g>\n   </g>\n   <g id=\"PathCollection_296\">\n    <g clip-path=\"url(#p44a75073db)\">\n     <use style=\"fill:#0000ff;stroke:#0000ff;\" x=\"275.951749\" xlink:href=\"#mfd4a261459\" y=\"73.817072\"/>\n    </g>\n   </g>\n   <g id=\"PathCollection_297\">\n    <g clip-path=\"url(#p44a75073db)\">\n     <use style=\"fill:#0000ff;stroke:#0000ff;\" x=\"275.951749\" xlink:href=\"#mfd4a261459\" y=\"63.413245\"/>\n    </g>\n   </g>\n   <g id=\"PathCollection_298\">\n    <g clip-path=\"url(#p44a75073db)\">\n     <use style=\"fill:#0000ff;stroke:#0000ff;\" x=\"275.951749\" xlink:href=\"#mfd4a261459\" y=\"53.009417\"/>\n    </g>\n   </g>\n   <g id=\"PathCollection_299\">\n    <g clip-path=\"url(#p44a75073db)\">\n     <use style=\"fill:#0000ff;stroke:#0000ff;\" x=\"275.951749\" xlink:href=\"#mfd4a261459\" y=\"42.605589\"/>\n    </g>\n   </g>\n   <g id=\"PathCollection_300\">\n    <g clip-path=\"url(#p44a75073db)\">\n     <use style=\"fill:#0000ff;stroke:#0000ff;\" x=\"275.951749\" xlink:href=\"#mfd4a261459\" y=\"32.201761\"/>\n    </g>\n   </g>\n   <g id=\"PathCollection_301\">\n    <g clip-path=\"url(#p44a75073db)\">\n     <use style=\"fill:#008000;stroke:#008000;\" x=\"291.970888\" xlink:href=\"#mb0862478b4\" y=\"229.874489\"/>\n    </g>\n   </g>\n   <g id=\"PathCollection_302\">\n    <g clip-path=\"url(#p44a75073db)\">\n     <use style=\"fill:#008000;stroke:#008000;\" x=\"291.970888\" xlink:href=\"#mb0862478b4\" y=\"219.470661\"/>\n    </g>\n   </g>\n   <g id=\"PathCollection_303\">\n    <g clip-path=\"url(#p44a75073db)\">\n     <use style=\"fill:#008000;stroke:#008000;\" x=\"291.970888\" xlink:href=\"#mb0862478b4\" y=\"209.066833\"/>\n    </g>\n   </g>\n   <g id=\"PathCollection_304\">\n    <g clip-path=\"url(#p44a75073db)\">\n     <use style=\"fill:#008000;stroke:#008000;\" x=\"291.970888\" xlink:href=\"#mb0862478b4\" y=\"198.663005\"/>\n    </g>\n   </g>\n   <g id=\"PathCollection_305\">\n    <g clip-path=\"url(#p44a75073db)\">\n     <use style=\"fill:#008000;stroke:#008000;\" x=\"291.970888\" xlink:href=\"#mb0862478b4\" y=\"188.259178\"/>\n    </g>\n   </g>\n   <g id=\"PathCollection_306\">\n    <g clip-path=\"url(#p44a75073db)\">\n     <use style=\"fill:#008000;stroke:#008000;\" x=\"291.970888\" xlink:href=\"#mb0862478b4\" y=\"177.85535\"/>\n    </g>\n   </g>\n   <g id=\"PathCollection_307\">\n    <g clip-path=\"url(#p44a75073db)\">\n     <use style=\"fill:#008000;stroke:#008000;\" x=\"291.970888\" xlink:href=\"#mb0862478b4\" y=\"167.451522\"/>\n    </g>\n   </g>\n   <g id=\"PathCollection_308\">\n    <g clip-path=\"url(#p44a75073db)\">\n     <use style=\"fill:#008000;stroke:#008000;\" x=\"291.970888\" xlink:href=\"#mb0862478b4\" y=\"157.047694\"/>\n    </g>\n   </g>\n   <g id=\"PathCollection_309\">\n    <g clip-path=\"url(#p44a75073db)\">\n     <use style=\"fill:#008000;stroke:#008000;\" x=\"291.970888\" xlink:href=\"#mb0862478b4\" y=\"146.643867\"/>\n    </g>\n   </g>\n   <g id=\"PathCollection_310\">\n    <g clip-path=\"url(#p44a75073db)\">\n     <use style=\"fill:#008000;stroke:#008000;\" x=\"291.970888\" xlink:href=\"#mb0862478b4\" y=\"136.240039\"/>\n    </g>\n   </g>\n   <g id=\"PathCollection_311\">\n    <g clip-path=\"url(#p44a75073db)\">\n     <use style=\"fill:#008000;stroke:#008000;\" x=\"291.970888\" xlink:href=\"#mb0862478b4\" y=\"125.836211\"/>\n    </g>\n   </g>\n   <g id=\"PathCollection_312\">\n    <g clip-path=\"url(#p44a75073db)\">\n     <use style=\"fill:#008000;stroke:#008000;\" x=\"291.970888\" xlink:href=\"#mb0862478b4\" y=\"115.432383\"/>\n    </g>\n   </g>\n   <g id=\"PathCollection_313\">\n    <g clip-path=\"url(#p44a75073db)\">\n     <use style=\"fill:#0000ff;stroke:#0000ff;\" x=\"291.970888\" xlink:href=\"#mfd4a261459\" y=\"105.028556\"/>\n    </g>\n   </g>\n   <g id=\"PathCollection_314\">\n    <g clip-path=\"url(#p44a75073db)\">\n     <use style=\"fill:#0000ff;stroke:#0000ff;\" x=\"291.970888\" xlink:href=\"#mfd4a261459\" y=\"94.624728\"/>\n    </g>\n   </g>\n   <g id=\"PathCollection_315\">\n    <g clip-path=\"url(#p44a75073db)\">\n     <use style=\"fill:#0000ff;stroke:#0000ff;\" x=\"291.970888\" xlink:href=\"#mfd4a261459\" y=\"84.2209\"/>\n    </g>\n   </g>\n   <g id=\"PathCollection_316\">\n    <g clip-path=\"url(#p44a75073db)\">\n     <use style=\"fill:#0000ff;stroke:#0000ff;\" x=\"291.970888\" xlink:href=\"#mfd4a261459\" y=\"73.817072\"/>\n    </g>\n   </g>\n   <g id=\"PathCollection_317\">\n    <g clip-path=\"url(#p44a75073db)\">\n     <use style=\"fill:#0000ff;stroke:#0000ff;\" x=\"291.970888\" xlink:href=\"#mfd4a261459\" y=\"63.413245\"/>\n    </g>\n   </g>\n   <g id=\"PathCollection_318\">\n    <g clip-path=\"url(#p44a75073db)\">\n     <use style=\"fill:#0000ff;stroke:#0000ff;\" x=\"291.970888\" xlink:href=\"#mfd4a261459\" y=\"53.009417\"/>\n    </g>\n   </g>\n   <g id=\"PathCollection_319\">\n    <g clip-path=\"url(#p44a75073db)\">\n     <use style=\"fill:#0000ff;stroke:#0000ff;\" x=\"291.970888\" xlink:href=\"#mfd4a261459\" y=\"42.605589\"/>\n    </g>\n   </g>\n   <g id=\"PathCollection_320\">\n    <g clip-path=\"url(#p44a75073db)\">\n     <use style=\"fill:#0000ff;stroke:#0000ff;\" x=\"291.970888\" xlink:href=\"#mfd4a261459\" y=\"32.201761\"/>\n    </g>\n   </g>\n   <g id=\"PathCollection_321\">\n    <g clip-path=\"url(#p44a75073db)\">\n     <use style=\"fill:#008000;stroke:#008000;\" x=\"307.990027\" xlink:href=\"#mb0862478b4\" y=\"229.874489\"/>\n    </g>\n   </g>\n   <g id=\"PathCollection_322\">\n    <g clip-path=\"url(#p44a75073db)\">\n     <use style=\"fill:#008000;stroke:#008000;\" x=\"307.990027\" xlink:href=\"#mb0862478b4\" y=\"219.470661\"/>\n    </g>\n   </g>\n   <g id=\"PathCollection_323\">\n    <g clip-path=\"url(#p44a75073db)\">\n     <use style=\"fill:#008000;stroke:#008000;\" x=\"307.990027\" xlink:href=\"#mb0862478b4\" y=\"209.066833\"/>\n    </g>\n   </g>\n   <g id=\"PathCollection_324\">\n    <g clip-path=\"url(#p44a75073db)\">\n     <use style=\"fill:#008000;stroke:#008000;\" x=\"307.990027\" xlink:href=\"#mb0862478b4\" y=\"198.663005\"/>\n    </g>\n   </g>\n   <g id=\"PathCollection_325\">\n    <g clip-path=\"url(#p44a75073db)\">\n     <use style=\"fill:#008000;stroke:#008000;\" x=\"307.990027\" xlink:href=\"#mb0862478b4\" y=\"188.259178\"/>\n    </g>\n   </g>\n   <g id=\"PathCollection_326\">\n    <g clip-path=\"url(#p44a75073db)\">\n     <use style=\"fill:#008000;stroke:#008000;\" x=\"307.990027\" xlink:href=\"#mb0862478b4\" y=\"177.85535\"/>\n    </g>\n   </g>\n   <g id=\"PathCollection_327\">\n    <g clip-path=\"url(#p44a75073db)\">\n     <use style=\"fill:#008000;stroke:#008000;\" x=\"307.990027\" xlink:href=\"#mb0862478b4\" y=\"167.451522\"/>\n    </g>\n   </g>\n   <g id=\"PathCollection_328\">\n    <g clip-path=\"url(#p44a75073db)\">\n     <use style=\"fill:#008000;stroke:#008000;\" x=\"307.990027\" xlink:href=\"#mb0862478b4\" y=\"157.047694\"/>\n    </g>\n   </g>\n   <g id=\"PathCollection_329\">\n    <g clip-path=\"url(#p44a75073db)\">\n     <use style=\"fill:#008000;stroke:#008000;\" x=\"307.990027\" xlink:href=\"#mb0862478b4\" y=\"146.643867\"/>\n    </g>\n   </g>\n   <g id=\"PathCollection_330\">\n    <g clip-path=\"url(#p44a75073db)\">\n     <use style=\"fill:#008000;stroke:#008000;\" x=\"307.990027\" xlink:href=\"#mb0862478b4\" y=\"136.240039\"/>\n    </g>\n   </g>\n   <g id=\"PathCollection_331\">\n    <g clip-path=\"url(#p44a75073db)\">\n     <use style=\"fill:#0000ff;stroke:#0000ff;\" x=\"307.990027\" xlink:href=\"#mfd4a261459\" y=\"125.836211\"/>\n    </g>\n   </g>\n   <g id=\"PathCollection_332\">\n    <g clip-path=\"url(#p44a75073db)\">\n     <use style=\"fill:#0000ff;stroke:#0000ff;\" x=\"307.990027\" xlink:href=\"#mfd4a261459\" y=\"115.432383\"/>\n    </g>\n   </g>\n   <g id=\"PathCollection_333\">\n    <g clip-path=\"url(#p44a75073db)\">\n     <use style=\"fill:#0000ff;stroke:#0000ff;\" x=\"307.990027\" xlink:href=\"#mfd4a261459\" y=\"105.028556\"/>\n    </g>\n   </g>\n   <g id=\"PathCollection_334\">\n    <g clip-path=\"url(#p44a75073db)\">\n     <use style=\"fill:#0000ff;stroke:#0000ff;\" x=\"307.990027\" xlink:href=\"#mfd4a261459\" y=\"94.624728\"/>\n    </g>\n   </g>\n   <g id=\"PathCollection_335\">\n    <g clip-path=\"url(#p44a75073db)\">\n     <use style=\"fill:#0000ff;stroke:#0000ff;\" x=\"307.990027\" xlink:href=\"#mfd4a261459\" y=\"84.2209\"/>\n    </g>\n   </g>\n   <g id=\"PathCollection_336\">\n    <g clip-path=\"url(#p44a75073db)\">\n     <use style=\"fill:#0000ff;stroke:#0000ff;\" x=\"307.990027\" xlink:href=\"#mfd4a261459\" y=\"73.817072\"/>\n    </g>\n   </g>\n   <g id=\"PathCollection_337\">\n    <g clip-path=\"url(#p44a75073db)\">\n     <use style=\"fill:#0000ff;stroke:#0000ff;\" x=\"307.990027\" xlink:href=\"#mfd4a261459\" y=\"63.413245\"/>\n    </g>\n   </g>\n   <g id=\"PathCollection_338\">\n    <g clip-path=\"url(#p44a75073db)\">\n     <use style=\"fill:#0000ff;stroke:#0000ff;\" x=\"307.990027\" xlink:href=\"#mfd4a261459\" y=\"53.009417\"/>\n    </g>\n   </g>\n   <g id=\"PathCollection_339\">\n    <g clip-path=\"url(#p44a75073db)\">\n     <use style=\"fill:#0000ff;stroke:#0000ff;\" x=\"307.990027\" xlink:href=\"#mfd4a261459\" y=\"42.605589\"/>\n    </g>\n   </g>\n   <g id=\"PathCollection_340\">\n    <g clip-path=\"url(#p44a75073db)\">\n     <use style=\"fill:#0000ff;stroke:#0000ff;\" x=\"307.990027\" xlink:href=\"#mfd4a261459\" y=\"32.201761\"/>\n    </g>\n   </g>\n   <g id=\"PathCollection_341\">\n    <g clip-path=\"url(#p44a75073db)\">\n     <use style=\"fill:#008000;stroke:#008000;\" x=\"324.009166\" xlink:href=\"#mb0862478b4\" y=\"229.874489\"/>\n    </g>\n   </g>\n   <g id=\"PathCollection_342\">\n    <g clip-path=\"url(#p44a75073db)\">\n     <use style=\"fill:#008000;stroke:#008000;\" x=\"324.009166\" xlink:href=\"#mb0862478b4\" y=\"219.470661\"/>\n    </g>\n   </g>\n   <g id=\"PathCollection_343\">\n    <g clip-path=\"url(#p44a75073db)\">\n     <use style=\"fill:#008000;stroke:#008000;\" x=\"324.009166\" xlink:href=\"#mb0862478b4\" y=\"209.066833\"/>\n    </g>\n   </g>\n   <g id=\"PathCollection_344\">\n    <g clip-path=\"url(#p44a75073db)\">\n     <use style=\"fill:#008000;stroke:#008000;\" x=\"324.009166\" xlink:href=\"#mb0862478b4\" y=\"198.663005\"/>\n    </g>\n   </g>\n   <g id=\"PathCollection_345\">\n    <g clip-path=\"url(#p44a75073db)\">\n     <use style=\"fill:#008000;stroke:#008000;\" x=\"324.009166\" xlink:href=\"#mb0862478b4\" y=\"188.259178\"/>\n    </g>\n   </g>\n   <g id=\"PathCollection_346\">\n    <g clip-path=\"url(#p44a75073db)\">\n     <use style=\"fill:#008000;stroke:#008000;\" x=\"324.009166\" xlink:href=\"#mb0862478b4\" y=\"177.85535\"/>\n    </g>\n   </g>\n   <g id=\"PathCollection_347\">\n    <g clip-path=\"url(#p44a75073db)\">\n     <use style=\"fill:#008000;stroke:#008000;\" x=\"324.009166\" xlink:href=\"#mb0862478b4\" y=\"167.451522\"/>\n    </g>\n   </g>\n   <g id=\"PathCollection_348\">\n    <g clip-path=\"url(#p44a75073db)\">\n     <use style=\"fill:#008000;stroke:#008000;\" x=\"324.009166\" xlink:href=\"#mb0862478b4\" y=\"157.047694\"/>\n    </g>\n   </g>\n   <g id=\"PathCollection_349\">\n    <g clip-path=\"url(#p44a75073db)\">\n     <use style=\"fill:#008000;stroke:#008000;\" x=\"324.009166\" xlink:href=\"#mb0862478b4\" y=\"146.643867\"/>\n    </g>\n   </g>\n   <g id=\"PathCollection_350\">\n    <g clip-path=\"url(#p44a75073db)\">\n     <use style=\"fill:#0000ff;stroke:#0000ff;\" x=\"324.009166\" xlink:href=\"#mfd4a261459\" y=\"136.240039\"/>\n    </g>\n   </g>\n   <g id=\"PathCollection_351\">\n    <g clip-path=\"url(#p44a75073db)\">\n     <use style=\"fill:#0000ff;stroke:#0000ff;\" x=\"324.009166\" xlink:href=\"#mfd4a261459\" y=\"125.836211\"/>\n    </g>\n   </g>\n   <g id=\"PathCollection_352\">\n    <g clip-path=\"url(#p44a75073db)\">\n     <use style=\"fill:#0000ff;stroke:#0000ff;\" x=\"324.009166\" xlink:href=\"#mfd4a261459\" y=\"115.432383\"/>\n    </g>\n   </g>\n   <g id=\"PathCollection_353\">\n    <g clip-path=\"url(#p44a75073db)\">\n     <use style=\"fill:#0000ff;stroke:#0000ff;\" x=\"324.009166\" xlink:href=\"#mfd4a261459\" y=\"105.028556\"/>\n    </g>\n   </g>\n   <g id=\"PathCollection_354\">\n    <g clip-path=\"url(#p44a75073db)\">\n     <use style=\"fill:#0000ff;stroke:#0000ff;\" x=\"324.009166\" xlink:href=\"#mfd4a261459\" y=\"94.624728\"/>\n    </g>\n   </g>\n   <g id=\"PathCollection_355\">\n    <g clip-path=\"url(#p44a75073db)\">\n     <use style=\"fill:#0000ff;stroke:#0000ff;\" x=\"324.009166\" xlink:href=\"#mfd4a261459\" y=\"84.2209\"/>\n    </g>\n   </g>\n   <g id=\"PathCollection_356\">\n    <g clip-path=\"url(#p44a75073db)\">\n     <use style=\"fill:#0000ff;stroke:#0000ff;\" x=\"324.009166\" xlink:href=\"#mfd4a261459\" y=\"73.817072\"/>\n    </g>\n   </g>\n   <g id=\"PathCollection_357\">\n    <g clip-path=\"url(#p44a75073db)\">\n     <use style=\"fill:#0000ff;stroke:#0000ff;\" x=\"324.009166\" xlink:href=\"#mfd4a261459\" y=\"63.413245\"/>\n    </g>\n   </g>\n   <g id=\"PathCollection_358\">\n    <g clip-path=\"url(#p44a75073db)\">\n     <use style=\"fill:#0000ff;stroke:#0000ff;\" x=\"324.009166\" xlink:href=\"#mfd4a261459\" y=\"53.009417\"/>\n    </g>\n   </g>\n   <g id=\"PathCollection_359\">\n    <g clip-path=\"url(#p44a75073db)\">\n     <use style=\"fill:#0000ff;stroke:#0000ff;\" x=\"324.009166\" xlink:href=\"#mfd4a261459\" y=\"42.605589\"/>\n    </g>\n   </g>\n   <g id=\"PathCollection_360\">\n    <g clip-path=\"url(#p44a75073db)\">\n     <use style=\"fill:#0000ff;stroke:#0000ff;\" x=\"324.009166\" xlink:href=\"#mfd4a261459\" y=\"32.201761\"/>\n    </g>\n   </g>\n   <g id=\"PathCollection_361\">\n    <g clip-path=\"url(#p44a75073db)\">\n     <use style=\"fill:#008000;stroke:#008000;\" x=\"340.028304\" xlink:href=\"#mb0862478b4\" y=\"229.874489\"/>\n    </g>\n   </g>\n   <g id=\"PathCollection_362\">\n    <g clip-path=\"url(#p44a75073db)\">\n     <use style=\"fill:#008000;stroke:#008000;\" x=\"340.028304\" xlink:href=\"#mb0862478b4\" y=\"219.470661\"/>\n    </g>\n   </g>\n   <g id=\"PathCollection_363\">\n    <g clip-path=\"url(#p44a75073db)\">\n     <use style=\"fill:#008000;stroke:#008000;\" x=\"340.028304\" xlink:href=\"#mb0862478b4\" y=\"209.066833\"/>\n    </g>\n   </g>\n   <g id=\"PathCollection_364\">\n    <g clip-path=\"url(#p44a75073db)\">\n     <use style=\"fill:#008000;stroke:#008000;\" x=\"340.028304\" xlink:href=\"#mb0862478b4\" y=\"198.663005\"/>\n    </g>\n   </g>\n   <g id=\"PathCollection_365\">\n    <g clip-path=\"url(#p44a75073db)\">\n     <use style=\"fill:#008000;stroke:#008000;\" x=\"340.028304\" xlink:href=\"#mb0862478b4\" y=\"188.259178\"/>\n    </g>\n   </g>\n   <g id=\"PathCollection_366\">\n    <g clip-path=\"url(#p44a75073db)\">\n     <use style=\"fill:#008000;stroke:#008000;\" x=\"340.028304\" xlink:href=\"#mb0862478b4\" y=\"177.85535\"/>\n    </g>\n   </g>\n   <g id=\"PathCollection_367\">\n    <g clip-path=\"url(#p44a75073db)\">\n     <use style=\"fill:#008000;stroke:#008000;\" x=\"340.028304\" xlink:href=\"#mb0862478b4\" y=\"167.451522\"/>\n    </g>\n   </g>\n   <g id=\"PathCollection_368\">\n    <g clip-path=\"url(#p44a75073db)\">\n     <use style=\"fill:#008000;stroke:#008000;\" x=\"340.028304\" xlink:href=\"#mb0862478b4\" y=\"157.047694\"/>\n    </g>\n   </g>\n   <g id=\"PathCollection_369\">\n    <g clip-path=\"url(#p44a75073db)\">\n     <use style=\"fill:#0000ff;stroke:#0000ff;\" x=\"340.028304\" xlink:href=\"#mfd4a261459\" y=\"146.643867\"/>\n    </g>\n   </g>\n   <g id=\"PathCollection_370\">\n    <g clip-path=\"url(#p44a75073db)\">\n     <use style=\"fill:#0000ff;stroke:#0000ff;\" x=\"340.028304\" xlink:href=\"#mfd4a261459\" y=\"136.240039\"/>\n    </g>\n   </g>\n   <g id=\"PathCollection_371\">\n    <g clip-path=\"url(#p44a75073db)\">\n     <use style=\"fill:#0000ff;stroke:#0000ff;\" x=\"340.028304\" xlink:href=\"#mfd4a261459\" y=\"125.836211\"/>\n    </g>\n   </g>\n   <g id=\"PathCollection_372\">\n    <g clip-path=\"url(#p44a75073db)\">\n     <use style=\"fill:#0000ff;stroke:#0000ff;\" x=\"340.028304\" xlink:href=\"#mfd4a261459\" y=\"115.432383\"/>\n    </g>\n   </g>\n   <g id=\"PathCollection_373\">\n    <g clip-path=\"url(#p44a75073db)\">\n     <use style=\"fill:#0000ff;stroke:#0000ff;\" x=\"340.028304\" xlink:href=\"#mfd4a261459\" y=\"105.028556\"/>\n    </g>\n   </g>\n   <g id=\"PathCollection_374\">\n    <g clip-path=\"url(#p44a75073db)\">\n     <use style=\"fill:#0000ff;stroke:#0000ff;\" x=\"340.028304\" xlink:href=\"#mfd4a261459\" y=\"94.624728\"/>\n    </g>\n   </g>\n   <g id=\"PathCollection_375\">\n    <g clip-path=\"url(#p44a75073db)\">\n     <use style=\"fill:#0000ff;stroke:#0000ff;\" x=\"340.028304\" xlink:href=\"#mfd4a261459\" y=\"84.2209\"/>\n    </g>\n   </g>\n   <g id=\"PathCollection_376\">\n    <g clip-path=\"url(#p44a75073db)\">\n     <use style=\"fill:#0000ff;stroke:#0000ff;\" x=\"340.028304\" xlink:href=\"#mfd4a261459\" y=\"73.817072\"/>\n    </g>\n   </g>\n   <g id=\"PathCollection_377\">\n    <g clip-path=\"url(#p44a75073db)\">\n     <use style=\"fill:#0000ff;stroke:#0000ff;\" x=\"340.028304\" xlink:href=\"#mfd4a261459\" y=\"63.413245\"/>\n    </g>\n   </g>\n   <g id=\"PathCollection_378\">\n    <g clip-path=\"url(#p44a75073db)\">\n     <use style=\"fill:#0000ff;stroke:#0000ff;\" x=\"340.028304\" xlink:href=\"#mfd4a261459\" y=\"53.009417\"/>\n    </g>\n   </g>\n   <g id=\"PathCollection_379\">\n    <g clip-path=\"url(#p44a75073db)\">\n     <use style=\"fill:#0000ff;stroke:#0000ff;\" x=\"340.028304\" xlink:href=\"#mfd4a261459\" y=\"42.605589\"/>\n    </g>\n   </g>\n   <g id=\"PathCollection_380\">\n    <g clip-path=\"url(#p44a75073db)\">\n     <use style=\"fill:#0000ff;stroke:#0000ff;\" x=\"340.028304\" xlink:href=\"#mfd4a261459\" y=\"32.201761\"/>\n    </g>\n   </g>\n   <g id=\"PathCollection_381\">\n    <g clip-path=\"url(#p44a75073db)\">\n     <use style=\"fill:#008000;stroke:#008000;\" x=\"356.047443\" xlink:href=\"#mb0862478b4\" y=\"229.874489\"/>\n    </g>\n   </g>\n   <g id=\"PathCollection_382\">\n    <g clip-path=\"url(#p44a75073db)\">\n     <use style=\"fill:#008000;stroke:#008000;\" x=\"356.047443\" xlink:href=\"#mb0862478b4\" y=\"219.470661\"/>\n    </g>\n   </g>\n   <g id=\"PathCollection_383\">\n    <g clip-path=\"url(#p44a75073db)\">\n     <use style=\"fill:#008000;stroke:#008000;\" x=\"356.047443\" xlink:href=\"#mb0862478b4\" y=\"209.066833\"/>\n    </g>\n   </g>\n   <g id=\"PathCollection_384\">\n    <g clip-path=\"url(#p44a75073db)\">\n     <use style=\"fill:#008000;stroke:#008000;\" x=\"356.047443\" xlink:href=\"#mb0862478b4\" y=\"198.663005\"/>\n    </g>\n   </g>\n   <g id=\"PathCollection_385\">\n    <g clip-path=\"url(#p44a75073db)\">\n     <use style=\"fill:#008000;stroke:#008000;\" x=\"356.047443\" xlink:href=\"#mb0862478b4\" y=\"188.259178\"/>\n    </g>\n   </g>\n   <g id=\"PathCollection_386\">\n    <g clip-path=\"url(#p44a75073db)\">\n     <use style=\"fill:#008000;stroke:#008000;\" x=\"356.047443\" xlink:href=\"#mb0862478b4\" y=\"177.85535\"/>\n    </g>\n   </g>\n   <g id=\"PathCollection_387\">\n    <g clip-path=\"url(#p44a75073db)\">\n     <use style=\"fill:#008000;stroke:#008000;\" x=\"356.047443\" xlink:href=\"#mb0862478b4\" y=\"167.451522\"/>\n    </g>\n   </g>\n   <g id=\"PathCollection_388\">\n    <g clip-path=\"url(#p44a75073db)\">\n     <use style=\"fill:#0000ff;stroke:#0000ff;\" x=\"356.047443\" xlink:href=\"#mfd4a261459\" y=\"157.047694\"/>\n    </g>\n   </g>\n   <g id=\"PathCollection_389\">\n    <g clip-path=\"url(#p44a75073db)\">\n     <use style=\"fill:#0000ff;stroke:#0000ff;\" x=\"356.047443\" xlink:href=\"#mfd4a261459\" y=\"146.643867\"/>\n    </g>\n   </g>\n   <g id=\"PathCollection_390\">\n    <g clip-path=\"url(#p44a75073db)\">\n     <use style=\"fill:#0000ff;stroke:#0000ff;\" x=\"356.047443\" xlink:href=\"#mfd4a261459\" y=\"136.240039\"/>\n    </g>\n   </g>\n   <g id=\"PathCollection_391\">\n    <g clip-path=\"url(#p44a75073db)\">\n     <use style=\"fill:#0000ff;stroke:#0000ff;\" x=\"356.047443\" xlink:href=\"#mfd4a261459\" y=\"125.836211\"/>\n    </g>\n   </g>\n   <g id=\"PathCollection_392\">\n    <g clip-path=\"url(#p44a75073db)\">\n     <use style=\"fill:#0000ff;stroke:#0000ff;\" x=\"356.047443\" xlink:href=\"#mfd4a261459\" y=\"115.432383\"/>\n    </g>\n   </g>\n   <g id=\"PathCollection_393\">\n    <g clip-path=\"url(#p44a75073db)\">\n     <use style=\"fill:#0000ff;stroke:#0000ff;\" x=\"356.047443\" xlink:href=\"#mfd4a261459\" y=\"105.028556\"/>\n    </g>\n   </g>\n   <g id=\"PathCollection_394\">\n    <g clip-path=\"url(#p44a75073db)\">\n     <use style=\"fill:#0000ff;stroke:#0000ff;\" x=\"356.047443\" xlink:href=\"#mfd4a261459\" y=\"94.624728\"/>\n    </g>\n   </g>\n   <g id=\"PathCollection_395\">\n    <g clip-path=\"url(#p44a75073db)\">\n     <use style=\"fill:#0000ff;stroke:#0000ff;\" x=\"356.047443\" xlink:href=\"#mfd4a261459\" y=\"84.2209\"/>\n    </g>\n   </g>\n   <g id=\"PathCollection_396\">\n    <g clip-path=\"url(#p44a75073db)\">\n     <use style=\"fill:#0000ff;stroke:#0000ff;\" x=\"356.047443\" xlink:href=\"#mfd4a261459\" y=\"73.817072\"/>\n    </g>\n   </g>\n   <g id=\"PathCollection_397\">\n    <g clip-path=\"url(#p44a75073db)\">\n     <use style=\"fill:#0000ff;stroke:#0000ff;\" x=\"356.047443\" xlink:href=\"#mfd4a261459\" y=\"63.413245\"/>\n    </g>\n   </g>\n   <g id=\"PathCollection_398\">\n    <g clip-path=\"url(#p44a75073db)\">\n     <use style=\"fill:#0000ff;stroke:#0000ff;\" x=\"356.047443\" xlink:href=\"#mfd4a261459\" y=\"53.009417\"/>\n    </g>\n   </g>\n   <g id=\"PathCollection_399\">\n    <g clip-path=\"url(#p44a75073db)\">\n     <use style=\"fill:#0000ff;stroke:#0000ff;\" x=\"356.047443\" xlink:href=\"#mfd4a261459\" y=\"42.605589\"/>\n    </g>\n   </g>\n   <g id=\"PathCollection_400\">\n    <g clip-path=\"url(#p44a75073db)\">\n     <use style=\"fill:#0000ff;stroke:#0000ff;\" x=\"356.047443\" xlink:href=\"#mfd4a261459\" y=\"32.201761\"/>\n    </g>\n   </g>\n   <g id=\"matplotlib.axis_1\">\n    <g id=\"xtick_1\">\n     <g id=\"line2d_1\">\n      <defs>\n       <path d=\"M 0 0 \nL 0 3.5 \n\" id=\"m276ebd50d6\" style=\"stroke:#000000;stroke-width:0.8;\"/>\n      </defs>\n      <g>\n       <use style=\"stroke:#000000;stroke-width:0.8;\" x=\"51.683807\" xlink:href=\"#m276ebd50d6\" y=\"239.758125\"/>\n      </g>\n     </g>\n     <g id=\"text_1\">\n      <!-- 0.0 -->\n      <g transform=\"translate(43.732244 254.356563)scale(0.1 -0.1)\">\n       <defs>\n        <path d=\"M 31.78125 66.40625 \nQ 24.171875 66.40625 20.328125 58.90625 \nQ 16.5 51.421875 16.5 36.375 \nQ 16.5 21.390625 20.328125 13.890625 \nQ 24.171875 6.390625 31.78125 6.390625 \nQ 39.453125 6.390625 43.28125 13.890625 \nQ 47.125 21.390625 47.125 36.375 \nQ 47.125 51.421875 43.28125 58.90625 \nQ 39.453125 66.40625 31.78125 66.40625 \nz\nM 31.78125 74.21875 \nQ 44.046875 74.21875 50.515625 64.515625 \nQ 56.984375 54.828125 56.984375 36.375 \nQ 56.984375 17.96875 50.515625 8.265625 \nQ 44.046875 -1.421875 31.78125 -1.421875 \nQ 19.53125 -1.421875 13.0625 8.265625 \nQ 6.59375 17.96875 6.59375 36.375 \nQ 6.59375 54.828125 13.0625 64.515625 \nQ 19.53125 74.21875 31.78125 74.21875 \nz\n\" id=\"DejaVuSans-48\"/>\n        <path d=\"M 10.6875 12.40625 \nL 21 12.40625 \nL 21 0 \nL 10.6875 0 \nz\n\" id=\"DejaVuSans-46\"/>\n       </defs>\n       <use xlink:href=\"#DejaVuSans-48\"/>\n       <use x=\"63.623047\" xlink:href=\"#DejaVuSans-46\"/>\n       <use x=\"95.410156\" xlink:href=\"#DejaVuSans-48\"/>\n      </g>\n     </g>\n    </g>\n    <g id=\"xtick_2\">\n     <g id=\"line2d_2\">\n      <g>\n       <use style=\"stroke:#000000;stroke-width:0.8;\" x=\"91.731654\" xlink:href=\"#m276ebd50d6\" y=\"239.758125\"/>\n      </g>\n     </g>\n     <g id=\"text_2\">\n      <!-- 2.5 -->\n      <g transform=\"translate(83.780091 254.356563)scale(0.1 -0.1)\">\n       <defs>\n        <path d=\"M 19.1875 8.296875 \nL 53.609375 8.296875 \nL 53.609375 0 \nL 7.328125 0 \nL 7.328125 8.296875 \nQ 12.9375 14.109375 22.625 23.890625 \nQ 32.328125 33.6875 34.8125 36.53125 \nQ 39.546875 41.84375 41.421875 45.53125 \nQ 43.3125 49.21875 43.3125 52.78125 \nQ 43.3125 58.59375 39.234375 62.25 \nQ 35.15625 65.921875 28.609375 65.921875 \nQ 23.96875 65.921875 18.8125 64.3125 \nQ 13.671875 62.703125 7.8125 59.421875 \nL 7.8125 69.390625 \nQ 13.765625 71.78125 18.9375 73 \nQ 24.125 74.21875 28.421875 74.21875 \nQ 39.75 74.21875 46.484375 68.546875 \nQ 53.21875 62.890625 53.21875 53.421875 \nQ 53.21875 48.921875 51.53125 44.890625 \nQ 49.859375 40.875 45.40625 35.40625 \nQ 44.1875 33.984375 37.640625 27.21875 \nQ 31.109375 20.453125 19.1875 8.296875 \nz\n\" id=\"DejaVuSans-50\"/>\n        <path d=\"M 10.796875 72.90625 \nL 49.515625 72.90625 \nL 49.515625 64.59375 \nL 19.828125 64.59375 \nL 19.828125 46.734375 \nQ 21.96875 47.46875 24.109375 47.828125 \nQ 26.265625 48.1875 28.421875 48.1875 \nQ 40.625 48.1875 47.75 41.5 \nQ 54.890625 34.8125 54.890625 23.390625 \nQ 54.890625 11.625 47.5625 5.09375 \nQ 40.234375 -1.421875 26.90625 -1.421875 \nQ 22.3125 -1.421875 17.546875 -0.640625 \nQ 12.796875 0.140625 7.71875 1.703125 \nL 7.71875 11.625 \nQ 12.109375 9.234375 16.796875 8.0625 \nQ 21.484375 6.890625 26.703125 6.890625 \nQ 35.15625 6.890625 40.078125 11.328125 \nQ 45.015625 15.765625 45.015625 23.390625 \nQ 45.015625 31 40.078125 35.4375 \nQ 35.15625 39.890625 26.703125 39.890625 \nQ 22.75 39.890625 18.8125 39.015625 \nQ 14.890625 38.140625 10.796875 36.28125 \nz\n\" id=\"DejaVuSans-53\"/>\n       </defs>\n       <use xlink:href=\"#DejaVuSans-50\"/>\n       <use x=\"63.623047\" xlink:href=\"#DejaVuSans-46\"/>\n       <use x=\"95.410156\" xlink:href=\"#DejaVuSans-53\"/>\n      </g>\n     </g>\n    </g>\n    <g id=\"xtick_3\">\n     <g id=\"line2d_3\">\n      <g>\n       <use style=\"stroke:#000000;stroke-width:0.8;\" x=\"131.779501\" xlink:href=\"#m276ebd50d6\" y=\"239.758125\"/>\n      </g>\n     </g>\n     <g id=\"text_3\">\n      <!-- 5.0 -->\n      <g transform=\"translate(123.827938 254.356563)scale(0.1 -0.1)\">\n       <use xlink:href=\"#DejaVuSans-53\"/>\n       <use x=\"63.623047\" xlink:href=\"#DejaVuSans-46\"/>\n       <use x=\"95.410156\" xlink:href=\"#DejaVuSans-48\"/>\n      </g>\n     </g>\n    </g>\n    <g id=\"xtick_4\">\n     <g id=\"line2d_4\">\n      <g>\n       <use style=\"stroke:#000000;stroke-width:0.8;\" x=\"171.827347\" xlink:href=\"#m276ebd50d6\" y=\"239.758125\"/>\n      </g>\n     </g>\n     <g id=\"text_4\">\n      <!-- 7.5 -->\n      <g transform=\"translate(163.875785 254.356563)scale(0.1 -0.1)\">\n       <defs>\n        <path d=\"M 8.203125 72.90625 \nL 55.078125 72.90625 \nL 55.078125 68.703125 \nL 28.609375 0 \nL 18.3125 0 \nL 43.21875 64.59375 \nL 8.203125 64.59375 \nz\n\" id=\"DejaVuSans-55\"/>\n       </defs>\n       <use xlink:href=\"#DejaVuSans-55\"/>\n       <use x=\"63.623047\" xlink:href=\"#DejaVuSans-46\"/>\n       <use x=\"95.410156\" xlink:href=\"#DejaVuSans-53\"/>\n      </g>\n     </g>\n    </g>\n    <g id=\"xtick_5\">\n     <g id=\"line2d_5\">\n      <g>\n       <use style=\"stroke:#000000;stroke-width:0.8;\" x=\"211.875194\" xlink:href=\"#m276ebd50d6\" y=\"239.758125\"/>\n      </g>\n     </g>\n     <g id=\"text_5\">\n      <!-- 10.0 -->\n      <g transform=\"translate(200.742382 254.356563)scale(0.1 -0.1)\">\n       <defs>\n        <path d=\"M 12.40625 8.296875 \nL 28.515625 8.296875 \nL 28.515625 63.921875 \nL 10.984375 60.40625 \nL 10.984375 69.390625 \nL 28.421875 72.90625 \nL 38.28125 72.90625 \nL 38.28125 8.296875 \nL 54.390625 8.296875 \nL 54.390625 0 \nL 12.40625 0 \nz\n\" id=\"DejaVuSans-49\"/>\n       </defs>\n       <use xlink:href=\"#DejaVuSans-49\"/>\n       <use x=\"63.623047\" xlink:href=\"#DejaVuSans-48\"/>\n       <use x=\"127.246094\" xlink:href=\"#DejaVuSans-46\"/>\n       <use x=\"159.033203\" xlink:href=\"#DejaVuSans-48\"/>\n      </g>\n     </g>\n    </g>\n    <g id=\"xtick_6\">\n     <g id=\"line2d_6\">\n      <g>\n       <use style=\"stroke:#000000;stroke-width:0.8;\" x=\"251.923041\" xlink:href=\"#m276ebd50d6\" y=\"239.758125\"/>\n      </g>\n     </g>\n     <g id=\"text_6\">\n      <!-- 12.5 -->\n      <g transform=\"translate(240.790229 254.356563)scale(0.1 -0.1)\">\n       <use xlink:href=\"#DejaVuSans-49\"/>\n       <use x=\"63.623047\" xlink:href=\"#DejaVuSans-50\"/>\n       <use x=\"127.246094\" xlink:href=\"#DejaVuSans-46\"/>\n       <use x=\"159.033203\" xlink:href=\"#DejaVuSans-53\"/>\n      </g>\n     </g>\n    </g>\n    <g id=\"xtick_7\">\n     <g id=\"line2d_7\">\n      <g>\n       <use style=\"stroke:#000000;stroke-width:0.8;\" x=\"291.970888\" xlink:href=\"#m276ebd50d6\" y=\"239.758125\"/>\n      </g>\n     </g>\n     <g id=\"text_7\">\n      <!-- 15.0 -->\n      <g transform=\"translate(280.838076 254.356563)scale(0.1 -0.1)\">\n       <use xlink:href=\"#DejaVuSans-49\"/>\n       <use x=\"63.623047\" xlink:href=\"#DejaVuSans-53\"/>\n       <use x=\"127.246094\" xlink:href=\"#DejaVuSans-46\"/>\n       <use x=\"159.033203\" xlink:href=\"#DejaVuSans-48\"/>\n      </g>\n     </g>\n    </g>\n    <g id=\"xtick_8\">\n     <g id=\"line2d_8\">\n      <g>\n       <use style=\"stroke:#000000;stroke-width:0.8;\" x=\"332.018735\" xlink:href=\"#m276ebd50d6\" y=\"239.758125\"/>\n      </g>\n     </g>\n     <g id=\"text_8\">\n      <!-- 17.5 -->\n      <g transform=\"translate(320.885923 254.356563)scale(0.1 -0.1)\">\n       <use xlink:href=\"#DejaVuSans-49\"/>\n       <use x=\"63.623047\" xlink:href=\"#DejaVuSans-55\"/>\n       <use x=\"127.246094\" xlink:href=\"#DejaVuSans-46\"/>\n       <use x=\"159.033203\" xlink:href=\"#DejaVuSans-53\"/>\n      </g>\n     </g>\n    </g>\n   </g>\n   <g id=\"matplotlib.axis_2\">\n    <g id=\"ytick_1\">\n     <g id=\"line2d_9\">\n      <defs>\n       <path d=\"M 0 0 \nL -3.5 0 \n\" id=\"m1430e5d351\" style=\"stroke:#000000;stroke-width:0.8;\"/>\n      </defs>\n      <g>\n       <use style=\"stroke:#000000;stroke-width:0.8;\" x=\"36.465625\" xlink:href=\"#m1430e5d351\" y=\"229.874489\"/>\n      </g>\n     </g>\n     <g id=\"text_9\">\n      <!-- 0.0 -->\n      <g transform=\"translate(13.5625 233.673707)scale(0.1 -0.1)\">\n       <use xlink:href=\"#DejaVuSans-48\"/>\n       <use x=\"63.623047\" xlink:href=\"#DejaVuSans-46\"/>\n       <use x=\"95.410156\" xlink:href=\"#DejaVuSans-48\"/>\n      </g>\n     </g>\n    </g>\n    <g id=\"ytick_2\">\n     <g id=\"line2d_10\">\n      <g>\n       <use style=\"stroke:#000000;stroke-width:0.8;\" x=\"36.465625\" xlink:href=\"#m1430e5d351\" y=\"203.864919\"/>\n      </g>\n     </g>\n     <g id=\"text_10\">\n      <!-- 2.5 -->\n      <g transform=\"translate(13.5625 207.664138)scale(0.1 -0.1)\">\n       <use xlink:href=\"#DejaVuSans-50\"/>\n       <use x=\"63.623047\" xlink:href=\"#DejaVuSans-46\"/>\n       <use x=\"95.410156\" xlink:href=\"#DejaVuSans-53\"/>\n      </g>\n     </g>\n    </g>\n    <g id=\"ytick_3\">\n     <g id=\"line2d_11\">\n      <g>\n       <use style=\"stroke:#000000;stroke-width:0.8;\" x=\"36.465625\" xlink:href=\"#m1430e5d351\" y=\"177.85535\"/>\n      </g>\n     </g>\n     <g id=\"text_11\">\n      <!-- 5.0 -->\n      <g transform=\"translate(13.5625 181.654569)scale(0.1 -0.1)\">\n       <use xlink:href=\"#DejaVuSans-53\"/>\n       <use x=\"63.623047\" xlink:href=\"#DejaVuSans-46\"/>\n       <use x=\"95.410156\" xlink:href=\"#DejaVuSans-48\"/>\n      </g>\n     </g>\n    </g>\n    <g id=\"ytick_4\">\n     <g id=\"line2d_12\">\n      <g>\n       <use style=\"stroke:#000000;stroke-width:0.8;\" x=\"36.465625\" xlink:href=\"#m1430e5d351\" y=\"151.845781\"/>\n      </g>\n     </g>\n     <g id=\"text_12\">\n      <!-- 7.5 -->\n      <g transform=\"translate(13.5625 155.644999)scale(0.1 -0.1)\">\n       <use xlink:href=\"#DejaVuSans-55\"/>\n       <use x=\"63.623047\" xlink:href=\"#DejaVuSans-46\"/>\n       <use x=\"95.410156\" xlink:href=\"#DejaVuSans-53\"/>\n      </g>\n     </g>\n    </g>\n    <g id=\"ytick_5\">\n     <g id=\"line2d_13\">\n      <g>\n       <use style=\"stroke:#000000;stroke-width:0.8;\" x=\"36.465625\" xlink:href=\"#m1430e5d351\" y=\"125.836211\"/>\n      </g>\n     </g>\n     <g id=\"text_13\">\n      <!-- 10.0 -->\n      <g transform=\"translate(7.2 129.63543)scale(0.1 -0.1)\">\n       <use xlink:href=\"#DejaVuSans-49\"/>\n       <use x=\"63.623047\" xlink:href=\"#DejaVuSans-48\"/>\n       <use x=\"127.246094\" xlink:href=\"#DejaVuSans-46\"/>\n       <use x=\"159.033203\" xlink:href=\"#DejaVuSans-48\"/>\n      </g>\n     </g>\n    </g>\n    <g id=\"ytick_6\">\n     <g id=\"line2d_14\">\n      <g>\n       <use style=\"stroke:#000000;stroke-width:0.8;\" x=\"36.465625\" xlink:href=\"#m1430e5d351\" y=\"99.826642\"/>\n      </g>\n     </g>\n     <g id=\"text_14\">\n      <!-- 12.5 -->\n      <g transform=\"translate(7.2 103.62586)scale(0.1 -0.1)\">\n       <use xlink:href=\"#DejaVuSans-49\"/>\n       <use x=\"63.623047\" xlink:href=\"#DejaVuSans-50\"/>\n       <use x=\"127.246094\" xlink:href=\"#DejaVuSans-46\"/>\n       <use x=\"159.033203\" xlink:href=\"#DejaVuSans-53\"/>\n      </g>\n     </g>\n    </g>\n    <g id=\"ytick_7\">\n     <g id=\"line2d_15\">\n      <g>\n       <use style=\"stroke:#000000;stroke-width:0.8;\" x=\"36.465625\" xlink:href=\"#m1430e5d351\" y=\"73.817072\"/>\n      </g>\n     </g>\n     <g id=\"text_15\">\n      <!-- 15.0 -->\n      <g transform=\"translate(7.2 77.616291)scale(0.1 -0.1)\">\n       <use xlink:href=\"#DejaVuSans-49\"/>\n       <use x=\"63.623047\" xlink:href=\"#DejaVuSans-53\"/>\n       <use x=\"127.246094\" xlink:href=\"#DejaVuSans-46\"/>\n       <use x=\"159.033203\" xlink:href=\"#DejaVuSans-48\"/>\n      </g>\n     </g>\n    </g>\n    <g id=\"ytick_8\">\n     <g id=\"line2d_16\">\n      <g>\n       <use style=\"stroke:#000000;stroke-width:0.8;\" x=\"36.465625\" xlink:href=\"#m1430e5d351\" y=\"47.807503\"/>\n      </g>\n     </g>\n     <g id=\"text_16\">\n      <!-- 17.5 -->\n      <g transform=\"translate(7.2 51.606722)scale(0.1 -0.1)\">\n       <use xlink:href=\"#DejaVuSans-49\"/>\n       <use x=\"63.623047\" xlink:href=\"#DejaVuSans-55\"/>\n       <use x=\"127.246094\" xlink:href=\"#DejaVuSans-46\"/>\n       <use x=\"159.033203\" xlink:href=\"#DejaVuSans-53\"/>\n      </g>\n     </g>\n    </g>\n   </g>\n   <g id=\"patch_3\">\n    <path d=\"M 36.465625 239.758125 \nL 36.465625 22.318125 \n\" style=\"fill:none;stroke:#000000;stroke-linecap:square;stroke-linejoin:miter;stroke-width:0.8;\"/>\n   </g>\n   <g id=\"patch_4\">\n    <path d=\"M 371.265625 239.758125 \nL 371.265625 22.318125 \n\" style=\"fill:none;stroke:#000000;stroke-linecap:square;stroke-linejoin:miter;stroke-width:0.8;\"/>\n   </g>\n   <g id=\"patch_5\">\n    <path d=\"M 36.465625 239.758125 \nL 371.265625 239.758125 \n\" style=\"fill:none;stroke:#000000;stroke-linecap:square;stroke-linejoin:miter;stroke-width:0.8;\"/>\n   </g>\n   <g id=\"patch_6\">\n    <path d=\"M 36.465625 22.318125 \nL 371.265625 22.318125 \n\" style=\"fill:none;stroke:#000000;stroke-linecap:square;stroke-linejoin:miter;stroke-width:0.8;\"/>\n   </g>\n   <g id=\"text_17\">\n    <!-- Decision surface -->\n    <g transform=\"translate(154.24 16.318125)scale(0.12 -0.12)\">\n     <defs>\n      <path d=\"M 19.671875 64.796875 \nL 19.671875 8.109375 \nL 31.59375 8.109375 \nQ 46.6875 8.109375 53.6875 14.9375 \nQ 60.6875 21.78125 60.6875 36.53125 \nQ 60.6875 51.171875 53.6875 57.984375 \nQ 46.6875 64.796875 31.59375 64.796875 \nz\nM 9.8125 72.90625 \nL 30.078125 72.90625 \nQ 51.265625 72.90625 61.171875 64.09375 \nQ 71.09375 55.28125 71.09375 36.53125 \nQ 71.09375 17.671875 61.125 8.828125 \nQ 51.171875 0 30.078125 0 \nL 9.8125 0 \nz\n\" id=\"DejaVuSans-68\"/>\n      <path d=\"M 56.203125 29.59375 \nL 56.203125 25.203125 \nL 14.890625 25.203125 \nQ 15.484375 15.921875 20.484375 11.0625 \nQ 25.484375 6.203125 34.421875 6.203125 \nQ 39.59375 6.203125 44.453125 7.46875 \nQ 49.3125 8.734375 54.109375 11.28125 \nL 54.109375 2.78125 \nQ 49.265625 0.734375 44.1875 -0.34375 \nQ 39.109375 -1.421875 33.890625 -1.421875 \nQ 20.796875 -1.421875 13.15625 6.1875 \nQ 5.515625 13.8125 5.515625 26.8125 \nQ 5.515625 40.234375 12.765625 48.109375 \nQ 20.015625 56 32.328125 56 \nQ 43.359375 56 49.78125 48.890625 \nQ 56.203125 41.796875 56.203125 29.59375 \nz\nM 47.21875 32.234375 \nQ 47.125 39.59375 43.09375 43.984375 \nQ 39.0625 48.390625 32.421875 48.390625 \nQ 24.90625 48.390625 20.390625 44.140625 \nQ 15.875 39.890625 15.1875 32.171875 \nz\n\" id=\"DejaVuSans-101\"/>\n      <path d=\"M 48.78125 52.59375 \nL 48.78125 44.1875 \nQ 44.96875 46.296875 41.140625 47.34375 \nQ 37.3125 48.390625 33.40625 48.390625 \nQ 24.65625 48.390625 19.8125 42.84375 \nQ 14.984375 37.3125 14.984375 27.296875 \nQ 14.984375 17.28125 19.8125 11.734375 \nQ 24.65625 6.203125 33.40625 6.203125 \nQ 37.3125 6.203125 41.140625 7.25 \nQ 44.96875 8.296875 48.78125 10.40625 \nL 48.78125 2.09375 \nQ 45.015625 0.34375 40.984375 -0.53125 \nQ 36.96875 -1.421875 32.421875 -1.421875 \nQ 20.0625 -1.421875 12.78125 6.34375 \nQ 5.515625 14.109375 5.515625 27.296875 \nQ 5.515625 40.671875 12.859375 48.328125 \nQ 20.21875 56 33.015625 56 \nQ 37.15625 56 41.109375 55.140625 \nQ 45.0625 54.296875 48.78125 52.59375 \nz\n\" id=\"DejaVuSans-99\"/>\n      <path d=\"M 9.421875 54.6875 \nL 18.40625 54.6875 \nL 18.40625 0 \nL 9.421875 0 \nz\nM 9.421875 75.984375 \nL 18.40625 75.984375 \nL 18.40625 64.59375 \nL 9.421875 64.59375 \nz\n\" id=\"DejaVuSans-105\"/>\n      <path d=\"M 44.28125 53.078125 \nL 44.28125 44.578125 \nQ 40.484375 46.53125 36.375 47.5 \nQ 32.28125 48.484375 27.875 48.484375 \nQ 21.1875 48.484375 17.84375 46.4375 \nQ 14.5 44.390625 14.5 40.28125 \nQ 14.5 37.15625 16.890625 35.375 \nQ 19.28125 33.59375 26.515625 31.984375 \nL 29.59375 31.296875 \nQ 39.15625 29.25 43.1875 25.515625 \nQ 47.21875 21.78125 47.21875 15.09375 \nQ 47.21875 7.46875 41.1875 3.015625 \nQ 35.15625 -1.421875 24.609375 -1.421875 \nQ 20.21875 -1.421875 15.453125 -0.5625 \nQ 10.6875 0.296875 5.421875 2 \nL 5.421875 11.28125 \nQ 10.40625 8.6875 15.234375 7.390625 \nQ 20.0625 6.109375 24.8125 6.109375 \nQ 31.15625 6.109375 34.5625 8.28125 \nQ 37.984375 10.453125 37.984375 14.40625 \nQ 37.984375 18.0625 35.515625 20.015625 \nQ 33.0625 21.96875 24.703125 23.78125 \nL 21.578125 24.515625 \nQ 13.234375 26.265625 9.515625 29.90625 \nQ 5.8125 33.546875 5.8125 39.890625 \nQ 5.8125 47.609375 11.28125 51.796875 \nQ 16.75 56 26.8125 56 \nQ 31.78125 56 36.171875 55.265625 \nQ 40.578125 54.546875 44.28125 53.078125 \nz\n\" id=\"DejaVuSans-115\"/>\n      <path d=\"M 30.609375 48.390625 \nQ 23.390625 48.390625 19.1875 42.75 \nQ 14.984375 37.109375 14.984375 27.296875 \nQ 14.984375 17.484375 19.15625 11.84375 \nQ 23.34375 6.203125 30.609375 6.203125 \nQ 37.796875 6.203125 41.984375 11.859375 \nQ 46.1875 17.53125 46.1875 27.296875 \nQ 46.1875 37.015625 41.984375 42.703125 \nQ 37.796875 48.390625 30.609375 48.390625 \nz\nM 30.609375 56 \nQ 42.328125 56 49.015625 48.375 \nQ 55.71875 40.765625 55.71875 27.296875 \nQ 55.71875 13.875 49.015625 6.21875 \nQ 42.328125 -1.421875 30.609375 -1.421875 \nQ 18.84375 -1.421875 12.171875 6.21875 \nQ 5.515625 13.875 5.515625 27.296875 \nQ 5.515625 40.765625 12.171875 48.375 \nQ 18.84375 56 30.609375 56 \nz\n\" id=\"DejaVuSans-111\"/>\n      <path d=\"M 54.890625 33.015625 \nL 54.890625 0 \nL 45.90625 0 \nL 45.90625 32.71875 \nQ 45.90625 40.484375 42.875 44.328125 \nQ 39.84375 48.1875 33.796875 48.1875 \nQ 26.515625 48.1875 22.3125 43.546875 \nQ 18.109375 38.921875 18.109375 30.90625 \nL 18.109375 0 \nL 9.078125 0 \nL 9.078125 54.6875 \nL 18.109375 54.6875 \nL 18.109375 46.1875 \nQ 21.34375 51.125 25.703125 53.5625 \nQ 30.078125 56 35.796875 56 \nQ 45.21875 56 50.046875 50.171875 \nQ 54.890625 44.34375 54.890625 33.015625 \nz\n\" id=\"DejaVuSans-110\"/>\n      <path id=\"DejaVuSans-32\"/>\n      <path d=\"M 8.5 21.578125 \nL 8.5 54.6875 \nL 17.484375 54.6875 \nL 17.484375 21.921875 \nQ 17.484375 14.15625 20.5 10.265625 \nQ 23.53125 6.390625 29.59375 6.390625 \nQ 36.859375 6.390625 41.078125 11.03125 \nQ 45.3125 15.671875 45.3125 23.6875 \nL 45.3125 54.6875 \nL 54.296875 54.6875 \nL 54.296875 0 \nL 45.3125 0 \nL 45.3125 8.40625 \nQ 42.046875 3.421875 37.71875 1 \nQ 33.40625 -1.421875 27.6875 -1.421875 \nQ 18.265625 -1.421875 13.375 4.4375 \nQ 8.5 10.296875 8.5 21.578125 \nz\nM 31.109375 56 \nz\n\" id=\"DejaVuSans-117\"/>\n      <path d=\"M 41.109375 46.296875 \nQ 39.59375 47.171875 37.8125 47.578125 \nQ 36.03125 48 33.890625 48 \nQ 26.265625 48 22.1875 43.046875 \nQ 18.109375 38.09375 18.109375 28.8125 \nL 18.109375 0 \nL 9.078125 0 \nL 9.078125 54.6875 \nL 18.109375 54.6875 \nL 18.109375 46.1875 \nQ 20.953125 51.171875 25.484375 53.578125 \nQ 30.03125 56 36.53125 56 \nQ 37.453125 56 38.578125 55.875 \nQ 39.703125 55.765625 41.0625 55.515625 \nz\n\" id=\"DejaVuSans-114\"/>\n      <path d=\"M 37.109375 75.984375 \nL 37.109375 68.5 \nL 28.515625 68.5 \nQ 23.6875 68.5 21.796875 66.546875 \nQ 19.921875 64.59375 19.921875 59.515625 \nL 19.921875 54.6875 \nL 34.71875 54.6875 \nL 34.71875 47.703125 \nL 19.921875 47.703125 \nL 19.921875 0 \nL 10.890625 0 \nL 10.890625 47.703125 \nL 2.296875 47.703125 \nL 2.296875 54.6875 \nL 10.890625 54.6875 \nL 10.890625 58.5 \nQ 10.890625 67.625 15.140625 71.796875 \nQ 19.390625 75.984375 28.609375 75.984375 \nz\n\" id=\"DejaVuSans-102\"/>\n      <path d=\"M 34.28125 27.484375 \nQ 23.390625 27.484375 19.1875 25 \nQ 14.984375 22.515625 14.984375 16.5 \nQ 14.984375 11.71875 18.140625 8.90625 \nQ 21.296875 6.109375 26.703125 6.109375 \nQ 34.1875 6.109375 38.703125 11.40625 \nQ 43.21875 16.703125 43.21875 25.484375 \nL 43.21875 27.484375 \nz\nM 52.203125 31.203125 \nL 52.203125 0 \nL 43.21875 0 \nL 43.21875 8.296875 \nQ 40.140625 3.328125 35.546875 0.953125 \nQ 30.953125 -1.421875 24.3125 -1.421875 \nQ 15.921875 -1.421875 10.953125 3.296875 \nQ 6 8.015625 6 15.921875 \nQ 6 25.140625 12.171875 29.828125 \nQ 18.359375 34.515625 30.609375 34.515625 \nL 43.21875 34.515625 \nL 43.21875 35.40625 \nQ 43.21875 41.609375 39.140625 45 \nQ 35.0625 48.390625 27.6875 48.390625 \nQ 23 48.390625 18.546875 47.265625 \nQ 14.109375 46.140625 10.015625 43.890625 \nL 10.015625 52.203125 \nQ 14.9375 54.109375 19.578125 55.046875 \nQ 24.21875 56 28.609375 56 \nQ 40.484375 56 46.34375 49.84375 \nQ 52.203125 43.703125 52.203125 31.203125 \nz\n\" id=\"DejaVuSans-97\"/>\n     </defs>\n     <use xlink:href=\"#DejaVuSans-68\"/>\n     <use x=\"77.001953\" xlink:href=\"#DejaVuSans-101\"/>\n     <use x=\"138.525391\" xlink:href=\"#DejaVuSans-99\"/>\n     <use x=\"193.505859\" xlink:href=\"#DejaVuSans-105\"/>\n     <use x=\"221.289062\" xlink:href=\"#DejaVuSans-115\"/>\n     <use x=\"273.388672\" xlink:href=\"#DejaVuSans-105\"/>\n     <use x=\"301.171875\" xlink:href=\"#DejaVuSans-111\"/>\n     <use x=\"362.353516\" xlink:href=\"#DejaVuSans-110\"/>\n     <use x=\"425.732422\" xlink:href=\"#DejaVuSans-32\"/>\n     <use x=\"457.519531\" xlink:href=\"#DejaVuSans-115\"/>\n     <use x=\"509.619141\" xlink:href=\"#DejaVuSans-117\"/>\n     <use x=\"572.998047\" xlink:href=\"#DejaVuSans-114\"/>\n     <use x=\"614.111328\" xlink:href=\"#DejaVuSans-102\"/>\n     <use x=\"649.316406\" xlink:href=\"#DejaVuSans-97\"/>\n     <use x=\"710.595703\" xlink:href=\"#DejaVuSans-99\"/>\n     <use x=\"765.576172\" xlink:href=\"#DejaVuSans-101\"/>\n    </g>\n   </g>\n  </g>\n </g>\n <defs>\n  <clipPath id=\"p44a75073db\">\n   <rect height=\"217.44\" width=\"334.8\" x=\"36.465625\" y=\"22.318125\"/>\n  </clipPath>\n </defs>\n</svg>\n",
            "image/png": "[encoded data removed]"
          },
          "metadata": {
            "needs_background": "light"
          }
        }
      ]
    },
    {
      "cell_type": "markdown",
      "metadata": {
        "id": "XN4WLWPGlLW2",
        "colab_type": "text"
      },
      "source": [
        "**Exercise 1.1 (optional):** Plot *p(class=0|Data, K)*, *p(class=1|Data, K)* and *p(class=2|Data, K)*."
      ]
    },
    {
      "cell_type": "markdown",
      "metadata": {
        "id": "_CSUkUnSlLW2",
        "colab_type": "text"
      },
      "source": [
        "### Confusion Matrix"
      ]
    },
    {
      "cell_type": "code",
      "metadata": {
        "id": "vlcF2vInlLW3",
        "colab_type": "code",
        "colab": {
          "base_uri": "https://localhost:8080/",
          "height": 34
        },
        "outputId": "50b04f3e-1ce6-4c6f-d1f1-66b834dbe287"
      },
      "source": [
        "import pandas as pd\n",
        "g = pd.read_csv('training.csv',delimiter=',').values\n",
        "print(g[1])\n",
        "X = np.float_(g[:,0:2])\n",
        "y = np.float_(g[:,2:3])\n",
        "print(X.shape, y.shape)"
      ],
      "execution_count": 17,
      "outputs": [
        {
          "output_type": "stream",
          "name": "stdout",
          "text": [
            "[-0.083 -0.325  0.   ]\n(150, 2) (150, 1)\n"
          ]
        }
      ]
    },
    {
      "cell_type": "code",
      "metadata": {
        "id": "hoEYzg9_lLW7",
        "colab_type": "code",
        "colab": {
          "base_uri": "https://localhost:8080/",
          "height": 404
        },
        "outputId": "87215a45-cd50-4cdc-fe47-42dd107a1324"
      },
      "source": [
        "N = len(y)\n",
        "\n",
        "pos_of_class0 = np.where(y==0)[0] #positions of class 0\n",
        "pos_of_class1 = np.where(y==1)[0] #positions of class 1\n",
        "pos_of_class2 = np.where(y==2)[0] #positions of class 2\n",
        "\n",
        "pl.scatter(X[pos_of_class0,0], X[pos_of_class0,1], c='r', edgecolor='') #class = 0\n",
        "pl.scatter(X[pos_of_class1,0], X[pos_of_class1,1], c='g', edgecolor='') #class = 1\n",
        "pl.scatter(X[pos_of_class2,0], X[pos_of_class2,1], c='b', edgecolor='') #class = 2"
      ],
      "execution_count": 11,
      "outputs": [
        {
          "output_type": "execute_result",
          "data": {
            "text/plain": [
              "<matplotlib.collections.PathCollection at 0x117f514d0>"
            ]
          },
          "metadata": {},
          "execution_count": 11
        },
        {
          "output_type": "error",
          "ename": "ValueError",
          "evalue": "Expected 2-dimensional array, got 1",
          "traceback": [
            "\u001b[0;31m---------------------------------------------------------------------------\u001b[0m",
            "\u001b[0;31mValueError\u001b[0m                                Traceback (most recent call last)",
            "\u001b[0;32m~/anaconda3/lib/python3.7/site-packages/IPython/core/formatters.py\u001b[0m in \u001b[0;36m__call__\u001b[0;34m(self, obj)\u001b[0m\n\u001b[1;32m    339\u001b[0m                 \u001b[0;32mpass\u001b[0m\u001b[0;34m\u001b[0m\u001b[0;34m\u001b[0m\u001b[0m\n\u001b[1;32m    340\u001b[0m             \u001b[0;32melse\u001b[0m\u001b[0;34m:\u001b[0m\u001b[0;34m\u001b[0m\u001b[0;34m\u001b[0m\u001b[0m\n\u001b[0;32m--> 341\u001b[0;31m                 \u001b[0;32mreturn\u001b[0m \u001b[0mprinter\u001b[0m\u001b[0;34m(\u001b[0m\u001b[0mobj\u001b[0m\u001b[0;34m)\u001b[0m\u001b[0;34m\u001b[0m\u001b[0;34m\u001b[0m\u001b[0m\n\u001b[0m\u001b[1;32m    342\u001b[0m             \u001b[0;31m# Finally look for special method names\u001b[0m\u001b[0;34m\u001b[0m\u001b[0;34m\u001b[0m\u001b[0;34m\u001b[0m\u001b[0m\n\u001b[1;32m    343\u001b[0m             \u001b[0mmethod\u001b[0m \u001b[0;34m=\u001b[0m \u001b[0mget_real_method\u001b[0m\u001b[0;34m(\u001b[0m\u001b[0mobj\u001b[0m\u001b[0;34m,\u001b[0m \u001b[0mself\u001b[0m\u001b[0;34m.\u001b[0m\u001b[0mprint_method\u001b[0m\u001b[0;34m)\u001b[0m\u001b[0;34m\u001b[0m\u001b[0;34m\u001b[0m\u001b[0m\n",
            "\u001b[0;32m~/anaconda3/lib/python3.7/site-packages/IPython/core/pylabtools.py\u001b[0m in \u001b[0;36m<lambda>\u001b[0;34m(fig)\u001b[0m\n\u001b[1;32m    246\u001b[0m \u001b[0;34m\u001b[0m\u001b[0m\n\u001b[1;32m    247\u001b[0m     \u001b[0;32mif\u001b[0m \u001b[0;34m'png'\u001b[0m \u001b[0;32min\u001b[0m \u001b[0mformats\u001b[0m\u001b[0;34m:\u001b[0m\u001b[0;34m\u001b[0m\u001b[0;34m\u001b[0m\u001b[0m\n\u001b[0;32m--> 248\u001b[0;31m         \u001b[0mpng_formatter\u001b[0m\u001b[0;34m.\u001b[0m\u001b[0mfor_type\u001b[0m\u001b[0;34m(\u001b[0m\u001b[0mFigure\u001b[0m\u001b[0;34m,\u001b[0m \u001b[0;32mlambda\u001b[0m \u001b[0mfig\u001b[0m\u001b[0;34m:\u001b[0m \u001b[0mprint_figure\u001b[0m\u001b[0;34m(\u001b[0m\u001b[0mfig\u001b[0m\u001b[0;34m,\u001b[0m \u001b[0;34m'png'\u001b[0m\u001b[0;34m,\u001b[0m \u001b[0;34m**\u001b[0m\u001b[0mkwargs\u001b[0m\u001b[0;34m)\u001b[0m\u001b[0;34m)\u001b[0m\u001b[0;34m\u001b[0m\u001b[0;34m\u001b[0m\u001b[0m\n\u001b[0m\u001b[1;32m    249\u001b[0m     \u001b[0;32mif\u001b[0m \u001b[0;34m'retina'\u001b[0m \u001b[0;32min\u001b[0m \u001b[0mformats\u001b[0m \u001b[0;32mor\u001b[0m \u001b[0;34m'png2x'\u001b[0m \u001b[0;32min\u001b[0m \u001b[0mformats\u001b[0m\u001b[0;34m:\u001b[0m\u001b[0;34m\u001b[0m\u001b[0;34m\u001b[0m\u001b[0m\n\u001b[1;32m    250\u001b[0m         \u001b[0mpng_formatter\u001b[0m\u001b[0;34m.\u001b[0m\u001b[0mfor_type\u001b[0m\u001b[0;34m(\u001b[0m\u001b[0mFigure\u001b[0m\u001b[0;34m,\u001b[0m \u001b[0;32mlambda\u001b[0m \u001b[0mfig\u001b[0m\u001b[0;34m:\u001b[0m \u001b[0mretina_figure\u001b[0m\u001b[0;34m(\u001b[0m\u001b[0mfig\u001b[0m\u001b[0;34m,\u001b[0m \u001b[0;34m**\u001b[0m\u001b[0mkwargs\u001b[0m\u001b[0;34m)\u001b[0m\u001b[0;34m)\u001b[0m\u001b[0;34m\u001b[0m\u001b[0;34m\u001b[0m\u001b[0m\n",
            "\u001b[0;32m~/anaconda3/lib/python3.7/site-packages/IPython/core/pylabtools.py\u001b[0m in \u001b[0;36mprint_figure\u001b[0;34m(fig, fmt, bbox_inches, **kwargs)\u001b[0m\n\u001b[1;32m    130\u001b[0m         \u001b[0mFigureCanvasBase\u001b[0m\u001b[0;34m(\u001b[0m\u001b[0mfig\u001b[0m\u001b[0;34m)\u001b[0m\u001b[0;34m\u001b[0m\u001b[0;34m\u001b[0m\u001b[0m\n\u001b[1;32m    131\u001b[0m \u001b[0;34m\u001b[0m\u001b[0m\n\u001b[0;32m--> 132\u001b[0;31m     \u001b[0mfig\u001b[0m\u001b[0;34m.\u001b[0m\u001b[0mcanvas\u001b[0m\u001b[0;34m.\u001b[0m\u001b[0mprint_figure\u001b[0m\u001b[0;34m(\u001b[0m\u001b[0mbytes_io\u001b[0m\u001b[0;34m,\u001b[0m \u001b[0;34m**\u001b[0m\u001b[0mkw\u001b[0m\u001b[0;34m)\u001b[0m\u001b[0;34m\u001b[0m\u001b[0;34m\u001b[0m\u001b[0m\n\u001b[0m\u001b[1;32m    133\u001b[0m     \u001b[0mdata\u001b[0m \u001b[0;34m=\u001b[0m \u001b[0mbytes_io\u001b[0m\u001b[0;34m.\u001b[0m\u001b[0mgetvalue\u001b[0m\u001b[0;34m(\u001b[0m\u001b[0;34m)\u001b[0m\u001b[0;34m\u001b[0m\u001b[0;34m\u001b[0m\u001b[0m\n\u001b[1;32m    134\u001b[0m     \u001b[0;32mif\u001b[0m \u001b[0mfmt\u001b[0m \u001b[0;34m==\u001b[0m \u001b[0;34m'svg'\u001b[0m\u001b[0;34m:\u001b[0m\u001b[0;34m\u001b[0m\u001b[0;34m\u001b[0m\u001b[0m\n",
            "\u001b[0;32m~/anaconda3/lib/python3.7/site-packages/matplotlib/backend_bases.py\u001b[0m in \u001b[0;36mprint_figure\u001b[0;34m(self, filename, dpi, facecolor, edgecolor, orientation, format, bbox_inches, pad_inches, bbox_extra_artists, backend, **kwargs)\u001b[0m\n\u001b[1;32m   2215\u001b[0m                     \u001b[0morientation\u001b[0m\u001b[0;34m=\u001b[0m\u001b[0morientation\u001b[0m\u001b[0;34m,\u001b[0m\u001b[0;34m\u001b[0m\u001b[0;34m\u001b[0m\u001b[0m\n\u001b[1;32m   2216\u001b[0m                     \u001b[0mbbox_inches_restore\u001b[0m\u001b[0;34m=\u001b[0m\u001b[0m_bbox_inches_restore\u001b[0m\u001b[0;34m,\u001b[0m\u001b[0;34m\u001b[0m\u001b[0;34m\u001b[0m\u001b[0m\n\u001b[0;32m-> 2217\u001b[0;31m                     **kwargs)\n\u001b[0m\u001b[1;32m   2218\u001b[0m             \u001b[0;32mfinally\u001b[0m\u001b[0;34m:\u001b[0m\u001b[0;34m\u001b[0m\u001b[0;34m\u001b[0m\u001b[0m\n\u001b[1;32m   2219\u001b[0m                 \u001b[0;32mif\u001b[0m \u001b[0mbbox_inches\u001b[0m \u001b[0;32mand\u001b[0m \u001b[0mrestore_bbox\u001b[0m\u001b[0;34m:\u001b[0m\u001b[0;34m\u001b[0m\u001b[0;34m\u001b[0m\u001b[0m\n",
            "\u001b[0;32m~/anaconda3/lib/python3.7/site-packages/matplotlib/backend_bases.py\u001b[0m in \u001b[0;36mwrapper\u001b[0;34m(*args, **kwargs)\u001b[0m\n\u001b[1;32m   1637\u001b[0m             \u001b[0mkwargs\u001b[0m\u001b[0;34m.\u001b[0m\u001b[0mpop\u001b[0m\u001b[0;34m(\u001b[0m\u001b[0marg\u001b[0m\u001b[0;34m)\u001b[0m\u001b[0;34m\u001b[0m\u001b[0;34m\u001b[0m\u001b[0m\n\u001b[1;32m   1638\u001b[0m \u001b[0;34m\u001b[0m\u001b[0m\n\u001b[0;32m-> 1639\u001b[0;31m         \u001b[0;32mreturn\u001b[0m \u001b[0mfunc\u001b[0m\u001b[0;34m(\u001b[0m\u001b[0;34m*\u001b[0m\u001b[0margs\u001b[0m\u001b[0;34m,\u001b[0m \u001b[0;34m**\u001b[0m\u001b[0mkwargs\u001b[0m\u001b[0;34m)\u001b[0m\u001b[0;34m\u001b[0m\u001b[0;34m\u001b[0m\u001b[0m\n\u001b[0m\u001b[1;32m   1640\u001b[0m \u001b[0;34m\u001b[0m\u001b[0m\n\u001b[1;32m   1641\u001b[0m     \u001b[0;32mreturn\u001b[0m \u001b[0mwrapper\u001b[0m\u001b[0;34m\u001b[0m\u001b[0;34m\u001b[0m\u001b[0m\n",
            "\u001b[0;32m~/anaconda3/lib/python3.7/site-packages/matplotlib/backends/backend_agg.py\u001b[0m in \u001b[0;36mprint_png\u001b[0;34m(self, filename_or_obj, metadata, pil_kwargs, *args)\u001b[0m\n\u001b[1;32m    507\u001b[0m             \u001b[0;34m*\u001b[0m\u001b[0mmetadata\u001b[0m\u001b[0;34m*\u001b[0m\u001b[0;34m,\u001b[0m \u001b[0mincluding\u001b[0m \u001b[0mthe\u001b[0m \u001b[0mdefault\u001b[0m \u001b[0;34m'Software'\u001b[0m \u001b[0mkey\u001b[0m\u001b[0;34m.\u001b[0m\u001b[0;34m\u001b[0m\u001b[0;34m\u001b[0m\u001b[0m\n\u001b[1;32m    508\u001b[0m         \"\"\"\n\u001b[0;32m--> 509\u001b[0;31m         \u001b[0mFigureCanvasAgg\u001b[0m\u001b[0;34m.\u001b[0m\u001b[0mdraw\u001b[0m\u001b[0;34m(\u001b[0m\u001b[0mself\u001b[0m\u001b[0;34m)\u001b[0m\u001b[0;34m\u001b[0m\u001b[0;34m\u001b[0m\u001b[0m\n\u001b[0m\u001b[1;32m    510\u001b[0m         mpl.image.imsave(\n\u001b[1;32m    511\u001b[0m             \u001b[0mfilename_or_obj\u001b[0m\u001b[0;34m,\u001b[0m \u001b[0mself\u001b[0m\u001b[0;34m.\u001b[0m\u001b[0mbuffer_rgba\u001b[0m\u001b[0;34m(\u001b[0m\u001b[0;34m)\u001b[0m\u001b[0;34m,\u001b[0m \u001b[0mformat\u001b[0m\u001b[0;34m=\u001b[0m\u001b[0;34m\"png\"\u001b[0m\u001b[0;34m,\u001b[0m \u001b[0morigin\u001b[0m\u001b[0;34m=\u001b[0m\u001b[0;34m\"upper\"\u001b[0m\u001b[0;34m,\u001b[0m\u001b[0;34m\u001b[0m\u001b[0;34m\u001b[0m\u001b[0m\n",
            "\u001b[0;32m~/anaconda3/lib/python3.7/site-packages/matplotlib/backends/backend_agg.py\u001b[0m in \u001b[0;36mdraw\u001b[0;34m(self)\u001b[0m\n\u001b[1;32m    405\u001b[0m              (self.toolbar._wait_cursor_for_draw_cm() if self.toolbar\n\u001b[1;32m    406\u001b[0m               else nullcontext()):\n\u001b[0;32m--> 407\u001b[0;31m             \u001b[0mself\u001b[0m\u001b[0;34m.\u001b[0m\u001b[0mfigure\u001b[0m\u001b[0;34m.\u001b[0m\u001b[0mdraw\u001b[0m\u001b[0;34m(\u001b[0m\u001b[0mself\u001b[0m\u001b[0;34m.\u001b[0m\u001b[0mrenderer\u001b[0m\u001b[0;34m)\u001b[0m\u001b[0;34m\u001b[0m\u001b[0;34m\u001b[0m\u001b[0m\n\u001b[0m\u001b[1;32m    408\u001b[0m             \u001b[0;31m# A GUI class may be need to update a window using this draw, so\u001b[0m\u001b[0;34m\u001b[0m\u001b[0;34m\u001b[0m\u001b[0;34m\u001b[0m\u001b[0m\n\u001b[1;32m    409\u001b[0m             \u001b[0;31m# don't forget to call the superclass.\u001b[0m\u001b[0;34m\u001b[0m\u001b[0;34m\u001b[0m\u001b[0;34m\u001b[0m\u001b[0m\n",
            "\u001b[0;32m~/anaconda3/lib/python3.7/site-packages/matplotlib/artist.py\u001b[0m in \u001b[0;36mdraw_wrapper\u001b[0;34m(artist, renderer, *args, **kwargs)\u001b[0m\n\u001b[1;32m     39\u001b[0m                 \u001b[0mrenderer\u001b[0m\u001b[0;34m.\u001b[0m\u001b[0mstart_filter\u001b[0m\u001b[0;34m(\u001b[0m\u001b[0;34m)\u001b[0m\u001b[0;34m\u001b[0m\u001b[0;34m\u001b[0m\u001b[0m\n\u001b[1;32m     40\u001b[0m \u001b[0;34m\u001b[0m\u001b[0m\n\u001b[0;32m---> 41\u001b[0;31m             \u001b[0;32mreturn\u001b[0m \u001b[0mdraw\u001b[0m\u001b[0;34m(\u001b[0m\u001b[0martist\u001b[0m\u001b[0;34m,\u001b[0m \u001b[0mrenderer\u001b[0m\u001b[0;34m,\u001b[0m \u001b[0;34m*\u001b[0m\u001b[0margs\u001b[0m\u001b[0;34m,\u001b[0m \u001b[0;34m**\u001b[0m\u001b[0mkwargs\u001b[0m\u001b[0;34m)\u001b[0m\u001b[0;34m\u001b[0m\u001b[0;34m\u001b[0m\u001b[0m\n\u001b[0m\u001b[1;32m     42\u001b[0m         \u001b[0;32mfinally\u001b[0m\u001b[0;34m:\u001b[0m\u001b[0;34m\u001b[0m\u001b[0;34m\u001b[0m\u001b[0m\n\u001b[1;32m     43\u001b[0m             \u001b[0;32mif\u001b[0m \u001b[0martist\u001b[0m\u001b[0;34m.\u001b[0m\u001b[0mget_agg_filter\u001b[0m\u001b[0;34m(\u001b[0m\u001b[0;34m)\u001b[0m \u001b[0;32mis\u001b[0m \u001b[0;32mnot\u001b[0m \u001b[0;32mNone\u001b[0m\u001b[0;34m:\u001b[0m\u001b[0;34m\u001b[0m\u001b[0;34m\u001b[0m\u001b[0m\n",
            "\u001b[0;32m~/anaconda3/lib/python3.7/site-packages/matplotlib/figure.py\u001b[0m in \u001b[0;36mdraw\u001b[0;34m(self, renderer)\u001b[0m\n\u001b[1;32m   1862\u001b[0m             \u001b[0mself\u001b[0m\u001b[0;34m.\u001b[0m\u001b[0mpatch\u001b[0m\u001b[0;34m.\u001b[0m\u001b[0mdraw\u001b[0m\u001b[0;34m(\u001b[0m\u001b[0mrenderer\u001b[0m\u001b[0;34m)\u001b[0m\u001b[0;34m\u001b[0m\u001b[0;34m\u001b[0m\u001b[0m\n\u001b[1;32m   1863\u001b[0m             mimage._draw_list_compositing_images(\n\u001b[0;32m-> 1864\u001b[0;31m                 renderer, self, artists, self.suppressComposite)\n\u001b[0m\u001b[1;32m   1865\u001b[0m \u001b[0;34m\u001b[0m\u001b[0m\n\u001b[1;32m   1866\u001b[0m             \u001b[0mrenderer\u001b[0m\u001b[0;34m.\u001b[0m\u001b[0mclose_group\u001b[0m\u001b[0;34m(\u001b[0m\u001b[0;34m'figure'\u001b[0m\u001b[0;34m)\u001b[0m\u001b[0;34m\u001b[0m\u001b[0;34m\u001b[0m\u001b[0m\n",
            "\u001b[0;32m~/anaconda3/lib/python3.7/site-packages/matplotlib/image.py\u001b[0m in \u001b[0;36m_draw_list_compositing_images\u001b[0;34m(renderer, parent, artists, suppress_composite)\u001b[0m\n\u001b[1;32m    129\u001b[0m     \u001b[0;32mif\u001b[0m \u001b[0mnot_composite\u001b[0m \u001b[0;32mor\u001b[0m \u001b[0;32mnot\u001b[0m \u001b[0mhas_images\u001b[0m\u001b[0;34m:\u001b[0m\u001b[0;34m\u001b[0m\u001b[0;34m\u001b[0m\u001b[0m\n\u001b[1;32m    130\u001b[0m         \u001b[0;32mfor\u001b[0m \u001b[0ma\u001b[0m \u001b[0;32min\u001b[0m \u001b[0martists\u001b[0m\u001b[0;34m:\u001b[0m\u001b[0;34m\u001b[0m\u001b[0;34m\u001b[0m\u001b[0m\n\u001b[0;32m--> 131\u001b[0;31m             \u001b[0ma\u001b[0m\u001b[0;34m.\u001b[0m\u001b[0mdraw\u001b[0m\u001b[0;34m(\u001b[0m\u001b[0mrenderer\u001b[0m\u001b[0;34m)\u001b[0m\u001b[0;34m\u001b[0m\u001b[0;34m\u001b[0m\u001b[0m\n\u001b[0m\u001b[1;32m    132\u001b[0m     \u001b[0;32melse\u001b[0m\u001b[0;34m:\u001b[0m\u001b[0;34m\u001b[0m\u001b[0;34m\u001b[0m\u001b[0m\n\u001b[1;32m    133\u001b[0m         \u001b[0;31m# Composite any adjacent images together\u001b[0m\u001b[0;34m\u001b[0m\u001b[0;34m\u001b[0m\u001b[0;34m\u001b[0m\u001b[0m\n",
            "\u001b[0;32m~/anaconda3/lib/python3.7/site-packages/matplotlib/artist.py\u001b[0m in \u001b[0;36mdraw_wrapper\u001b[0;34m(artist, renderer, *args, **kwargs)\u001b[0m\n\u001b[1;32m     39\u001b[0m                 \u001b[0mrenderer\u001b[0m\u001b[0;34m.\u001b[0m\u001b[0mstart_filter\u001b[0m\u001b[0;34m(\u001b[0m\u001b[0;34m)\u001b[0m\u001b[0;34m\u001b[0m\u001b[0;34m\u001b[0m\u001b[0m\n\u001b[1;32m     40\u001b[0m \u001b[0;34m\u001b[0m\u001b[0m\n\u001b[0;32m---> 41\u001b[0;31m             \u001b[0;32mreturn\u001b[0m \u001b[0mdraw\u001b[0m\u001b[0;34m(\u001b[0m\u001b[0martist\u001b[0m\u001b[0;34m,\u001b[0m \u001b[0mrenderer\u001b[0m\u001b[0;34m,\u001b[0m \u001b[0;34m*\u001b[0m\u001b[0margs\u001b[0m\u001b[0;34m,\u001b[0m \u001b[0;34m**\u001b[0m\u001b[0mkwargs\u001b[0m\u001b[0;34m)\u001b[0m\u001b[0;34m\u001b[0m\u001b[0;34m\u001b[0m\u001b[0m\n\u001b[0m\u001b[1;32m     42\u001b[0m         \u001b[0;32mfinally\u001b[0m\u001b[0;34m:\u001b[0m\u001b[0;34m\u001b[0m\u001b[0;34m\u001b[0m\u001b[0m\n\u001b[1;32m     43\u001b[0m             \u001b[0;32mif\u001b[0m \u001b[0martist\u001b[0m\u001b[0;34m.\u001b[0m\u001b[0mget_agg_filter\u001b[0m\u001b[0;34m(\u001b[0m\u001b[0;34m)\u001b[0m \u001b[0;32mis\u001b[0m \u001b[0;32mnot\u001b[0m \u001b[0;32mNone\u001b[0m\u001b[0;34m:\u001b[0m\u001b[0;34m\u001b[0m\u001b[0;34m\u001b[0m\u001b[0m\n",
            "\u001b[0;32m~/anaconda3/lib/python3.7/site-packages/matplotlib/cbook/deprecation.py\u001b[0m in \u001b[0;36mwrapper\u001b[0;34m(*inner_args, **inner_kwargs)\u001b[0m\n\u001b[1;32m    409\u001b[0m                          \u001b[0;32melse\u001b[0m \u001b[0mdeprecation_addendum\u001b[0m\u001b[0;34m,\u001b[0m\u001b[0;34m\u001b[0m\u001b[0;34m\u001b[0m\u001b[0m\n\u001b[1;32m    410\u001b[0m                 **kwargs)\n\u001b[0;32m--> 411\u001b[0;31m         \u001b[0;32mreturn\u001b[0m \u001b[0mfunc\u001b[0m\u001b[0;34m(\u001b[0m\u001b[0;34m*\u001b[0m\u001b[0minner_args\u001b[0m\u001b[0;34m,\u001b[0m \u001b[0;34m**\u001b[0m\u001b[0minner_kwargs\u001b[0m\u001b[0;34m)\u001b[0m\u001b[0;34m\u001b[0m\u001b[0;34m\u001b[0m\u001b[0m\n\u001b[0m\u001b[1;32m    412\u001b[0m \u001b[0;34m\u001b[0m\u001b[0m\n\u001b[1;32m    413\u001b[0m     \u001b[0;32mreturn\u001b[0m \u001b[0mwrapper\u001b[0m\u001b[0;34m\u001b[0m\u001b[0;34m\u001b[0m\u001b[0m\n",
            "\u001b[0;32m~/anaconda3/lib/python3.7/site-packages/matplotlib/axes/_base.py\u001b[0m in \u001b[0;36mdraw\u001b[0;34m(self, renderer, inframe)\u001b[0m\n\u001b[1;32m   2746\u001b[0m             \u001b[0mrenderer\u001b[0m\u001b[0;34m.\u001b[0m\u001b[0mstop_rasterizing\u001b[0m\u001b[0;34m(\u001b[0m\u001b[0;34m)\u001b[0m\u001b[0;34m\u001b[0m\u001b[0;34m\u001b[0m\u001b[0m\n\u001b[1;32m   2747\u001b[0m \u001b[0;34m\u001b[0m\u001b[0m\n\u001b[0;32m-> 2748\u001b[0;31m         \u001b[0mmimage\u001b[0m\u001b[0;34m.\u001b[0m\u001b[0m_draw_list_compositing_images\u001b[0m\u001b[0;34m(\u001b[0m\u001b[0mrenderer\u001b[0m\u001b[0;34m,\u001b[0m \u001b[0mself\u001b[0m\u001b[0;34m,\u001b[0m \u001b[0martists\u001b[0m\u001b[0;34m)\u001b[0m\u001b[0;34m\u001b[0m\u001b[0;34m\u001b[0m\u001b[0m\n\u001b[0m\u001b[1;32m   2749\u001b[0m \u001b[0;34m\u001b[0m\u001b[0m\n\u001b[1;32m   2750\u001b[0m         \u001b[0mrenderer\u001b[0m\u001b[0;34m.\u001b[0m\u001b[0mclose_group\u001b[0m\u001b[0;34m(\u001b[0m\u001b[0;34m'axes'\u001b[0m\u001b[0;34m)\u001b[0m\u001b[0;34m\u001b[0m\u001b[0;34m\u001b[0m\u001b[0m\n",
            "\u001b[0;32m~/anaconda3/lib/python3.7/site-packages/matplotlib/image.py\u001b[0m in \u001b[0;36m_draw_list_compositing_images\u001b[0;34m(renderer, parent, artists, suppress_composite)\u001b[0m\n\u001b[1;32m    129\u001b[0m     \u001b[0;32mif\u001b[0m \u001b[0mnot_composite\u001b[0m \u001b[0;32mor\u001b[0m \u001b[0;32mnot\u001b[0m \u001b[0mhas_images\u001b[0m\u001b[0;34m:\u001b[0m\u001b[0;34m\u001b[0m\u001b[0;34m\u001b[0m\u001b[0m\n\u001b[1;32m    130\u001b[0m         \u001b[0;32mfor\u001b[0m \u001b[0ma\u001b[0m \u001b[0;32min\u001b[0m \u001b[0martists\u001b[0m\u001b[0;34m:\u001b[0m\u001b[0;34m\u001b[0m\u001b[0;34m\u001b[0m\u001b[0m\n\u001b[0;32m--> 131\u001b[0;31m             \u001b[0ma\u001b[0m\u001b[0;34m.\u001b[0m\u001b[0mdraw\u001b[0m\u001b[0;34m(\u001b[0m\u001b[0mrenderer\u001b[0m\u001b[0;34m)\u001b[0m\u001b[0;34m\u001b[0m\u001b[0;34m\u001b[0m\u001b[0m\n\u001b[0m\u001b[1;32m    132\u001b[0m     \u001b[0;32melse\u001b[0m\u001b[0;34m:\u001b[0m\u001b[0;34m\u001b[0m\u001b[0;34m\u001b[0m\u001b[0m\n\u001b[1;32m    133\u001b[0m         \u001b[0;31m# Composite any adjacent images together\u001b[0m\u001b[0;34m\u001b[0m\u001b[0;34m\u001b[0m\u001b[0;34m\u001b[0m\u001b[0m\n",
            "\u001b[0;32m~/anaconda3/lib/python3.7/site-packages/matplotlib/artist.py\u001b[0m in \u001b[0;36mdraw_wrapper\u001b[0;34m(artist, renderer, *args, **kwargs)\u001b[0m\n\u001b[1;32m     39\u001b[0m                 \u001b[0mrenderer\u001b[0m\u001b[0;34m.\u001b[0m\u001b[0mstart_filter\u001b[0m\u001b[0;34m(\u001b[0m\u001b[0;34m)\u001b[0m\u001b[0;34m\u001b[0m\u001b[0;34m\u001b[0m\u001b[0m\n\u001b[1;32m     40\u001b[0m \u001b[0;34m\u001b[0m\u001b[0m\n\u001b[0;32m---> 41\u001b[0;31m             \u001b[0;32mreturn\u001b[0m \u001b[0mdraw\u001b[0m\u001b[0;34m(\u001b[0m\u001b[0martist\u001b[0m\u001b[0;34m,\u001b[0m \u001b[0mrenderer\u001b[0m\u001b[0;34m,\u001b[0m \u001b[0;34m*\u001b[0m\u001b[0margs\u001b[0m\u001b[0;34m,\u001b[0m \u001b[0;34m**\u001b[0m\u001b[0mkwargs\u001b[0m\u001b[0;34m)\u001b[0m\u001b[0;34m\u001b[0m\u001b[0;34m\u001b[0m\u001b[0m\n\u001b[0m\u001b[1;32m     42\u001b[0m         \u001b[0;32mfinally\u001b[0m\u001b[0;34m:\u001b[0m\u001b[0;34m\u001b[0m\u001b[0;34m\u001b[0m\u001b[0m\n\u001b[1;32m     43\u001b[0m             \u001b[0;32mif\u001b[0m \u001b[0martist\u001b[0m\u001b[0;34m.\u001b[0m\u001b[0mget_agg_filter\u001b[0m\u001b[0;34m(\u001b[0m\u001b[0;34m)\u001b[0m \u001b[0;32mis\u001b[0m \u001b[0;32mnot\u001b[0m \u001b[0;32mNone\u001b[0m\u001b[0;34m:\u001b[0m\u001b[0;34m\u001b[0m\u001b[0;34m\u001b[0m\u001b[0m\n",
            "\u001b[0;32m~/anaconda3/lib/python3.7/site-packages/matplotlib/collections.py\u001b[0m in \u001b[0;36mdraw\u001b[0;34m(self, renderer)\u001b[0m\n\u001b[1;32m    929\u001b[0m     \u001b[0;32mdef\u001b[0m \u001b[0mdraw\u001b[0m\u001b[0;34m(\u001b[0m\u001b[0mself\u001b[0m\u001b[0;34m,\u001b[0m \u001b[0mrenderer\u001b[0m\u001b[0;34m)\u001b[0m\u001b[0;34m:\u001b[0m\u001b[0;34m\u001b[0m\u001b[0;34m\u001b[0m\u001b[0m\n\u001b[1;32m    930\u001b[0m         \u001b[0mself\u001b[0m\u001b[0;34m.\u001b[0m\u001b[0mset_sizes\u001b[0m\u001b[0;34m(\u001b[0m\u001b[0mself\u001b[0m\u001b[0;34m.\u001b[0m\u001b[0m_sizes\u001b[0m\u001b[0;34m,\u001b[0m \u001b[0mself\u001b[0m\u001b[0;34m.\u001b[0m\u001b[0mfigure\u001b[0m\u001b[0;34m.\u001b[0m\u001b[0mdpi\u001b[0m\u001b[0;34m)\u001b[0m\u001b[0;34m\u001b[0m\u001b[0;34m\u001b[0m\u001b[0m\n\u001b[0;32m--> 931\u001b[0;31m         \u001b[0mCollection\u001b[0m\u001b[0;34m.\u001b[0m\u001b[0mdraw\u001b[0m\u001b[0;34m(\u001b[0m\u001b[0mself\u001b[0m\u001b[0;34m,\u001b[0m \u001b[0mrenderer\u001b[0m\u001b[0;34m)\u001b[0m\u001b[0;34m\u001b[0m\u001b[0;34m\u001b[0m\u001b[0m\n\u001b[0m\u001b[1;32m    932\u001b[0m \u001b[0;34m\u001b[0m\u001b[0m\n\u001b[1;32m    933\u001b[0m \u001b[0;34m\u001b[0m\u001b[0m\n",
            "\u001b[0;32m~/anaconda3/lib/python3.7/site-packages/matplotlib/artist.py\u001b[0m in \u001b[0;36mdraw_wrapper\u001b[0;34m(artist, renderer, *args, **kwargs)\u001b[0m\n\u001b[1;32m     39\u001b[0m                 \u001b[0mrenderer\u001b[0m\u001b[0;34m.\u001b[0m\u001b[0mstart_filter\u001b[0m\u001b[0;34m(\u001b[0m\u001b[0;34m)\u001b[0m\u001b[0;34m\u001b[0m\u001b[0;34m\u001b[0m\u001b[0m\n\u001b[1;32m     40\u001b[0m \u001b[0;34m\u001b[0m\u001b[0m\n\u001b[0;32m---> 41\u001b[0;31m             \u001b[0;32mreturn\u001b[0m \u001b[0mdraw\u001b[0m\u001b[0;34m(\u001b[0m\u001b[0martist\u001b[0m\u001b[0;34m,\u001b[0m \u001b[0mrenderer\u001b[0m\u001b[0;34m,\u001b[0m \u001b[0;34m*\u001b[0m\u001b[0margs\u001b[0m\u001b[0;34m,\u001b[0m \u001b[0;34m**\u001b[0m\u001b[0mkwargs\u001b[0m\u001b[0;34m)\u001b[0m\u001b[0;34m\u001b[0m\u001b[0;34m\u001b[0m\u001b[0m\n\u001b[0m\u001b[1;32m     42\u001b[0m         \u001b[0;32mfinally\u001b[0m\u001b[0;34m:\u001b[0m\u001b[0;34m\u001b[0m\u001b[0;34m\u001b[0m\u001b[0m\n\u001b[1;32m     43\u001b[0m             \u001b[0;32mif\u001b[0m \u001b[0martist\u001b[0m\u001b[0;34m.\u001b[0m\u001b[0mget_agg_filter\u001b[0m\u001b[0;34m(\u001b[0m\u001b[0;34m)\u001b[0m \u001b[0;32mis\u001b[0m \u001b[0;32mnot\u001b[0m \u001b[0;32mNone\u001b[0m\u001b[0;34m:\u001b[0m\u001b[0;34m\u001b[0m\u001b[0;34m\u001b[0m\u001b[0m\n",
            "\u001b[0;32m~/anaconda3/lib/python3.7/site-packages/matplotlib/collections.py\u001b[0m in \u001b[0;36mdraw\u001b[0;34m(self, renderer)\u001b[0m\n\u001b[1;32m    410\u001b[0m                 \u001b[0mself\u001b[0m\u001b[0;34m.\u001b[0m\u001b[0m_linewidths\u001b[0m\u001b[0;34m,\u001b[0m \u001b[0mself\u001b[0m\u001b[0;34m.\u001b[0m\u001b[0m_linestyles\u001b[0m\u001b[0;34m,\u001b[0m\u001b[0;34m\u001b[0m\u001b[0;34m\u001b[0m\u001b[0m\n\u001b[1;32m    411\u001b[0m                 \u001b[0mself\u001b[0m\u001b[0;34m.\u001b[0m\u001b[0m_antialiaseds\u001b[0m\u001b[0;34m,\u001b[0m \u001b[0mself\u001b[0m\u001b[0;34m.\u001b[0m\u001b[0m_urls\u001b[0m\u001b[0;34m,\u001b[0m\u001b[0;34m\u001b[0m\u001b[0;34m\u001b[0m\u001b[0m\n\u001b[0;32m--> 412\u001b[0;31m                 self._offset_position)\n\u001b[0m\u001b[1;32m    413\u001b[0m \u001b[0;34m\u001b[0m\u001b[0m\n\u001b[1;32m    414\u001b[0m         \u001b[0mgc\u001b[0m\u001b[0;34m.\u001b[0m\u001b[0mrestore\u001b[0m\u001b[0;34m(\u001b[0m\u001b[0;34m)\u001b[0m\u001b[0;34m\u001b[0m\u001b[0;34m\u001b[0m\u001b[0m\n",
            "\u001b[0;32m~/anaconda3/lib/python3.7/site-packages/matplotlib/backends/backend_agg.py\u001b[0m in \u001b[0;36mdraw_path_collection\u001b[0;34m(self, gc, master_transform, paths, all_transforms, offsets, offsetTrans, facecolors, edgecolors, linewidths, linestyles, antialiaseds, urls, offset_position)\u001b[0m\n\u001b[1;32m    173\u001b[0m             \u001b[0mgc\u001b[0m\u001b[0;34m,\u001b[0m \u001b[0mmaster_transform\u001b[0m\u001b[0;34m,\u001b[0m \u001b[0mpaths\u001b[0m\u001b[0;34m,\u001b[0m \u001b[0mall_transforms\u001b[0m\u001b[0;34m,\u001b[0m \u001b[0moffsets\u001b[0m\u001b[0;34m,\u001b[0m \u001b[0moffsetTrans\u001b[0m\u001b[0;34m,\u001b[0m\u001b[0;34m\u001b[0m\u001b[0;34m\u001b[0m\u001b[0m\n\u001b[1;32m    174\u001b[0m             \u001b[0mfacecolors\u001b[0m\u001b[0;34m,\u001b[0m \u001b[0medgecolors\u001b[0m\u001b[0;34m,\u001b[0m \u001b[0mlinewidths\u001b[0m\u001b[0;34m,\u001b[0m \u001b[0mlinestyles\u001b[0m\u001b[0;34m,\u001b[0m \u001b[0mantialiaseds\u001b[0m\u001b[0;34m,\u001b[0m \u001b[0murls\u001b[0m\u001b[0;34m,\u001b[0m\u001b[0;34m\u001b[0m\u001b[0;34m\u001b[0m\u001b[0m\n\u001b[0;32m--> 175\u001b[0;31m             offset_position)\n\u001b[0m\u001b[1;32m    176\u001b[0m \u001b[0;34m\u001b[0m\u001b[0m\n\u001b[1;32m    177\u001b[0m     \u001b[0;32mdef\u001b[0m \u001b[0mdraw_mathtext\u001b[0m\u001b[0;34m(\u001b[0m\u001b[0mself\u001b[0m\u001b[0;34m,\u001b[0m \u001b[0mgc\u001b[0m\u001b[0;34m,\u001b[0m \u001b[0mx\u001b[0m\u001b[0;34m,\u001b[0m \u001b[0my\u001b[0m\u001b[0;34m,\u001b[0m \u001b[0ms\u001b[0m\u001b[0;34m,\u001b[0m \u001b[0mprop\u001b[0m\u001b[0;34m,\u001b[0m \u001b[0mangle\u001b[0m\u001b[0;34m)\u001b[0m\u001b[0;34m:\u001b[0m\u001b[0;34m\u001b[0m\u001b[0;34m\u001b[0m\u001b[0m\n",
            "\u001b[0;31mValueError\u001b[0m: Expected 2-dimensional array, got 1"
          ]
        }
      ]
    },
    {
      "cell_type": "markdown",
      "metadata": {
        "id": "oYdW5rszlLXF",
        "colab_type": "text"
      },
      "source": [
        "**Exercise 1.2.** Determine the class of X_q data in test.csv. Hence develop the confusion matrix"
      ]
    },
    {
      "cell_type": "code",
      "metadata": {
        "id": "ftnpDvPKlLXG",
        "colab_type": "code",
        "colab": {}
      },
      "source": [
        "import pandas as pd\n",
        "g_test = pd.read_csv('test.csv',delimiter=',').values\n",
        "X_test = np.float_(g_test[:,0:2])\n",
        "y_test = np.float_(g_test[:,2:3])\n",
        "print(X_test.shape, y_test.shape)"
      ],
      "execution_count": 12,
      "outputs": [
        {
          "output_type": "stream",
          "name": "stdout",
          "text": [
            "(60, 2) (60, 1)\n"
          ]
        }
      ]
    },
    {
      "cell_type": "code",
      "metadata": {
        "id": "eFwxTxs5lLXN",
        "colab_type": "code",
        "colab": {
          "base_uri": "https://localhost:8080/",
          "height": 68
        },
        "outputId": "1b85df11-d29f-4324-c44b-801de88821fd"
      },
      "source": [
        "out_class = np.empty((len(y_test),1))\n",
        "for i in range(len(y_test)):\n",
        "    out_class[i,0] = calc_knn(X, y, 4, X_test[i,:])\n",
        "\n",
        "#print(np.hstack((out_class,y_test)))\n",
        "#TODO\n",
        "pair = np.hstack((out_class,y_test))\n",
        "pair = pair.astype(int)\n",
        "print(y_test)\n",
        "confusion_matrix = np.zeros((3,3))\n",
        "\n",
        "for i in pair:\n",
        "  confusion_matrix[i[1], i[0]] += 1\n",
        "print(confusion_matrix)\n"
      ],
      "execution_count": 16,
      "outputs": [
        {
          "output_type": "stream",
          "name": "stdout",
          "text": [
            "[[0.]\n [0.]\n [0.]\n [0.]\n [0.]\n [0.]\n [0.]\n [0.]\n [0.]\n [0.]\n [0.]\n [0.]\n [0.]\n [0.]\n [0.]\n [0.]\n [0.]\n [0.]\n [0.]\n [0.]\n [1.]\n [1.]\n [1.]\n [1.]\n [1.]\n [1.]\n [1.]\n [1.]\n [1.]\n [1.]\n [1.]\n [1.]\n [1.]\n [1.]\n [1.]\n [1.]\n [1.]\n [1.]\n [1.]\n [1.]\n [2.]\n [2.]\n [2.]\n [2.]\n [2.]\n [2.]\n [2.]\n [2.]\n [2.]\n [2.]\n [2.]\n [2.]\n [2.]\n [2.]\n [2.]\n [2.]\n [2.]\n [2.]\n [2.]\n [2.]]\n[[17.  3.  0.]\n [ 1. 19.  0.]\n [ 0.  1. 19.]]\n"
          ]
        }
      ]
    },
    {
      "cell_type": "code",
      "metadata": {
        "id": "p0pZ4mhOsrpX",
        "colab_type": "code",
        "colab": {
          "base_uri": "https://localhost:8080/",
          "height": 68
        },
        "outputId": "fc0dee01-f4bd-4e94-b260-b7ce9d948870"
      },
      "source": [
        "from sklearn.metrics import confusion_matrix\n",
        "confusion_matrix(y_test, out_class)"
      ],
      "execution_count": 22,
      "outputs": [
        {
          "output_type": "execute_result",
          "data": {
            "text/plain": [
              "array([[17,  3,  0],\n",
              "       [ 1, 19,  0],\n",
              "       [ 0,  1, 19]])"
            ]
          },
          "metadata": {
            "tags": []
          },
          "execution_count": 22
        }
      ]
    },
    {
      "cell_type": "markdown",
      "metadata": {
        "id": "BaT7Skk7lLXR",
        "colab_type": "text"
      },
      "source": [
        "## Naïve Bayes Classifier (NBC)"
      ]
    },
    {
      "cell_type": "markdown",
      "metadata": {
        "id": "JwJgvXkxlLXS",
        "colab_type": "text"
      },
      "source": [
        "Bayesian inference is based on,\n",
        "\n",
        "\\begin{equation}\n",
        "    posterior = \\frac{likelihood \\times prior}{evidence}\n",
        "\\end{equation}\n",
        "\n",
        "The main assumption in naïve Bayes is ***conditional independence***.\n",
        "\n",
        "The naïve Bayes classifier (NBC) is given by,\n",
        "\\begin{equation}\n",
        "    \\hat{y} = \\text{argmax}_{k \\in {1,2,...K}} \\Big( p(C_k) \\prod_{j=1}^D p(x_j|C_k) \\Big) \\in \\{C_k\\}_{k=1}^K\n",
        "\\end{equation}\n",
        "\n",
        "where $C_k$ is the $k^{th}$ class when there are $K$ classes. If $K=2$, i.e. $k \\in \\{1,2\\}$, then the classifier is called a binary classifier."
      ]
    },
    {
      "cell_type": "markdown",
      "metadata": {
        "collapsed": true,
        "id": "UeVGeLe6lLXT",
        "colab_type": "text"
      },
      "source": [
        "Let us consider a simple spam filtering algorithm based on the Nave bayes binary classifier..\n",
        "\n",
        "The following algorithm is only for demonstration. It can be developed more efficiently. Read Section 3.5 of Machine Learning Kevin by P. Murphy for more information."
      ]
    },
    {
      "cell_type": "markdown",
      "metadata": {
        "id": "54-rrrEKlLXT",
        "colab_type": "text"
      },
      "source": [
        "*Step 1:* **Define training data and vocabulary.**"
      ]
    },
    {
      "cell_type": "code",
      "metadata": {
        "id": "Wy47dHU8lLXU",
        "colab_type": "code",
        "colab": {}
      },
      "source": [
        "import numpy as np\n",
        "\n",
        "spam = [['million dollar offer'],\n",
        "        ['secret offer today'],\n",
        "        ['send your password online to win one million'],\n",
        "        ['send ten dollar to win million dollar'],\n",
        "        ['confirm your secret password to win monthly gifts']]\n",
        "\n",
        "ham =[['christmas offer for our valued qantas customer'],\n",
        "      ['confirm your monthly bill online or by calling to customer services'],\n",
        "      ['win by booking it using qantas points'],\n",
        "      ['dear customer : confirm your booking']]\n",
        "\n",
        "voc = ['million', 'dollar', 'offer', 'send', 'password', 'win', 'customer', 'booking', 'bill', \n",
        "       'online', 'monthly', 'qantas', 'confirm']\n",
        "\n",
        "#Note: some sentences are deformed for simplicity. "
      ],
      "execution_count": 5,
      "outputs": []
    },
    {
      "cell_type": "markdown",
      "metadata": {
        "id": "v2GFXgzilLXZ",
        "colab_type": "text"
      },
      "source": [
        "*Step 2*: **Calculate class probabilities.**"
      ]
    },
    {
      "cell_type": "code",
      "metadata": {
        "id": "03ie6GIzlLXb",
        "colab_type": "code",
        "colab": {}
      },
      "source": [
        "def calc_class_prob(cat, voc): #cat=ham or spam  and voc=voc\n",
        "    class_prob = np.zeros((len(voc),1)) #define a 'zeros' array to store class probabilities\n",
        "    for ith_class_email in cat: #for each email in cat\n",
        "        words_in_ith_class_email = ith_class_email[0].split() #split the ith email into words\n",
        "        words_in_ith_class_email = list(set(words_in_ith_class_email)) #remove duplicated words\n",
        "        for word in words_in_ith_class_email: #for each word in the splitted email\n",
        "            i = 0\n",
        "            for voc_word in voc: #for each element in voc\n",
        "                if voc_word in word:\n",
        "                    class_prob[i] += 1 # incrmenet the ith element of class_prob, if voc element is in word\n",
        "                i += 1\n",
        "    return class_prob/len(cat) #divide the count by length of cat"
      ],
      "execution_count": 8,
      "outputs": []
    },
    {
      "cell_type": "code",
      "metadata": {
        "id": "tpZVFNzAlLXh",
        "colab_type": "code",
        "colab": {
          "base_uri": "https://localhost:8080/",
          "height": 459
        },
        "outputId": "73d0cc94-898c-41c3-bbd6-90bf40b2329e",
        "tags": []
      },
      "source": [
        "ham_class_prob = calc_class_prob(ham, voc)\n",
        "spam_class_prob = calc_class_prob(spam, voc)\n",
        "\n",
        "print(ham_class_prob)\n",
        "print(spam_class_prob)"
      ],
      "execution_count": 9,
      "outputs": [
        {
          "output_type": "stream",
          "name": "stdout",
          "text": "[[0.  ]\n [0.  ]\n [0.25]\n [0.  ]\n [0.  ]\n [0.25]\n [0.75]\n [0.5 ]\n [0.25]\n [0.25]\n [0.25]\n [0.5 ]\n [0.5 ]]\n[[0.6]\n [0.4]\n [0.4]\n [0.4]\n [0.4]\n [0.6]\n [0. ]\n [0. ]\n [0. ]\n [0.2]\n [0.2]\n [0. ]\n [0.2]]\n"
        }
      ]
    },
    {
      "cell_type": "markdown",
      "metadata": {
        "id": "m7y58-kilLXs",
        "colab_type": "text"
      },
      "source": [
        "*Step 3:* **Determine if words in a new email are in the vocabulary.**"
      ]
    },
    {
      "cell_type": "code",
      "metadata": {
        "id": "fp8phS8ElLXu",
        "colab_type": "code",
        "colab": {
          "base_uri": "https://localhost:8080/",
          "height": 51
        },
        "outputId": "19638087-2ef2-464c-98cf-4a5e1303ed7a"
      },
      "source": [
        "new = ['win online offer'] #new email\n",
        "\n",
        "prob_vector = np.zeros((len(voc)), dtype=bool) #define a 'True' array to store class probabilities\n",
        "words_in_new = new[0].split() #split the new email into words\n",
        "words_in_new = list(set(words_in_new)) #remove duplicated words\n",
        "i = 0\n",
        "for voc_word in voc: #for each element in voc\n",
        "    if voc_word in words_in_new: \n",
        "        prob_vector[i] = True #set the ith element of prob_vector to True, if voc element is in word\n",
        "    else:\n",
        "        prob_vector[i] = False #set the ith element of prob_vector to False, otherwise\n",
        "    i += 1\n",
        "print(prob_vector)"
      ],
      "execution_count": 26,
      "outputs": [
        {
          "output_type": "stream",
          "text": [
            "[False False  True False False  True False False False  True False False\n",
            " False]\n"
          ],
          "name": "stdout"
        }
      ]
    },
    {
      "cell_type": "markdown",
      "metadata": {
        "id": "99sXAGwilLXz",
        "colab_type": "text"
      },
      "source": [
        "*Step 4:* **Considering independence, calculate the probabilities that word in the new email appear in i) ham messages ii) spam messages**"
      ]
    },
    {
      "cell_type": "code",
      "metadata": {
        "id": "21PZU6NFlLX0",
        "colab_type": "code",
        "colab": {
          "base_uri": "https://localhost:8080/",
          "height": 34
        },
        "outputId": "d3e007aa-42e4-4278-acd9-b251a3407214"
      },
      "source": [
        "prob_ham = 1\n",
        "for i in range(len(prob_vector)):\n",
        "    if prob_vector[i] == True:\n",
        "        prob_ham *= ham_class_prob[i]\n",
        "    else:\n",
        "        prob_ham *= (1 - ham_class_prob[i])\n",
        "#alternative: np.prod(ham_class_prob[np.where(prob_vector==True)]) * np.prod(1-ham_class_prob[np.where(prob_vector==False)])\n",
        "        \n",
        "prob_spam = 1\n",
        "for i in range(len(prob_vector)):\n",
        "    if prob_vector[i] == True:\n",
        "        prob_spam *= spam_class_prob[i]\n",
        "    else:\n",
        "        prob_spam *= (1 - spam_class_prob[i])\n",
        "\n",
        "print(prob_ham, prob_spam)"
      ],
      "execution_count": 27,
      "outputs": [
        {
          "output_type": "stream",
          "text": [
            "[0.] [0.003]\n"
          ],
          "name": "stdout"
        }
      ]
    },
    {
      "cell_type": "markdown",
      "metadata": {
        "id": "MzqsfB9BlLX5",
        "colab_type": "text"
      },
      "source": [
        "*Step 5:* **If 30% of emails are typically spams, calculate the probability that the *new* email is a spam.**"
      ]
    },
    {
      "cell_type": "code",
      "metadata": {
        "id": "F89NcWkwlLX6",
        "colab_type": "code",
        "colab": {
          "base_uri": "https://localhost:8080/",
          "height": 34
        },
        "outputId": "f50ba9b2-f8e8-43c0-948a-8149fdc6c98e"
      },
      "source": [
        "p_spam = 0.3\n",
        "p_ham = 1 - p_spam\n",
        "\n",
        "p_spam_given_new = (prob_spam*p_spam)/(prob_spam*p_spam + prob_ham*p_ham) #Bayes theorem\n",
        "print('p(spam|new_email)=', p_spam_given_new[0])"
      ],
      "execution_count": 28,
      "outputs": [
        {
          "output_type": "stream",
          "text": [
            "p(spam|new_email)= 0.8055070903428252\n"
          ],
          "name": "stdout"
        }
      ]
    },
    {
      "cell_type": "markdown",
      "metadata": {
        "id": "O0RRYY7mlLX_",
        "colab_type": "text"
      },
      "source": [
        "## Classifier Performance"
      ]
    },
    {
      "cell_type": "markdown",
      "metadata": {
        "id": "n_WuoWeVlLX_",
        "colab_type": "text"
      },
      "source": [
        "\\begin{equation}\n",
        "    Accuracy = \\frac{TP+TN}{TP+TN+FP+FN}\n",
        "\\end{equation}\n",
        "\n",
        "\\begin{equation}\n",
        "    Precision (p) = \\frac{TP}{TP+FP}\n",
        "\\end{equation}\n",
        "\n",
        "\\begin{equation}\n",
        "    Recall (r) = \\frac{TP}{TP+FN}\n",
        "\\end{equation}\n",
        "\n",
        "\\begin{equation}\n",
        "    F\\_measure (F) = \\frac{2rp}{r+p} = \\frac{2TP}{2TP+FN+FP}\n",
        "\\end{equation}\n",
        "\n",
        "\\begin{equation}\n",
        "    TPR = \\frac{TP}{TP+FN} \n",
        "\\end{equation}\n",
        "\n",
        "\\begin{equation}\n",
        "    FPR = \\frac{FP}{FP+TN} \n",
        "\\end{equation}\n",
        "\n",
        "Receiver Operating Characteristic (ROC) is a plot of TPR vs FPR. \n",
        "\n",
        "Note that area=0.5 for random guess and area=1 for an idean classifier."
      ]
    },
    {
      "cell_type": "markdown",
      "metadata": {
        "id": "fhrFZ93slLYA",
        "colab_type": "text"
      },
      "source": [
        "**Exercise 2.1:** Develop the confusion matrix and calculate precision, recall and F-measure based on the following test set. Calculate the area under Receiver Operating Characteristic (ROC)."
      ]
    },
    {
      "cell_type": "markdown",
      "metadata": {
        "id": "j0QR46zflLYA",
        "colab_type": "text"
      },
      "source": [
        "Refer: \n",
        "       https://ccrma.stanford.edu/workshops/mir2009/references/ROCintro.pdf\n",
        "       http://scikit-learn.org/stable/modules/generated/sklearn.metrics.roc_curve.html"
      ]
    },
    {
      "cell_type": "code",
      "metadata": {
        "id": "ogC3zSsmlLYB",
        "colab_type": "code",
        "colab": {}
      },
      "source": [
        "spam = [['secret million dollar'],\n",
        "        ['secret offer today']]\n",
        "\n",
        "ham =[['confirm christmas'],\n",
        "      ['qantas monthly booking']]\n",
        "\n",
        "#TODO\n",
        "#Step 1: Construct a method to obtain the confusion matrix for a binary classifier for a given threshold\n",
        "#Step 2: Call the method in Step 1 for different threshold values and hence calculate tpr and fpr"
      ],
      "execution_count": 1,
      "outputs": []
    },
    {
      "cell_type": "code",
      "metadata": {
        "id": "3Lz2XVT_zCgO",
        "colab_type": "code",
        "colab": {}
      },
      "source": [
        "def calc_prob_vec(email, voc):\n",
        "  prob_vector = np.zeros((len(voc)), dtype=bool) #define a 'True' array to store class probabilities\n",
        "  words_in_new = email[0].split() #split the new email into words\n",
        "  words_in_new = list(set(words_in_new)) #remove duplicated words\n",
        "  i = 0\n",
        "  for voc_word in voc: #for each element in voc\n",
        "      if voc_word in words_in_new: \n",
        "          prob_vector[i] = True #set the ith element of prob_vector to True, if voc element is in word\n",
        "      else:\n",
        "          prob_vector[i] = False #set the ith element of prob_vector to False, otherwise\n",
        "      i += 1\n",
        "\n",
        "  prob_ham = 1\n",
        "  for i in range(len(prob_vector)):\n",
        "      if prob_vector[i] == True:\n",
        "          prob_ham *= ham_class_prob[i]\n",
        "      else:\n",
        "          prob_ham *= (1 - ham_class_prob[i])\n",
        "  #alternative: np.prod(ham_class_prob[np.where(prob_vector==True)]) * np.prod(1-ham_class_prob[np.where(prob_vector==False)])\n",
        "          \n",
        "  prob_spam = 1\n",
        "  for i in range(len(prob_vector)):\n",
        "      if prob_vector[i] == True:\n",
        "          prob_spam *= spam_class_prob[i]\n",
        "      else:\n",
        "          prob_spam *= (1 - spam_class_prob[i])\n",
        "  return prob_ham, prob_spam"
      ],
      "execution_count": 7,
      "outputs": []
    },
    {
      "cell_type": "code",
      "metadata": {
        "id": "XkcS3TEfzbWV",
        "colab_type": "code",
        "colab": {}
      },
      "source": [
        "def calc_prob_spam_ham(prob_vector,ham_class_prob,spam_class_prob):\n",
        "  prob_ham = 1\n",
        "  for i in range(len(prob_vector)):\n",
        "      if prob_vector[i] == True:\n",
        "          prob_ham *= ham_class_prob[i]\n",
        "      else:\n",
        "          prob_ham *= (1 - ham_class_prob[i])\n",
        "  #alternative: np.prod(ham_class_prob[np.where(prob_vector==True)]) * np.prod(1-ham_class_prob[np.where(prob_vector==False)])\n",
        "          \n",
        "  prob_spam = 1\n",
        "  for i in range(len(prob_vector)):\n",
        "      if prob_vector[i] == True:\n",
        "          prob_spam *= spam_class_prob[i]\n",
        "      else:\n",
        "          prob_spam *= (1 - spam_class_prob[i])\n",
        "  return prob_ham, prob_spam"
      ],
      "execution_count": 3,
      "outputs": []
    },
    {
      "cell_type": "code",
      "metadata": {
        "id": "eYwK1G9bz2So",
        "colab_type": "code",
        "colab": {
          "base_uri": "https://localhost:8080/",
          "height": 34
        },
        "outputId": "39afdecb-10e4-49fc-a58e-7b98143d9ccf",
        "tags": []
      },
      "source": [
        "p_spam = 0.3\n",
        "p_ham = 1 - p_spam\n",
        "ham_class_prob = calc_class_prob(ham, voc)\n",
        "spam_class_prob = calc_class_prob(spam, voc)\n",
        "\n",
        "p_spam_given_new = []\n",
        "for email in spam:\n",
        "    prob_ham, prob_spam = calc_prob_vec(email, voc)\n",
        "    prob_email_spam = (prob_spam*p_spam)/(prob_spam*p_spam + prob_ham*p_ham)\n",
        "    p_spam_given_new.append(prob_email_spam[0])\n",
        "for email in ham:\n",
        "    prob_ham, prob_spam = calc_prob_vec(email, voc)\n",
        "    prob_email_spam = (prob_spam*p_spam)/(prob_spam*p_spam + prob_ham*p_ham)\n",
        "    p_spam_given_new.append(prob_email_spam[0])\n",
        "print(p_spam_given_new)"
      ],
      "execution_count": 10,
      "outputs": [
        {
          "output_type": "stream",
          "name": "stdout",
          "text": "[1.0, 0.5509923432525458, 1.0, 1.0, 1.0, 0.0, 0.0, 0.0, 0.0]\n"
        }
      ]
    },
    {
      "cell_type": "markdown",
      "metadata": {
        "id": "OgiNYt5alLYD",
        "colab_type": "text"
      },
      "source": [
        "**Exercise 2.2 (optional):**  Extend the NBC to Bernoulli/Gaussian naive Bayes classifier by considering the full Bayesian treatment. "
      ]
    }
  ]
}