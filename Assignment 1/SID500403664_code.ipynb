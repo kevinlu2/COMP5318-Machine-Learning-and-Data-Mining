{
 "cells": [
  {
   "cell_type": "markdown",
   "metadata": {},
   "source": [
    "# COMP5318 - Machine Learning and Data Mining: Assignment 1\n",
    "<div style=\"text-align: right\"> Due: Wednesday 14 Oct 2020 11:59PM </div>\n",
    "\n",
    "The goal of this assignment is to build a classifier to classify some grayscale images of the size 28x28 into a set of categories. The dimension of the original data is large, so you need to be smart on which method you gonna use and perhaps perform a pre-processing step to reduce the amount of computation. Part of your marks will be a function of the performance of your classifier on the test set."
   ]
  },
  {
   "cell_type": "markdown",
   "metadata": {},
   "source": [
    "# Hardware and software specifications <br />\n",
    "MacBook Pro (Retina, 13-inch, Mid 2014) <br />\n",
    "Processor: 2.8 GHz Intel Core i5 <br />\n",
    "Memory: 8 GB 1600 MHz DDR3 <br />\n",
    "Graphics: Intel Iris 1536 MB <br />\n",
    "OS: macOS Mojave Version 10.14.6 <br />\n",
    "\n",
    "Code is written in Visual Studio Code with Python Extension for Visual Studio Code by Microsoft"
   ]
  },
  {
   "cell_type": "markdown",
   "metadata": {},
   "source": [
    "# Load Libraries"
   ]
  },
  {
   "cell_type": "code",
   "execution_count": 1,
   "metadata": {
    "tags": []
   },
   "outputs": [
    {
     "name": "stdout",
     "output_type": "stream",
     "text": [
      "['images_training.h5', 'labels_training.h5']\n",
      "['.DS_Store', 'images_testing.h5', 'labels_testing_2000.h5']\n"
     ]
    }
   ],
   "source": [
    "import h5py\n",
    "import numpy as np\n",
    "import os\n",
    "import seaborn as sns\n",
    "import pandas as pd\n",
    "import matplotlib.pyplot as plt\n",
    "from scipy import stats\n",
    "from bisect import bisect\n",
    "from scipy.spatial import distance\n",
    "from math import exp, sqrt, pi\n",
    "print(os.listdir(\"./Input/train\"))\n",
    "print(os.listdir(\"./Input/test\"))\n",
    "# train_files = [name for name in os.listdir(\"./Input/train\") if not name.endswith('DS_Store')]\n",
    "# test_files = [name for name in os.listdir(\"./Input/test\") if not name.endswith('DS_Store')]\n",
    "# print(train_files)\n",
    "# print(test_files)"
   ]
  },
  {
   "cell_type": "markdown",
   "metadata": {},
   "source": [
    "# Load Data"
   ]
  },
  {
   "cell_type": "code",
   "execution_count": 2,
   "metadata": {
    "tags": []
   },
   "outputs": [
    {
     "name": "stdout",
     "output_type": "stream",
     "text": [
      "(30000, 784) (30000,)\n"
     ]
    }
   ],
   "source": [
    "with h5py.File('./Input/train/images_training.h5','r') as H:\n",
    "    data_train = np.copy(H['datatrain'])\n",
    "with h5py.File('./Input/train/labels_training.h5','r') as H:\n",
    "    label_train = np.copy(H['labeltrain'])\n",
    "\n",
    "# using H['datatest'], H['labeltest'] for test dataset.\n",
    "print(data_train.shape,label_train.shape)"
   ]
  },
  {
   "cell_type": "code",
   "execution_count": 3,
   "metadata": {
    "tags": []
   },
   "outputs": [
    {
     "name": "stdout",
     "output_type": "stream",
     "text": [
      "(5000, 784) (2000,)\n"
     ]
    }
   ],
   "source": [
    "with h5py.File('./Input/test/images_testing.h5','r') as H:\n",
    "    data_test = np.copy(H['datatest'])\n",
    "with h5py.File('./Input/test/labels_testing_2000.h5','r') as H:\n",
    "    label_test = np.copy(H['labeltest'])\n",
    "\n",
    "# using H['datatest'], H['labeltest'] for test dataset.\n",
    "print(data_test.shape,label_test.shape)"
   ]
  },
  {
   "cell_type": "markdown",
   "metadata": {},
   "source": [
    "# Data Pre-processing"
   ]
  },
  {
   "cell_type": "markdown",
   "metadata": {},
   "source": [
    "## Principal Component Analysis\n",
    "<div style=\"text-align: right\"> Sourced: Tutorial 2 - Matrix Decomposition</div>\n",
    "<div style=\"text-align: right\"> Sourced: https://stats.stackexchange.com/questions/125172/pca-on-train-and-test-datasets-should-i-run-one-pca-on-traintest-or-two-separa </div>\n",
    "<div style=\"text-align: right\"> https://towardsdatascience.com/pca-with-numpy-58917c1d0391 </div>\n",
    "<div style=\"text-align: right\"> https://stackoverflow.com/questions/10818718/principal-component-analysis </div>\n",
    "\n"
   ]
  },
  {
   "cell_type": "markdown",
   "metadata": {},
   "source": [
    "### Computing the Eigenvectors and Eigenvalues\n"
   ]
  },
  {
   "cell_type": "code",
   "execution_count": 4,
   "metadata": {
    "tags": []
   },
   "outputs": [
    {
     "name": "stdout",
     "output_type": "stream",
     "text": [
      "(30000, 784)\n",
      "First 20 Eigenvalues: \n",
      " [19.8611004  12.10997382  4.1078177   3.3719857   2.61461635  2.35693788\n",
      "  1.61184549  1.28149922  0.92593176  0.89463432  0.67365696  0.62224642\n",
      "  0.52434522  0.44943814  0.41495554  0.4023021   0.37964251  0.36276613\n",
      "  0.31522305  0.31177036] \n",
      "\n"
     ]
    }
   ],
   "source": [
    "data = data_train   #Create copy of training data\n",
    "data = data - np.mean(data, axis=0) #Centre observations by zero mean\n",
    "print(data.shape)\n",
    "covariance_matrix = np.cov(data.T)  #Create the covariance matrix between the 784 features\n",
    "#print(covariance_matrix)\n",
    "eig_val, eig_vec = np.linalg.eig(covariance_matrix) #From linear algebra, retrive the eiganvalue and eigan vectors from the covariance matrix\n",
    "print(\"First 20 Eigenvalues: \\n\", eig_val[:20], \"\\n\")"
   ]
  },
  {
   "cell_type": "markdown",
   "metadata": {},
   "source": [
    "### Picking Principal Components\n"
   ]
  },
  {
   "cell_type": "code",
   "execution_count": 5,
   "metadata": {},
   "outputs": [
    {
     "name": "stdout",
     "output_type": "stream",
     "text": [
      "First 10 Variance Explained: \n",
      " [29.077053310731294, 17.72924699012503, 6.013928330120427, 4.936655363514209, 3.8278512994969107, 3.4506048031981504, 2.3597744497586266, 1.876140819639972, 1.3555828542550032, 1.309762764368793] \n",
      "\n",
      "First 10 Cummulative Variance Explained: \n",
      " [29.07705331 46.8063003  52.82022863 57.75688399 61.58473529 65.0353401\n",
      " 67.39511455 69.27125537 70.62683822 71.93660099] \n",
      "\n"
     ]
    }
   ],
   "source": [
    "variance_explained = [] #Declare list to hold all variances explaine for each feature.\n",
    "for i in eig_val:\n",
    "    variance_explained.append((i/sum(eig_val))*100)    #Get proportion of eiganvalue of each feature and multiply by 100 to get percentage\n",
    "print(\"First 10 Variance Explained: \\n\", variance_explained[:10], \"\\n\") \n",
    "\n",
    "cumulative_variance_explained = np.cumsum(variance_explained)   #Gets list of cummulative variancces\n",
    "print(\"First 10 Cummulative Variance Explained: \\n\", cumulative_variance_explained[:10], \"\\n\") "
   ]
  },
  {
   "cell_type": "markdown",
   "metadata": {},
   "source": [
    "### Plot Cumulative explained variance to find elbow point"
   ]
  },
  {
   "cell_type": "code",
   "execution_count": 6,
   "metadata": {},
   "outputs": [
    {
     "data": {
      "text/plain": [
       "Text(0.5, 1.0, 'Explained variance vs Number of components')"
      ]
     },
     "execution_count": 6,
     "metadata": {},
     "output_type": "execute_result"
    },
    {
     "data": {
      "image/png": "[encoded data removed]",
      "text/plain": [
       "<Figure size 432x288 with 1 Axes>"
      ]
     },
     "metadata": {
      "needs_background": "light"
     },
     "output_type": "display_data"
    }
   ],
   "source": [
    "comp = bisect(cumulative_variance_explained, 95) #Number of components at 95% explained variance\n",
    "sns.lineplot(x = np.arange(data.shape[1]), y=cumulative_variance_explained) #Plot numbercomponents by cummulative variance\n",
    "plt.axvline(comp, c='m', linestyle='--', alpha=0.6) #abline to show where we are cutting for 95% variance explained\n",
    "plt.xlabel(\"Number of components\")\n",
    "plt.ylabel(\"Cumulative explained variance\")\n",
    "plt.title(\"Explained variance vs Number of components\")\n"
   ]
  },
  {
   "cell_type": "markdown",
   "metadata": {},
   "source": [
    "As seen from the diagram above, the number of components for 95% variance explained is 187 components. Below we set this globablly."
   ]
  },
  {
   "cell_type": "code",
   "execution_count": 7,
   "metadata": {},
   "outputs": [
    {
     "name": "stdout",
     "output_type": "stream",
     "text": [
      "Number of components for 95% Explained Variance: 187\n"
     ]
    }
   ],
   "source": [
    "n_component = comp\n",
    "print(\"Number of components for 95% Explained Variance:\", n_component)"
   ]
  },
  {
   "cell_type": "markdown",
   "metadata": {},
   "source": [
    "### Project Data Onto Lower-Dimensional Linear Subspace\n",
    "</br>\n",
    "We now will create our projection matrix by reducing our array of eiganvectors by the number of components found above"
   ]
  },
  {
   "cell_type": "markdown",
   "metadata": {},
   "source": [
    "#### Project onto training data"
   ]
  },
  {
   "cell_type": "code",
   "execution_count": 8,
   "metadata": {},
   "outputs": [
    {
     "name": "stdout",
     "output_type": "stream",
     "text": [
      "(30000, 187)\n"
     ]
    }
   ],
   "source": [
    "projection_matrix = (eig_vec.T[:][:n_component]).T\n",
    "X_train_pca = data.dot(projection_matrix)\n",
    "print(X_train_pca.shape)"
   ]
  },
  {
   "cell_type": "markdown",
   "metadata": {},
   "source": [
    "#### Project on to test data\n",
    "To keep consistency the same projecetion matrix is applied onto the test data."
   ]
  },
  {
   "cell_type": "code",
   "execution_count": 9,
   "metadata": {},
   "outputs": [
    {
     "name": "stdout",
     "output_type": "stream",
     "text": [
      "(5000, 187)\n"
     ]
    }
   ],
   "source": [
    "data = data_test\n",
    "data = data - np.mean(data, axis=0)\n",
    "X_test_pca = data.dot(projection_matrix)\n",
    "print(X_test_pca.shape)"
   ]
  },
  {
   "cell_type": "markdown",
   "metadata": {},
   "source": [
    "## Split Data\n",
    "Split training data into train and validaiton sets on 70:30"
   ]
  },
  {
   "cell_type": "code",
   "execution_count": 10,
   "metadata": {},
   "outputs": [],
   "source": [
    "# train_pct_index = int(0.7 * X_train_pca.shape[0])\n",
    "# X_train, X_val = X_train_pca[:train_pct_index], X_train_pca[train_pct_index:]\n",
    "# y_train, y_val = label_train[:train_pct_index], label_train[train_pct_index:]"
   ]
  },
  {
   "cell_type": "markdown",
   "metadata": {},
   "source": [
    "# Classification Models\n"
   ]
  },
  {
   "cell_type": "markdown",
   "metadata": {},
   "source": [
    "## kNN Classificaiton Algorithm\n",
    "<div style=\"text-align: right\"> Sourced: COMP5318 Tutorial 5 - Classification I </div>"
   ]
  },
  {
   "cell_type": "code",
   "execution_count": 11,
   "metadata": {},
   "outputs": [],
   "source": [
    "def calc_knn(X, y, K, X_q, distance_method):\n",
    "    if distance_method == \"squared\" :   #Calculate distance between X_q and each training point\n",
    "        dis = ((X - X_q)**2).sum(axis=1) #Sum the distance of entire row, in other words by columns.\n",
    "    elif distance_method =='euclidean':\n",
    "        dis = np.sqrt(((X - X_q)**2).sum(axis=1))\n",
    "    elif distance_method == \"manhattan\":\n",
    "        dis = (X - X_q).sum(axis=1)\n",
    "    else:\n",
    "        raise ValueError('Undetermined distance')\n",
    "    arg_ascending = np.argsort(dis)     #Sort distanc matrix\n",
    "    return stats.mode(y[arg_ascending[:K]]).mode    #Take the neighbour that occurs the most"
   ]
  },
  {
   "cell_type": "markdown",
   "metadata": {},
   "source": [
    "### Cross Validation\n",
    "Find best k method"
   ]
  },
  {
   "cell_type": "code",
   "execution_count": 12,
   "metadata": {
    "scrolled": true
   },
   "outputs": [],
   "source": [
    "# %%time\n",
    "# method = \"squared\"\n",
    "# k_list = np.arange(5, 13)\n",
    "# score_list = []\n",
    "# for k in k_list:    #iterate through the range of k neighbours\n",
    "#     y_pred = np.empty((len(X_val)))    #Declare empty arrary to hold predictions\n",
    "#     print(\"neighbour\", k)\n",
    "#     for i in range(len(y_val)):    #Iterate each sample\n",
    "#         y_pred[i]= calc_knn(X_train, y_train, k, X_val[i,:],method)    #Get prediction for given k\n",
    "#     score_list.append(np.mean(y_pred == y_val))    #append score into a score list\n",
    "# score_list = np.array(score_list)"
   ]
  },
  {
   "cell_type": "markdown",
   "metadata": {},
   "source": [
    "Plot scores for each k and retrieve k with highest score"
   ]
  },
  {
   "cell_type": "code",
   "execution_count": 13,
   "metadata": {},
   "outputs": [],
   "source": [
    "# fig, ax = plt.subplots()\n",
    "# n_comp_list = np.arange(5, 13)\n",
    "# ax.plot(k_list, score_list)\n",
    "# ax.axvline(n_comp_list[np.argmax(score_list)], c='m', linestyle='--', alpha=0.6)\n",
    "# ax.set_xlabel('# Neighbors')\n",
    "# ax.set_ylabel('Accuracy')\n",
    "# ax.set_xticks(k_list)\n",
    "# ax.set_title('Finding best k neighbours')\n",
    "# plt.show()"
   ]
  },
  {
   "cell_type": "markdown",
   "metadata": {},
   "source": [
    "Set the k that yields the best accuracy"
   ]
  },
  {
   "cell_type": "code",
   "execution_count": 14,
   "metadata": {},
   "outputs": [],
   "source": [
    "# k = k_list[np.argmax(score_list)]"
   ]
  },
  {
   "cell_type": "code",
   "execution_count": 15,
   "metadata": {},
   "outputs": [],
   "source": [
    "# %%time\n",
    "# y_pred = np.empty((len(X_val)))\n",
    "# for i in range(len(y_val)):\n",
    "#     y_pred[i] = calc_knn(X_train, y_train, k, X_val[i,:], method)"
   ]
  },
  {
   "cell_type": "code",
   "execution_count": 16,
   "metadata": {},
   "outputs": [],
   "source": [
    "# y_true = y_val\n",
    "# y_pred = y_pred\n",
    "\n",
    "# y_true = pd.Series(y_true, name='Actual')\n",
    "# y_pred = pd.Series(y_pred, name='Predicted')\n",
    "# confusion_matrix = pd.crosstab(y_true, y_pred)\n",
    "# print(confusion_matrix)\n",
    "# kNN_train_acc = np.sum(y_true == y_pred[:y_true.shape[0]])/len(y_true)"
   ]
  },
  {
   "cell_type": "markdown",
   "metadata": {},
   "source": [
    "### Calculate Test Dataset\n",
    "<div style=\"text-align: right\"> Sourced: COMP5318 Tutorial 5 - Classification I </div>\n"
   ]
  },
  {
   "cell_type": "code",
   "execution_count": 17,
   "metadata": {
    "tags": []
   },
   "outputs": [
    {
     "name": "stdout",
     "output_type": "stream",
     "text": [
      "CPU times: user 44.3 s, sys: 7.84 s, total: 52.2 s\n",
      "Wall time: 53.2 s\n"
     ]
    }
   ],
   "source": [
    "%%time\n",
    "k = 6\n",
    "method = \"squared\"\n",
    "knn_y_pred = np.empty((len(X_test_pca)))\n",
    "for i in range(len(label_test)):\n",
    "    knn_y_pred[i] = calc_knn(X_train_pca, label_train, k, X_test_pca[i,:], method)"
   ]
  },
  {
   "cell_type": "markdown",
   "metadata": {},
   "source": [
    "### Confusion Matrix on Test Dataset"
   ]
  },
  {
   "cell_type": "code",
   "execution_count": 18,
   "metadata": {},
   "outputs": [
    {
     "name": "stdout",
     "output_type": "stream",
     "text": [
      "Predicted  0.0  1.0  2.0  3.0  4.0  5.0  6.0  7.0  8.0  9.0   All\n",
      "Actual                                                           \n",
      "0          162    0    5    4    3    1   12    0    5    0   192\n",
      "1            0  182    1    1    0    0    0    0    0    0   184\n",
      "2            5    1  161    4   20    0   15    0    0    0   206\n",
      "3            8    1    4  170   13    0   10    0    1    0   207\n",
      "4            1    0   29   13  160    0   17    0    0    0   220\n",
      "5            0    0    0    0    0  163    0   17    0   10   190\n",
      "6           36    1   24    4   14    0  107    0    4    0   190\n",
      "7            0    0    0    0    0    3    0  182    0    7   192\n",
      "8            0    0    2    1    2    0    2    0  219    1   227\n",
      "9            0    0    0    0    0    1    0    9    0  182   192\n",
      "All        212  185  226  197  212  168  163  208  229  200  2000\n"
     ]
    }
   ],
   "source": [
    "y_true = label_test\n",
    "y_pred = knn_y_pred[:y_true.shape[0]]\n",
    "\n",
    "y_true = pd.Series(y_true, name='Actual')\n",
    "y_pred = pd.Series(y_pred, name='Predicted')\n",
    "knn_confusion = pd.crosstab(y_true, y_pred,margins=True)\n",
    "print(knn_confusion)"
   ]
  },
  {
   "cell_type": "markdown",
   "metadata": {},
   "source": [
    "### kNN Accuracy on test set"
   ]
  },
  {
   "cell_type": "code",
   "execution_count": 19,
   "metadata": {},
   "outputs": [],
   "source": [
    "np.sum(y_true == y_pred[:y_true.shape[0]])/len(y_true)\n",
    "\n",
    "knn_accuracy = np.mean(y_pred == y_true)"
   ]
  },
  {
   "cell_type": "markdown",
   "metadata": {},
   "source": [
    "## Gaussian Naive Bayes Classifier\n",
    "<div style=\"text-align: right\"> Sourced: COMP5318 Tutorial 5 - Classification I </div>"
   ]
  },
  {
   "cell_type": "markdown",
   "metadata": {},
   "source": [
    "Firstly for each class in our test set, the mean and variance is calculated for each feature."
   ]
  },
  {
   "cell_type": "code",
   "execution_count": 20,
   "metadata": {},
   "outputs": [],
   "source": [
    "# def get_label_stats(X, y):\n",
    "#     labels = set(y)     #Get distinct classes from our test set\n",
    "#     label_stats = dict()    #Declare the dictionary that will hold a list of statistics\n",
    "#     for label in labels:    #Loop to iterate each class\n",
    "#         x_labels = X[y == label]    #Retreive the observations(x) that fall corresponds to the current class\n",
    "#         feature_stats = []      #Declare list to hold the statistic\n",
    "#         for i in range(X.shape[1]): #Iterate each row of our obeservations\n",
    "#             feature_x = x_labels[:,i]   #Select the column\n",
    "#             feature_stats.append([np.mean(feature_x), np.var(feature_x)])   #Append results to our list\n",
    "#         label_stats[label] = feature_stats  #Set the value of our class to the list of statistics\n",
    "#     return label_stats"
   ]
  },
  {
   "cell_type": "markdown",
   "metadata": {},
   "source": [
    "The priors probability is calculated by finding the proportion of each class in the training set."
   ]
  },
  {
   "cell_type": "code",
   "execution_count": 21,
   "metadata": {},
   "outputs": [],
   "source": [
    "# def get_prior(X, y):    #Get the prior probabilty of our classes\n",
    "#     labels = set(y)\n",
    "#     prior = dict()      #Declare dictionary where key is our class and value its proportion\n",
    "#     for label in labels:\n",
    "#         prior[label] = float(len(y[y == label])) / len(y)   #Find number of labels in our dataset and divide by dataset length\n",
    "#     return prior"
   ]
  },
  {
   "cell_type": "markdown",
   "metadata": {},
   "source": [
    "Apply the gaussian formula to get our conditional probabilities\n",
    "\\begin{equation}\n",
    "     \\frac{1}{{ \\sqrt {2\\pi \\sigma^{2}} }}e^{\\frac{{ x- \\mu }}{2 \\sigma^{2}}}\n",
    "\\end{equation}"
   ]
  },
  {
   "cell_type": "code",
   "execution_count": 22,
   "metadata": {},
   "outputs": [],
   "source": [
    "# def get_p_given_c(Xq, mean, var):\n",
    "#     return  exp( -((Xq-mean)**2 / (2 * var )) ) / (sqrt(2 * pi * var))  "
   ]
  },
  {
   "cell_type": "markdown",
   "metadata": {},
   "source": [
    "Calculate the probability of each image for each class"
   ]
  },
  {
   "cell_type": "code",
   "execution_count": 23,
   "metadata": {},
   "outputs": [],
   "source": [
    "# def get_posterior(label_stats, row, prior, labels):\n",
    "#     prob = dict()   #Declare dictionaly to hold our probabilities\n",
    "#     for label in labels:    #Interate through our classes\n",
    "#         # prob[label] = prior[label]\n",
    "#         likelihood = prior[label]   #Set the current likelihood as our prior probability\n",
    "#         for i in range(row.shape[0]):\n",
    "#             mean, var = label_stats[label][i][0], label_stats[label][i][1]  #For each feature in our image we calculate the proability of each feature in the current class.\n",
    "#             likelihood *= get_p_given_c(row[i], mean, var)\n",
    "#         prob[label] = likelihood    #Append the posterier to our dicitonry\n",
    "#     return prob"
   ]
  },
  {
   "cell_type": "markdown",
   "metadata": {},
   "source": [
    "Prediction is made by taking the class with the highest posterior probability"
   ]
  },
  {
   "cell_type": "code",
   "execution_count": 24,
   "metadata": {},
   "outputs": [],
   "source": [
    "# def get_predictions(posterior):\n",
    "#     predictions = []\n",
    "#     for row in posterior:   #Interate through our posterior dictionary where key is the label and value is the posterioer.\n",
    "#         predictions.append(max(row, key=row.get))   #Return the key (class) that has the highest value (posterior)\n",
    "#     return predictions  #Return an arrary of our predicitons"
   ]
  },
  {
   "cell_type": "markdown",
   "metadata": {},
   "source": [
    "The fucntion below incorporates all funcitons above to make the classifier"
   ]
  },
  {
   "cell_type": "code",
   "execution_count": 25,
   "metadata": {},
   "outputs": [],
   "source": [
    "# def NB_Classifier(X_train, y_train, X_test):\n",
    "#     #Train Data\n",
    "#     label_stats = get_label_stats(X_train, y_train) #Get statistics\n",
    "#     prior = get_prior(X_train, y_train) #Gets our priors\n",
    "#     posteriors = []\n",
    "#     for X_q in X_test:\n",
    "#         posteriors.append(get_posterior(label_stats, X_q, prior, label_set))    #Get posteriers of each row in our new data set\n",
    "#     y_pred = get_predictions(posteriors)    #Get prediciton for our new set\n",
    "#     return y_pred"
   ]
  },
  {
   "cell_type": "markdown",
   "metadata": {},
   "source": [
    "### kNN Train Model and predict on validation"
   ]
  },
  {
   "cell_type": "code",
   "execution_count": 26,
   "metadata": {},
   "outputs": [],
   "source": [
    "# %%time\n",
    "# label_set = set(y_train)\n",
    "# y_pred = NB_Classifier(X_train, y_train, X_val)"
   ]
  },
  {
   "cell_type": "markdown",
   "metadata": {},
   "source": [
    "### Training Confusion Matrix"
   ]
  },
  {
   "cell_type": "code",
   "execution_count": 27,
   "metadata": {},
   "outputs": [],
   "source": [
    "# y_true = pd.Series(y_val, name='Actual')\n",
    "# y_pred = pd.Series(y_pred, name='Predicted')\n",
    "# confusion_matrix = pd.crosstab(y_true, y_pred)\n",
    "# print(confusion_matrix)\n",
    "# nb_train_acc = np.mean(y_pred == y_true)\n",
    "# print(\"\\nAccuracy:\", np.mean(y_pred == y_true))"
   ]
  },
  {
   "cell_type": "markdown",
   "metadata": {},
   "source": [
    "### Predict on Test Dataset\n",
    "<div style=\"text-align: right\"> Sourced: COMP5318 Tutorial 5 - Classification I </div>\n",
    "Prediciton is made on whole training data"
   ]
  },
  {
   "cell_type": "code",
   "execution_count": 28,
   "metadata": {},
   "outputs": [],
   "source": [
    "# %%time\n",
    "# nb_y_pred = NB_Classifier(X_train_pca, label_train, X_test_pca)"
   ]
  },
  {
   "cell_type": "markdown",
   "metadata": {},
   "source": [
    "### Test Confusion Matrix"
   ]
  },
  {
   "cell_type": "code",
   "execution_count": 29,
   "metadata": {},
   "outputs": [],
   "source": [
    "# y_true = pd.Series(label_test, name='Actual')\n",
    "# y_pred = pd.Series(nb_y_pred[:2000], name='Predicted')\n",
    "# nb_confusion = pd.crosstab(y_true, y_pred,margins=True)\n",
    "# print(nb_confusion)\n",
    "# print(\"\\nAccuracy:\", np.mean(y_pred == y_true))\n",
    "# nb_accuracy = np.mean(y_pred == y_true)"
   ]
  },
  {
   "cell_type": "markdown",
   "metadata": {},
   "source": [
    "## Multinominal Logistic Regression Classifier\n",
    "<div style=\"text-align: right\"> Sourced: COMP5318 Tutorial 8 - Multinomial Logistic Regression </div>"
   ]
  },
  {
   "cell_type": "markdown",
   "metadata": {},
   "source": [
    "In multinominal Logistic Regression a softmax function is used to replace the sigmoid funciton.\n",
    "$$\n",
    "h_w(x) = p(y = c|x;w_1,...,w_c) = \\frac{\\exp(w_c^Tx)}{\\sum_{c=1}^C \\exp(w_c^Tx)} \n",
    "%- y_j = \\mathrm{softmax}(\\mathbf{o})_j - y_j = \\Pr(c = 1|x) - y_j\n",
    "$$\n"
   ]
  },
  {
   "cell_type": "code",
   "execution_count": 30,
   "metadata": {},
   "outputs": [],
   "source": [
    "# def softmax(Z): \n",
    "#     exp_z = np.exp(Z)\n",
    "#     return exp_z / exp_z.sum(axis = 1, keepdims = True)"
   ]
  },
  {
   "cell_type": "markdown",
   "metadata": {},
   "source": [
    "### Softmax Gradient\n",
    "$$\n",
    "w_j \\leftarrow w_j - \\alpha (\\sum_{i=1}^n(h_w(x^{i}) - y^{i})x^{i} + \\lambda w_j)\n",
    "$$"
   ]
  },
  {
   "cell_type": "code",
   "execution_count": 31,
   "metadata": {},
   "outputs": [],
   "source": [
    "# def softmax_grad(X, y, W):\n",
    "#     A = softmax(X.dot(W))    # shape of (N, C)\n",
    "#     id0 = range(X.shape[0])  # number of train data\n",
    "#     A[id0, y] -= 1           # A - Y, shape of (N, C)\n",
    "#     return X.T.dot(A)/X.shape[0] #+ (l/2) * np.sum(W) ** 2"
   ]
  },
  {
   "cell_type": "markdown",
   "metadata": {},
   "source": [
    "\n",
    "### Loss\n",
    "\\begin{equation}\n",
    "    \\text{loss}(\\mathbf{w}) = -l(\\mathbf{w}) = -\\sum_{k=1}^{C} 1\\{y=k\\}\\big( \\log(\\frac{\\exp(w_c^Tx)}{\\sum_{c=1}^C \\exp(w_c^Tx)}\\big)\n",
    "\\end{equation}\n",
    "<div style=\"text-align: right\"> Sourced: http://web.stanford.edu/~jurafsky/slp3/5.pdf</div>\n",
    "\n"
   ]
  },
  {
   "cell_type": "code",
   "execution_count": 32,
   "metadata": {},
   "outputs": [],
   "source": [
    "# def softmax_loss(inputs, targets, weights):\n",
    "#     A = softmax(inputs.dot(weights))\n",
    "#     id0 = range(inputs.shape[0])\n",
    "#     return -np.mean(np.log(A[id0, targets]))"
   ]
  },
  {
   "cell_type": "markdown",
   "metadata": {},
   "source": [
    "From our week 8 tutorial, fitting the multi-nominal logistic regression by batches"
   ]
  },
  {
   "cell_type": "code",
   "execution_count": 33,
   "metadata": {},
   "outputs": [],
   "source": [
    "# # building learning fuction using softmax gradient decent\n",
    "# def softmax_fit(inputs, targets, weights, lr, epoches, batch_size):\n",
    "#     tol = 1e-5\n",
    "#     weights_prev = weights.copy()\n",
    "#     loss_hist = [softmax_loss(inputs, targets, weights)] # store history of loss \n",
    "#     N = inputs.shape[0]\n",
    "#     nbatches = int(np.ceil(float(N)/batch_size)) #number of batches for given batch size\n",
    "#     for epoch in range(epoches): \n",
    "#         mix_ids = np.random.permutation(N) # mix data \n",
    "#         for i in range(nbatches):\n",
    "#             # get the i-th batch\n",
    "#             batch_ids = mix_ids[batch_size*i : min(batch_size*(i+1), N) ] \n",
    "#             X_batch, y_batch = inputs[batch_ids], targets[batch_ids]\n",
    "#             weights -= lr * softmax_grad(X_batch, y_batch, weights) # update gradient descent \n",
    "#         loss_hist.append(softmax_loss(inputs, targets, weights))\n",
    "#         if np.linalg.norm(weights - weights_prev)/weights.size < tol:\n",
    "#             break \n",
    "#         weights_prev = weights.copy()\n",
    "#     return weights, loss_hist"
   ]
  },
  {
   "cell_type": "markdown",
   "metadata": {},
   "source": [
    "Predictins are made by taking the highest probability along each row"
   ]
  },
  {
   "cell_type": "code",
   "execution_count": 34,
   "metadata": {},
   "outputs": [],
   "source": [
    "# def get_prediction(weights, inputs):\n",
    "#     A = softmax(inputs.dot(weights)) #Use trained weights to find probabilites on test data.\n",
    "#     return np.argmax(A, axis = 1)   #Return classes with highest probability"
   ]
  },
  {
   "cell_type": "markdown",
   "metadata": {},
   "source": [
    "### Fit training data"
   ]
  },
  {
   "cell_type": "code",
   "execution_count": 35,
   "metadata": {},
   "outputs": [],
   "source": [
    "# %%time\n",
    "# C=len(np.unique(y_val))\n",
    "# weights = np.random.randn(X_train.shape[1], C)\n",
    "# weights, loss_hist = softmax_fit(X_train, y_train, weights, batch_size = 10, epoches = 100, lr = 0.03)"
   ]
  },
  {
   "cell_type": "markdown",
   "metadata": {},
   "source": [
    "Plot loss against epoches to find optimal number of epoches"
   ]
  },
  {
   "cell_type": "code",
   "execution_count": 36,
   "metadata": {},
   "outputs": [],
   "source": [
    "# plt.plot(loss_hist)\n",
    "# plt.xlabel('number of epoches', fontsize = 13)\n",
    "# plt.ylabel('loss', fontsize = 13)\n",
    "# plt.tick_params(axis='both', which='major', labelsize=13)\n",
    "# plt.show()"
   ]
  },
  {
   "cell_type": "markdown",
   "metadata": {},
   "source": [
    "Can see from graph that there is a sharp elbow point. I have selected 10."
   ]
  },
  {
   "cell_type": "markdown",
   "metadata": {},
   "source": [
    "### Confusion Matrix of training data agaist validation"
   ]
  },
  {
   "cell_type": "code",
   "execution_count": 37,
   "metadata": {},
   "outputs": [],
   "source": [
    "# y_pred = get_prediction(weights,X_val)\n",
    "# y_true = pd.Series(y_val, name='Actual')\n",
    "# y_pred = pd.Series(y_pred, name='Predicted')\n",
    "# confusion_matrix = pd.crosstab(y_true, y_pred)\n",
    "# print(confusion_matrix)\n",
    "# logit_train_acc = np.mean(y_pred == y_true)\n",
    "# print(\"\\nAccuracy:\", np.mean(y_pred == y_true))"
   ]
  },
  {
   "cell_type": "markdown",
   "metadata": {},
   "source": [
    "### Fit whole data and predict on test data"
   ]
  },
  {
   "cell_type": "code",
   "execution_count": 38,
   "metadata": {},
   "outputs": [],
   "source": [
    "# %%time\n",
    "# C=len(np.unique(label_train))\n",
    "# weights = np.random.randn(X_train_pca.shape[1], C)\n",
    "# weights, loss_hist = softmax_fit(X_train_pca, label_train, weights, batch_size = 1, epoches = 10, lr = 0.02)"
   ]
  },
  {
   "cell_type": "markdown",
   "metadata": {},
   "source": [
    "### Predict Test data"
   ]
  },
  {
   "cell_type": "code",
   "execution_count": 39,
   "metadata": {},
   "outputs": [],
   "source": [
    "# %%time\n",
    "# logist_y_pred = get_prediction(weights,X_test_pca)"
   ]
  },
  {
   "cell_type": "markdown",
   "metadata": {},
   "source": [
    "### Confusion Matrix"
   ]
  },
  {
   "cell_type": "code",
   "execution_count": 40,
   "metadata": {},
   "outputs": [],
   "source": [
    "# y_true = pd.Series(label_test, name='Actual')\n",
    "# y_pred = pd.Series(logist_y_pred[:2000], name='Predicted')\n",
    "# logist_confusion = pd.crosstab(y_true, y_pred,margins=True)\n",
    "# print(logist_confusion)\n",
    "# print(\"\\nAccuracy:\", np.mean(y_pred == y_true))\n",
    "# logist_accuracy = np.mean(y_pred == y_true)"
   ]
  },
  {
   "cell_type": "markdown",
   "metadata": {},
   "source": [
    "# Model Anaylsis"
   ]
  },
  {
   "cell_type": "markdown",
   "metadata": {},
   "source": [
    "\\begin{equation}\n",
    "    Accuracy = \\frac{TP+TN}{TP+TN+FP+FN}\n",
    "\\end{equation}"
   ]
  },
  {
   "cell_type": "code",
   "execution_count": 41,
   "metadata": {},
   "outputs": [],
   "source": [
    "# print(\"kNN Accuracy:\", knn_accuracy)\n",
    "# knn_confusion"
   ]
  },
  {
   "cell_type": "code",
   "execution_count": 42,
   "metadata": {},
   "outputs": [],
   "source": [
    "# print(\"Naive Bayes Accuracy:\", nb_accuracy)\n",
    "# nb_confusion"
   ]
  },
  {
   "cell_type": "code",
   "execution_count": 43,
   "metadata": {},
   "outputs": [],
   "source": [
    "# print(\"Multinominal Logistic Accuracy:\", logist_accuracy)\n",
    "# logist_confusion"
   ]
  },
  {
   "cell_type": "code",
   "execution_count": 44,
   "metadata": {},
   "outputs": [],
   "source": [
    "# score_comparison = pd.DataFrame({\"Train Accuracy\":[kNN_train_acc, nb_train_acc, logit_train_acc],\"Test Accuracy\":[knn_accuracy,nb_accuracy,logist_accuracy]})\n",
    "# score_comparison.index = ['kNN', 'Naive Bayes', 'Multi-Logistic']\n",
    "# score_comparison"
   ]
  },
  {
   "cell_type": "markdown",
   "metadata": {},
   "source": [
    "# Output best prediction to Output folder"
   ]
  },
  {
   "cell_type": "code",
   "execution_count": 45,
   "metadata": {},
   "outputs": [],
   "source": [
    "with h5py.File('Output/predicted_labels.h5','w') as H:\n",
    "    H.create_dataset('Output',data=y_pred)"
   ]
  },
  {
   "cell_type": "code",
   "execution_count": 46,
   "metadata": {},
   "outputs": [
    {
     "data": {
      "text/plain": [
       "0.844"
      ]
     },
     "execution_count": 46,
     "metadata": {},
     "output_type": "execute_result"
    }
   ],
   "source": []
  },
  {
   "cell_type": "code",
   "execution_count": null,
   "metadata": {},
   "outputs": [],
   "source": []
  }
 ],
 "metadata": {
  "kernelspec": {
   "display_name": "Python 3",
   "language": "python",
   "name": "python3"
  },
  "language_info": {
   "codemirror_mode": {
    "name": "ipython",
    "version": 3
   },
   "file_extension": ".py",
   "mimetype": "text/x-python",
   "name": "python",
   "nbconvert_exporter": "python",
   "pygments_lexer": "ipython3",
   "version": "3.7.4"
  }
 },
 "nbformat": 4,
 "nbformat_minor": 2
}
