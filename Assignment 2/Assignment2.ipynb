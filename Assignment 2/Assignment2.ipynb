{
  "nbformat": 4,
  "nbformat_minor": 0,
  "metadata": {
    "colab": {
      "name": "Assignment2.ipynb",
      "provenance": [],
      "collapsed_sections": []
    },
    "kernelspec": {
      "name": "python3",
      "display_name": "Python 3"
    }
  },
  "cells": [
    {
      "cell_type": "code",
      "metadata": {
        "id": "Rf8iRpQK0Gl_"
      },
      "source": [
        "import matplotlib.pyplot as plt\n",
        "import numpy as np\n",
        "import os\n",
        "import PIL\n",
        "import tensorflow as tf\n",
        "\n",
        "from tensorflow import keras\n",
        "from tensorflow.keras import datasets, layers, models\n",
        "from tensorflow.keras.models import Sequential\n",
        "from tensorflow.keras.layers import Dense, Dropout, Activation, Flatten, Conv2D, MaxPooling2D"
      ],
      "execution_count": 60,
      "outputs": []
    },
    {
      "cell_type": "code",
      "metadata": {
        "id": "x7DsJQQ90D0_"
      },
      "source": [
        "def unpickle(file):\n",
        "    import pickle\n",
        "    with open(file, 'rb') as fo:\n",
        "        cifar_dict = pickle.load(fo, encoding='bytes')\n",
        "    return cifar_dict"
      ],
      "execution_count": 2,
      "outputs": []
    },
    {
      "cell_type": "code",
      "metadata": {
        "id": "CW5CqWf60FjK",
        "outputId": "09b7e3ad-6398-4201-e179-c2dc4df78bf1",
        "colab": {
          "base_uri": "https://localhost:8080/"
        }
      },
      "source": [
        "from google.colab import drive\n",
        "drive.mount('/content/drive')\n",
        "\n",
        "meta = unpickle('/content/drive/My Drive/Colab Notebooks/cifar-100-python/meta')\n",
        "train = unpickle('/content/drive/My Drive/Colab Notebooks/cifar-100-python/train')\n",
        "test = unpickle('/content/drive/My Drive/Colab Notebooks/cifar-100-python/test')"
      ],
      "execution_count": 3,
      "outputs": [
        {
          "output_type": "stream",
          "text": [
            "Mounted at /content/drive\n"
          ],
          "name": "stdout"
        }
      ]
    },
    {
      "cell_type": "code",
      "metadata": {
        "id": "_mK06PiQ1ErK"
      },
      "source": [
        "X_train = np.asarray(train[b'data'])\n",
        "y_train = np.asarray(train[b'fine_labels'])\n",
        "X_test = np.asarray(test[b'data'])\n",
        "y_test = np.asarray(test[b'fine_labels'])\n",
        "classNames = meta[b'fine_label_names']"
      ],
      "execution_count": 89,
      "outputs": []
    },
    {
      "cell_type": "code",
      "metadata": {
        "id": "1gOlaWVFBGwi"
      },
      "source": [
        "X_train, X_test = X_train / 255.0, X_test / 255.0"
      ],
      "execution_count": 90,
      "outputs": []
    },
    {
      "cell_type": "code",
      "metadata": {
        "id": "Y6IgKnNjD80_"
      },
      "source": [
        "train_X = X_train.reshape(X_train.shape[0],32,32,3)\n",
        "test_X = X_test.reshape(X_test.shape[0],32,32,3)\n",
        "train_y = y_train.reshape(-1,1)\n",
        "test_y = y_test.reshape(-1,1)"
      ],
      "execution_count": 93,
      "outputs": []
    },
    {
      "cell_type": "code",
      "metadata": {
        "id": "f6gOqVViBGmv",
        "outputId": "eec33a7f-5676-4dc4-8fdd-b17acd340d05",
        "colab": {
          "base_uri": "https://localhost:8080/"
        }
      },
      "source": [
        "(train_images, train_labels), (test_images, test_labels) = datasets.cifar100.load_data()"
      ],
      "execution_count": 71,
      "outputs": [
        {
          "output_type": "stream",
          "text": [
            "Downloading data from https://www.cs.toronto.edu/~kriz/cifar-100-python.tar.gz\n",
            "169009152/169001437 [==============================] - 6s 0us/step\n"
          ],
          "name": "stdout"
        }
      ]
    },
    {
      "cell_type": "code",
      "metadata": {
        "id": "3r-iPmPK9LGR",
        "outputId": "27f77fa5-e330-4d52-c270-c4d7d399aea7",
        "colab": {
          "base_uri": "https://localhost:8080/"
        }
      },
      "source": [
        "model = models.Sequential()\n",
        "model.add(layers.Conv2D(32, (3, 3), activation='relu', input_shape=(32, 32, 3),use_bias=True, kernel_initializer='glorot_uniform', bias_initializer='zeros'))\n",
        "model.add(layers.MaxPooling2D((2, 2),padding='same'))\n",
        "model.add(layers.Conv2D(64, (3, 3), activation='relu'))\n",
        "model.add(layers.MaxPooling2D((2, 2)))\n",
        "#model.add(layers.Conv2D(128, (2, 2), activation='relu'))\n",
        "#model.add(layers.MaxPooling2D((2, 2)))\n",
        "model.add(layers.Flatten())\n",
        "#model.add(layers.Dense(500, activation='relu'))\n",
        "#model.add(layers.Dense(256))\n",
        "model.add(layers.Dense(100))\n",
        "\n",
        "model.summary()"
      ],
      "execution_count": 150,
      "outputs": [
        {
          "output_type": "stream",
          "text": [
            "Model: \"sequential_38\"\n",
            "_________________________________________________________________\n",
            "Layer (type)                 Output Shape              Param #   \n",
            "=================================================================\n",
            "conv2d_92 (Conv2D)           (None, 30, 30, 32)        896       \n",
            "_________________________________________________________________\n",
            "max_pooling2d_62 (MaxPooling (None, 15, 15, 32)        0         \n",
            "_________________________________________________________________\n",
            "conv2d_93 (Conv2D)           (None, 13, 13, 64)        18496     \n",
            "_________________________________________________________________\n",
            "max_pooling2d_63 (MaxPooling (None, 6, 6, 64)          0         \n",
            "_________________________________________________________________\n",
            "flatten_32 (Flatten)         (None, 2304)              0         \n",
            "_________________________________________________________________\n",
            "dense_67 (Dense)             (None, 100)               230500    \n",
            "=================================================================\n",
            "Total params: 249,892\n",
            "Trainable params: 249,892\n",
            "Non-trainable params: 0\n",
            "_________________________________________________________________\n"
          ],
          "name": "stdout"
        }
      ]
    },
    {
      "cell_type": "code",
      "metadata": {
        "id": "OxsblK3x9RJR",
        "outputId": "5e7131b9-e436-4906-9c08-38d42d425228",
        "colab": {
          "base_uri": "https://localhost:8080/"
        }
      },
      "source": [
        "model.compile(optimizer='adam',\n",
        "              loss=tf.keras.losses.SparseCategoricalCrossentropy(from_logits=True),\n",
        "              metrics=['accuracy'])\n",
        "\n",
        "history = model.fit(train_images, train_labels, epochs=10, validation_split=0.2)\n"
      ],
      "execution_count": 151,
      "outputs": [
        {
          "output_type": "stream",
          "text": [
            "Epoch 1/10\n",
            "1250/1250 [==============================] - 50s 40ms/step - loss: 4.9911 - accuracy: 0.0149 - val_loss: 4.5961 - val_accuracy: 0.0124\n",
            "Epoch 2/10\n",
            "1250/1250 [==============================] - 49s 40ms/step - loss: 4.5479 - accuracy: 0.0262 - val_loss: 4.5047 - val_accuracy: 0.0328\n",
            "Epoch 3/10\n",
            "1250/1250 [==============================] - 49s 39ms/step - loss: 4.1917 - accuracy: 0.0797 - val_loss: 3.9520 - val_accuracy: 0.1173\n",
            "Epoch 4/10\n",
            "1250/1250 [==============================] - 48s 39ms/step - loss: 3.5757 - accuracy: 0.1763 - val_loss: 3.6857 - val_accuracy: 0.1666\n",
            "Epoch 5/10\n",
            "1250/1250 [==============================] - 48s 39ms/step - loss: 3.2418 - accuracy: 0.2334 - val_loss: 3.6310 - val_accuracy: 0.1863\n",
            "Epoch 6/10\n",
            "1250/1250 [==============================] - 48s 38ms/step - loss: 3.0017 - accuracy: 0.2802 - val_loss: 3.6444 - val_accuracy: 0.2065\n",
            "Epoch 7/10\n",
            "1250/1250 [==============================] - 48s 39ms/step - loss: 2.7854 - accuracy: 0.3207 - val_loss: 3.7694 - val_accuracy: 0.2096\n",
            "Epoch 8/10\n",
            "1250/1250 [==============================] - 48s 39ms/step - loss: 2.5984 - accuracy: 0.3590 - val_loss: 3.8436 - val_accuracy: 0.2151\n",
            "Epoch 9/10\n",
            "1250/1250 [==============================] - 48s 39ms/step - loss: 2.4125 - accuracy: 0.3981 - val_loss: 4.2038 - val_accuracy: 0.2121\n",
            "Epoch 10/10\n",
            "1250/1250 [==============================] - 48s 39ms/step - loss: 2.2508 - accuracy: 0.4319 - val_loss: 4.3402 - val_accuracy: 0.2053\n"
          ],
          "name": "stdout"
        }
      ]
    }
  ]
}